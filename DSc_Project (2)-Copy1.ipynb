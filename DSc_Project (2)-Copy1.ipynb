{
 "cells": [
  {
   "cell_type": "code",
   "execution_count": 1,
   "id": "057afad7",
   "metadata": {
    "id": "057afad7"
   },
   "outputs": [],
   "source": [
    "import numpy as np\n",
    "import pandas as pd\n",
    "import matplotlib.pyplot as plt\n",
    "from sklearn.decomposition import PCA\n",
    "from sklearn.preprocessing import StandardScaler\n",
    "from sklearn.preprocessing import normalize\n",
    "from sklearn.model_selection import train_test_split\n",
    "%matplotlib inline\n",
    "import warnings\n",
    "warnings.filterwarnings(\"ignore\")\n",
    "from matplotlib.gridspec import GridSpec #data viz\n",
    "\n",
    "\n",
    "from sklearn.linear_model import LogisticRegression\n",
    "from sklearn.tree import DecisionTreeClassifier\n",
    "from sklearn.ensemble import RandomForestClassifier\n",
    "from sklearn.metrics import accuracy_score, f1_score, precision_score, recall_score\n",
    "from sklearn.metrics import confusion_matrix, roc_auc_score, roc_curve, classification_report, precision_recall_curve\n",
    "from sklearn.model_selection import train_test_split, cross_val_score, StratifiedKFold, GridSearchCV, RandomizedSearchCV\n",
    "from sklearn.preprocessing import MinMaxScaler, LabelEncoder, StandardScaler, RobustScaler\n",
    "from sklearn.ensemble import AdaBoostClassifier\n",
    "\n",
    "from sklearn.svm import SVC"
   ]
  },
  {
   "cell_type": "code",
   "execution_count": 2,
   "id": "b4beff89",
   "metadata": {
    "colab": {
     "base_uri": "https://localhost:8080/"
    },
    "id": "b4beff89",
    "outputId": "f29ffbbc-3858-4519-eff0-d02c234777da"
   },
   "outputs": [
    {
     "name": "stdout",
     "output_type": "stream",
     "text": [
      "The Nomao dataset \n",
      "\n",
      "*************************\n",
      "1. Title of the Dataset:  Nomao.data\n",
      "\n",
      "*************************\n",
      "2. Sources: \n",
      "\n",
      "(a) Original owner of database (name / phone / snail address / email address) \n",
      "Nomao / 00 33 5 62 48 33 90 / 1 avenue Jean Rieux, 31500 Toulouse / challenge@nomao.com\n",
      "\n",
      "(b) Donor of database (name / phone / snail address / email address) \n",
      "Laurent Candillier / - /  1 avenue Jean Rieux, 31500 Toulouse  / laurent@nomao.com \n",
      "\n",
      "(c) Date received (databases may change over time without name change!) \n",
      "07/02/2012 \n",
      "\n",
      "*************************\n",
      "3. Past Usage:\n",
      "\n",
      "(a) Complete reference of article where it was described/used \n",
      "\n",
      "@inproceedings{nomaochallenge-ecml,\n",
      "  author={Laurent Candillier and Vincent Lemaire},\n",
      "  title={Design and Analysis of the Nomao Challenge - Active Learning in the Real-World},\n",
      "  booktitle={Proceedings of the ALRA : Active Learning in Real-world Applications, Workshop ECML-PKDD 2012, Friday, September 28, 2012, Bristol, UK},\n",
      "  year = 2012,\n",
      "  pages={to appear}\n",
      "} \n",
      "\n",
      "See http://www.nomao.com/labs for more details.\n",
      "\n",
      "*************************\n",
      "4. Relevant Information Paragraph: \n",
      "\n",
      "Problem description : As a search engine of places, Nomao collects data coming from multiple sources on the web and aggregates them.\n",
      "The deduplication process consists in detecting what data refer to the same place.\n",
      "\n",
      "Nomao data are spots descriptions. A spot is defined by the following main features: name, address, geolocalization, website, phone, fax, ...\n",
      "Instances in the dataset are constituted of comparison features between two spots.\n",
      "\n",
      "*************************\n",
      "5. Number of Instances\n",
      "\n",
      "34,465 instances, mix of continuous and nominal, labeled by human expert.\n",
      "\n",
      "First 29,104 instances have been labeled with \"human prior\".\n",
      "See the corresponding article described in section \"3. Past Usage\" for more details.\n",
      "\n",
      "Next 917 instances have been labeled using the active learning method called \"marg\".\n",
      "Next 964 instances refer to the active method called \"wmarg\".\n",
      "Next 995 instances refer to the active method called \"wmarg5\".\n",
      "Next 1,985 instances refer to the active method called \"rand\" (random selection).\n",
      "\n",
      "Last instances have been labeled during the corresponding challenge.\n",
      "More details can be found in http://www.nomao.com/labs/challenge\n",
      "Next 163 instances refer to the active method called \"baseline\".\n",
      "Next 167 instances refer to the active method called \"nomao\".\n",
      "And last 170 instances refer to the active method called \"tsun\".\n",
      "\n",
      "*************************\n",
      "6. Number of Attributes \n",
      "\n",
      "120 attributes: 89 continuous, 31 nominal (including the attributes 'label' and 'id'). \n",
      "\n",
      "The features are separated by comma.\n",
      "\n",
      "*************************\n",
      "7. Attribute Information: \n",
      "\n",
      "Missing data are allowed, represented by question marks '?'.\n",
      "\n",
      "Labels are +1 if the concerned spots must be merged, -1 if they do not refer to the same entity.\n",
      "\n",
      "1\tid: name is composed of the names of the spots that are compared, separated by a sharp (#).\t\t\t\n",
      "2\tclean_name_intersect_min: continuous.\t\t\t\n",
      "3\tclean_name_intersect_max: continuous.\t\t\t\n",
      "4\tclean_name_levenshtein_sim: continuous.\t\t\t\n",
      "5\tclean_name_trigram_sim: continuous.\t\t\t\n",
      "6\tclean_name_levenshtein_term: continuous.\t\t\t\n",
      "7\tclean_name_trigram_term: continuous.\t\t\t\n",
      "8\tclean_name_including: n,s,m.\t\t\t\n",
      "9\tclean_name_equality: n,s,m.\t\t\t\n",
      "10\tcity_intersect_min: continuous.\t\t\t\n",
      "11\tcity_intersect_max: continuous.\t\t\t\n",
      "12\tcity_levenshtein_sim: continuous.\t\t\t\n",
      "13\tcity_trigram_sim: continuous.\t\t\t\n",
      "14\tcity_levenshtein_term: continuous.\t\t\t\n",
      "15\tcity_trigram_term: continuous.\t\t\t\n",
      "16\tcity_including: n,s,m.\t\t\t\n",
      "17\tcity_equality: n,s,m.\t\t\t\n",
      "18\tzip_intersect_min: continuous.\t\t\t\n",
      "19\tzip_intersect_max: continuous.\t\t\t\n",
      "20\tzip_levenshtein_sim: continuous.\t\t\t\n",
      "21\tzip_trigram_sim: continuous.\t\t\t\n",
      "22\tzip_levenshtein_term: continuous.\t\t\t\n",
      "23\tzip_trigram_term: continuous.\t\t\t\n",
      "24\tzip_including: n,s,m.\t\t\t\n",
      "25\tzip_equality: n,s,m.\t\t\t\n",
      "26\tstreet_intersect_min: continuous.\t\t\t\n",
      "27\tstreet_intersect_max: continuous.\t\t\t\n",
      "28\tstreet_levenshtein_sim: continuous.\t\t\t\n",
      "29\tstreet_trigram_sim: continuous.\t\t\t\n",
      "30\tstreet_levenshtein_term: continuous.\t\t\t\n",
      "31\tstreet_trigram_term: continuous.\t\t\t\n",
      "32\tstreet_including: n,s,m.\t\t\t\n",
      "33\tstreet_equality: n,s,m.\t\t\t\n",
      "34\twebsite_intersect_min: continuous.\t\t\t\n",
      "35\twebsite_intersect_max: continuous.\t\t\t\n",
      "36\twebsite_levenshtein_sim: continuous.\t\t\t\n",
      "37\twebsite_trigram_sim: continuous.\t\t\t\n",
      "38\twebsite_levenshtein_term: continuous.\t\t\t\n",
      "39\twebsite_trigram_term: continuous.\t\t\t\n",
      "40\twebsite_including: n,s,m.\t\t\t\n",
      "41\twebsite_equality: n,s,m.\t\t\t\n",
      "42\tcountryname_intersect_min: continuous.\t\t\t\n",
      "43\tcountryname_intersect_max: continuous.\t\t\t\n",
      "44\tcountryname_levenshtein_sim: continuous.\t\t\t\n",
      "45\tcountryname_trigram_sim: continuous.\t\t\t\n",
      "46\tcountryname_levenshtein_term: continuous.\t\t\t\n",
      "47\tcountryname_trigram_term: continuous.\t\t\t\n",
      "48\tcountryname_including: n,s,m.\t\t\t\n",
      "49\tcountryname_equality: n,s,m.\t\t\t\n",
      "50\tgeocoderlocalityname_intersect_min: continuous.\t\t\t\n",
      "51\tgeocoderlocalityname_intersect_max: continuous.\t\t\t\n",
      "52\tgeocoderlocalityname_levenshtein_sim: continuous.\t\t\t\n",
      "53\tgeocoderlocalityname_trigram_sim: continuous.\t\t\t\n",
      "54\tgeocoderlocalityname_levenshtein_term: continuous.\t\t\t\n",
      "55\tgeocoderlocalityname_trigram_term: continuous.\t\t\t\n",
      "56\tgeocoderlocalityname_including: n,s,m.\t\t\t\n",
      "57\tgeocoderlocalityname_equality: n,s,m.\t\t\t\n",
      "58\tgeocoderinputaddress_intersect_min: continuous.\t\t\t\n",
      "59\tgeocoderinputaddress_intersect_max: continuous.\t\t\t\n",
      "60\tgeocoderinputaddress_levenshtein_sim: continuous.\t\t\t\n",
      "61\tgeocoderinputaddress_trigram_sim: continuous.\t\t\t\n",
      "62\tgeocoderinputaddress_levenshtein_term: continuous.\t\t\t\n",
      "63\tgeocoderinputaddress_trigram_term: continuous.\t\t\t\n",
      "64\tgeocoderinputaddress_including: n,s,m.\t\t\t\n",
      "65\tgeocoderinputaddress_equality: n,s,m.\t\t\t\n",
      "66\tgeocoderoutputaddress_intersect_min: continuous.\t\t\t\n",
      "67\tgeocoderoutputaddress_intersect_max: continuous.\t\t\t\n",
      "68\tgeocoderoutputaddress_levenshtein_sim: continuous.\t\t\t\n",
      "69\tgeocoderoutputaddress_trigram_sim: continuous.\t\t\t\n",
      "70\tgeocoderoutputaddress_levenshtein_term: continuous.\t\t\t\n",
      "71\tgeocoderoutputaddress_trigram_term: continuous.\t\t\t\n",
      "72\tgeocoderoutputaddress_including: n,s,m.\t\t\t\n",
      "73\tgeocoderoutputaddress_equality: n,s,m.\t\t\t\n",
      "74\tgeocoderpostalcodenumber_intersect_min: continuous.\t\t\t\n",
      "75\tgeocoderpostalcodenumber_intersect_max: continuous.\t\t\t\n",
      "76\tgeocoderpostalcodenumber_levenshtein_sim: continuous.\t\t\t\n",
      "77\tgeocoderpostalcodenumber_trigram_sim: continuous.\t\t\t\n",
      "78\tgeocoderpostalcodenumber_levenshtein_term: continuous.\t\t\t\n",
      "79\tgeocoderpostalcodenumber_trigram_term: continuous.\t\t\t\n",
      "80\tgeocoderpostalcodenumber_including: n,s,m.\t\t\t\n",
      "81\tgeocoderpostalcodenumber_equality: n,s,m.\t\t\t\n",
      "82\tgeocodercountrynamecode_intersect_min: continuous.\t\t\t\n",
      "83\tgeocodercountrynamecode_intersect_max: continuous.\t\t\t\n",
      "84\tgeocodercountrynamecode_levenshtein_sim: continuous.\t\t\t\n",
      "85\tgeocodercountrynamecode_trigram_sim: continuous.\t\t\t\n",
      "86\tgeocodercountrynamecode_levenshtein_term: continuous.\t\t\t\n",
      "87\tgeocodercountrynamecode_trigram_term: continuous.\t\t\t\n",
      "88\tgeocodercountrynamecode_including: n,s,m.\t\t\t\n",
      "89\tgeocodercountrynamecode_equality: n,s,m.\t\t\t\n",
      "90\tphone_diff: continuous.\t\t\t\n",
      "91\tphone_levenshtein: continuous.\t\t\t\n",
      "92\tphone_trigram: continuous.\t\t\t\n",
      "93\tphone_equality: n,s,m.\t\t\t\n",
      "94\tfax_diff: continuous.\t\t\t\n",
      "95\tfax_levenshtein: continuous.\t\t\t\n",
      "96\tfax_trigram: continuous.\t\t\t\n",
      "97\tfax_equality: n,s,m.\t\t\t\n",
      "98\tstreet_number_diff: continuous.\t\t\t\n",
      "99\tstreet_number_levenshtein: continuous.\t\t\t\n",
      "100\tstreet_number_trigram: continuous.\t\t\t\n",
      "101\tstreet_number_equality: n,s,m.\t\t\t\n",
      "102\tgeocode_coordinates_long_diff: continuous.\t\t\t\n",
      "103\tgeocode_coordinates_long_levenshtein: continuous.\t\t\t\n",
      "104\tgeocode_coordinates_long_trigram: continuous.\t\t\t\n",
      "105\tgeocode_coordinates_long_equality: n,s,m.\t\t\t\n",
      "106\tgeocode_coordinates_lat_diff: continuous.\t\t\t\n",
      "107\tgeocode_coordinates_lat_levenshtein: continuous.\t\t\t\n",
      "108\tgeocode_coordinates_lat_trigram: continuous.\t\t\t\n",
      "109\tgeocode_coordinates_lat_equality: n,s,m.\t\t\t\n",
      "110\tcoordinates_long_diff: continuous.\t\t\t\n",
      "111\tcoordinates_long_levenshtein: continuous.\t\t\t\n",
      "112\tcoordinates_long_trigram: continuous.\t\t\t\n",
      "113\tcoordinates_long_equality: n,s,m.\t\t\t\n",
      "114\tcoordinates_lat_diff: continuous.\t\t\t\n",
      "115\tcoordinates_lat_levenshtein: continuous.\t\t\t\n",
      "116\tcoordinates_lat_trigram: continuous.\t\t\t\n",
      "117\tcoordinates_lat_equality: n,s,m.\t\t\t\n",
      "118\tgeocode_coordinates_diff: continuous.\t\t\t\n",
      "119\tcoordinates_diff: continuous.\t\t\t\n",
      "120\tlabel: +1,-1.\n",
      "\n",
      "*************************\n",
      "Last Updated 2 July 2012 \n",
      "Comments and questions to:\n",
      "challenge@nomao.com\n",
      "\n",
      "\n"
     ]
    }
   ],
   "source": [
    "with open(\"Nomao.names\") as f:\n",
    "    print(f.read())"
   ]
  },
  {
   "cell_type": "code",
   "execution_count": 3,
   "id": "324fcf9b",
   "metadata": {
    "id": "324fcf9b"
   },
   "outputs": [],
   "source": [
    "column_names = ['id','clean_name_intersect_min','clean_name_intersect_max','clean_name_levenshtein_sim','clean_name_trigram_sim',\n",
    "                'clean_name_levenshtein_term',\n",
    "                'clean_name_trigram_term','clean_name_including','clean_name_equality','city_intersect_min','city_intersect_max',\n",
    "                'city_levenshtein_sim','city_trigram_sim','city_levenshtein_term','city_trigram_term','city_including','city_equality'\n",
    "                ,'zip_intersect_min','zip_intersect_max','zip_levenshtein_sim','zip_trigram_sim','zip_levenshtein_term',\n",
    "                'zip_trigram_term','zip_including','zip_equality',\n",
    "                'street_intersect_min','street_intersect_max','street_levenshtein_sim','street_trigram_sim','street_levenshtein_term',\n",
    "                'street_trigram_term'\n",
    "                ,'street_including','street_equality','website_intersect_min','website_intersect_max','website_levenshtein_sim','website_trigram_sim',\n",
    "                'website_levenshtein_term','website_trigram_term','website_including','website_equality','countryname_intersect_min','countryname_intersect_max',\n",
    "                'countryname_levenshtein_sim','countryname_trigram_sim','countryname_levenshtein_term',\n",
    "                'countryname_trigram_term','countryname_including','countryname_equality','geocoderlocalityname_intersect_min','geocoderlocalityname_intersect_max',\n",
    "                'geocoderlocalityname_levenshtein_sim','geocoderlocalityname_trigram_sim','geocoderlocalityname_levenshtein_term','geocoderlocalityname_trigram_term',\n",
    "                'geocoderlocalityname_including','geocoderlocalityname_equality','geocoderinputaddress_intersect_min','geocoderinputaddress_intersect_max',\n",
    "                'geocoderinputaddress_levenshtein_sim','geocoderinputaddress_trigram_sim','geocoderinputaddress_levenshtein_term','geocoderinputaddress_trigram_term',\n",
    "                'geocoderinputaddress_including','geocoderinputaddress_equality','geocoderoutputaddress_intersect_min','geocoderoutputaddress_intersect_max',\n",
    "                'geocoderoutputaddress_levenshtein_sim','geocoderoutputaddress_trigram_sim','geocoderoutputaddress_levenshtein_term','geocoderoutputaddress_trigram_term',\n",
    "                'geocoderoutputaddress_including','geocoderoutputaddress_equality','geocoderpostalcodenumber_intersect_min','geocoderpostalcodenumber_intersect_max',\n",
    "                'geocoderpostalcodenumber_levenshtein_sim','geocoderpostalcodenumber_trigram_sim','geocoderpostalcodenumber_levenshtein_term','geocoderpostalcodenumber_trigram_term',\n",
    "                'geocoderpostalcodenumber_including','geocoderpostalcodenumber_equality','geocodercountrynamecode_intersect_min','geocodercountrynamecode_intersect_max',\n",
    "                'geocodercountrynamecode_levenshtein_sim','geocodercountrynamecode_trigram_sim','geocodercountrynamecode_levenshtein_term','geocodercountrynamecode_trigram_term',\n",
    "                'geocodercountrynamecode_including','geocodercountrynamecode_equality','phone_diff','phone_levenshtein','phone_trigram','phone_equality','fax_diff','fax_levenshtein',\n",
    "                'fax_trigram','fax_equality','street_number_diff','street_number_levenshtein','street_number_trigram','street_number_equality','geocode_coordinates_long_diff',\n",
    "                'geocode_coordinates_long_levenshtein','geocode_coordinates_long_trigram','geocode_coordinates_long_equality','geocode_coordinates_lat_diff',\n",
    "                'geocode_coordinates_lat_levenshtein','geocode_coordinates_lat_trigram',\n",
    "                'geocode_coordinates_lat_equality','coordinates_long_diff','coordinates_long_levenshtein','coordinates_long_trigram',\n",
    "                'coordinates_long_equality','coordinates_lat_diff','coordinates_lat_levenshtein','coordinates_lat_trigram',\n",
    "                'coordinates_lat_equality','geocode_coordinates_diff','coordinates_diff','label']"
   ]
  },
  {
   "cell_type": "code",
   "execution_count": 4,
   "id": "38e86eff",
   "metadata": {
    "id": "38e86eff"
   },
   "outputs": [],
   "source": [
    "df = pd.read_csv('Nomao.data',names=column_names,low_memory=False)"
   ]
  },
  {
   "cell_type": "code",
   "execution_count": 5,
   "id": "970b0e77",
   "metadata": {
    "colab": {
     "base_uri": "https://localhost:8080/",
     "height": 444
    },
    "id": "970b0e77",
    "outputId": "3f85d708-2017-46c2-9340-5927d002dd57"
   },
   "outputs": [
    {
     "data": {
      "text/html": [
       "<div>\n",
       "<style scoped>\n",
       "    .dataframe tbody tr th:only-of-type {\n",
       "        vertical-align: middle;\n",
       "    }\n",
       "\n",
       "    .dataframe tbody tr th {\n",
       "        vertical-align: top;\n",
       "    }\n",
       "\n",
       "    .dataframe thead th {\n",
       "        text-align: right;\n",
       "    }\n",
       "</style>\n",
       "<table border=\"1\" class=\"dataframe\">\n",
       "  <thead>\n",
       "    <tr style=\"text-align: right;\">\n",
       "      <th></th>\n",
       "      <th>id</th>\n",
       "      <th>clean_name_intersect_min</th>\n",
       "      <th>clean_name_intersect_max</th>\n",
       "      <th>clean_name_levenshtein_sim</th>\n",
       "      <th>clean_name_trigram_sim</th>\n",
       "      <th>clean_name_levenshtein_term</th>\n",
       "      <th>clean_name_trigram_term</th>\n",
       "      <th>clean_name_including</th>\n",
       "      <th>clean_name_equality</th>\n",
       "      <th>city_intersect_min</th>\n",
       "      <th>...</th>\n",
       "      <th>coordinates_long_levenshtein</th>\n",
       "      <th>coordinates_long_trigram</th>\n",
       "      <th>coordinates_long_equality</th>\n",
       "      <th>coordinates_lat_diff</th>\n",
       "      <th>coordinates_lat_levenshtein</th>\n",
       "      <th>coordinates_lat_trigram</th>\n",
       "      <th>coordinates_lat_equality</th>\n",
       "      <th>geocode_coordinates_diff</th>\n",
       "      <th>coordinates_diff</th>\n",
       "      <th>label</th>\n",
       "    </tr>\n",
       "  </thead>\n",
       "  <tbody>\n",
       "    <tr>\n",
       "      <th>0</th>\n",
       "      <td>0#1</td>\n",
       "      <td>1.000000</td>\n",
       "      <td>1.000000</td>\n",
       "      <td>1.000000</td>\n",
       "      <td>1.000000</td>\n",
       "      <td>1.000000</td>\n",
       "      <td>1.000000</td>\n",
       "      <td>s</td>\n",
       "      <td>s</td>\n",
       "      <td>?</td>\n",
       "      <td>...</td>\n",
       "      <td>0.75</td>\n",
       "      <td>0.5</td>\n",
       "      <td>n</td>\n",
       "      <td>0.999953002209</td>\n",
       "      <td>0.777777777778</td>\n",
       "      <td>0.461538463831</td>\n",
       "      <td>n</td>\n",
       "      <td>1.0</td>\n",
       "      <td>0.999999996702</td>\n",
       "      <td>1</td>\n",
       "    </tr>\n",
       "    <tr>\n",
       "      <th>1</th>\n",
       "      <td>0#2</td>\n",
       "      <td>1.000000</td>\n",
       "      <td>0.750000</td>\n",
       "      <td>0.857143</td>\n",
       "      <td>0.857143</td>\n",
       "      <td>0.894737</td>\n",
       "      <td>0.947368</td>\n",
       "      <td>s</td>\n",
       "      <td>n</td>\n",
       "      <td>?</td>\n",
       "      <td>...</td>\n",
       "      <td>0.5</td>\n",
       "      <td>0.307692319155</td>\n",
       "      <td>n</td>\n",
       "      <td>0.999982921892</td>\n",
       "      <td>0.538461538462</td>\n",
       "      <td>0.4375</td>\n",
       "      <td>n</td>\n",
       "      <td>1.0</td>\n",
       "      <td>0.999999962459</td>\n",
       "      <td>1</td>\n",
       "    </tr>\n",
       "    <tr>\n",
       "      <th>2</th>\n",
       "      <td>0#3</td>\n",
       "      <td>1.000000</td>\n",
       "      <td>1.000000</td>\n",
       "      <td>1.000000</td>\n",
       "      <td>1.000000</td>\n",
       "      <td>1.000000</td>\n",
       "      <td>1.000000</td>\n",
       "      <td>s</td>\n",
       "      <td>s</td>\n",
       "      <td>?</td>\n",
       "      <td>...</td>\n",
       "      <td>0.666666666667</td>\n",
       "      <td>0.461538463831</td>\n",
       "      <td>n</td>\n",
       "      <td>0.999992600055</td>\n",
       "      <td>0.8</td>\n",
       "      <td>0.666666686535</td>\n",
       "      <td>n</td>\n",
       "      <td>1.0</td>\n",
       "      <td>0.999999999653</td>\n",
       "      <td>1</td>\n",
       "    </tr>\n",
       "    <tr>\n",
       "      <th>3</th>\n",
       "      <td>4#5</td>\n",
       "      <td>1.000000</td>\n",
       "      <td>0.750000</td>\n",
       "      <td>0.857143</td>\n",
       "      <td>0.857143</td>\n",
       "      <td>0.842105</td>\n",
       "      <td>0.833333</td>\n",
       "      <td>s</td>\n",
       "      <td>n</td>\n",
       "      <td>1</td>\n",
       "      <td>...</td>\n",
       "      <td>0.5</td>\n",
       "      <td>0.285714298487</td>\n",
       "      <td>n</td>\n",
       "      <td>0.998604948886</td>\n",
       "      <td>0.555555555556</td>\n",
       "      <td>0.384615391493</td>\n",
       "      <td>n</td>\n",
       "      <td>0.999999947284</td>\n",
       "      <td>0.999994124065</td>\n",
       "      <td>1</td>\n",
       "    </tr>\n",
       "    <tr>\n",
       "      <th>4</th>\n",
       "      <td>6#7</td>\n",
       "      <td>0.000000</td>\n",
       "      <td>0.000000</td>\n",
       "      <td>0.250000</td>\n",
       "      <td>0.000000</td>\n",
       "      <td>0.250000</td>\n",
       "      <td>0.000000</td>\n",
       "      <td>n</td>\n",
       "      <td>n</td>\n",
       "      <td>?</td>\n",
       "      <td>...</td>\n",
       "      <td>?</td>\n",
       "      <td>?</td>\n",
       "      <td>m</td>\n",
       "      <td>?</td>\n",
       "      <td>?</td>\n",
       "      <td>?</td>\n",
       "      <td>m</td>\n",
       "      <td>1.0</td>\n",
       "      <td>?</td>\n",
       "      <td>1</td>\n",
       "    </tr>\n",
       "    <tr>\n",
       "      <th>...</th>\n",
       "      <td>...</td>\n",
       "      <td>...</td>\n",
       "      <td>...</td>\n",
       "      <td>...</td>\n",
       "      <td>...</td>\n",
       "      <td>...</td>\n",
       "      <td>...</td>\n",
       "      <td>...</td>\n",
       "      <td>...</td>\n",
       "      <td>...</td>\n",
       "      <td>...</td>\n",
       "      <td>...</td>\n",
       "      <td>...</td>\n",
       "      <td>...</td>\n",
       "      <td>...</td>\n",
       "      <td>...</td>\n",
       "      <td>...</td>\n",
       "      <td>...</td>\n",
       "      <td>...</td>\n",
       "      <td>...</td>\n",
       "      <td>...</td>\n",
       "    </tr>\n",
       "    <tr>\n",
       "      <th>34460</th>\n",
       "      <td>505442#638600</td>\n",
       "      <td>0.333333</td>\n",
       "      <td>0.333333</td>\n",
       "      <td>0.455026</td>\n",
       "      <td>0.352941</td>\n",
       "      <td>0.222222</td>\n",
       "      <td>0.125000</td>\n",
       "      <td>n</td>\n",
       "      <td>n</td>\n",
       "      <td>0</td>\n",
       "      <td>...</td>\n",
       "      <td>0.222222222222</td>\n",
       "      <td>0.190476194024</td>\n",
       "      <td>n</td>\n",
       "      <td>0.999685099194</td>\n",
       "      <td>0.722222222222</td>\n",
       "      <td>0.272727280855</td>\n",
       "      <td>n</td>\n",
       "      <td>0.999996735202</td>\n",
       "      <td>0.999995759568</td>\n",
       "      <td>-1</td>\n",
       "    </tr>\n",
       "    <tr>\n",
       "      <th>34461</th>\n",
       "      <td>40886#102945</td>\n",
       "      <td>0.000000</td>\n",
       "      <td>0.000000</td>\n",
       "      <td>0.041667</td>\n",
       "      <td>0.000000</td>\n",
       "      <td>0.142857</td>\n",
       "      <td>0.000000</td>\n",
       "      <td>n</td>\n",
       "      <td>n</td>\n",
       "      <td>1</td>\n",
       "      <td>...</td>\n",
       "      <td>0.777777777778</td>\n",
       "      <td>0.300000011921</td>\n",
       "      <td>n</td>\n",
       "      <td>0.999745065008</td>\n",
       "      <td>0.388888888889</td>\n",
       "      <td>0.333333343267</td>\n",
       "      <td>n</td>\n",
       "      <td>0.999999932864</td>\n",
       "      <td>0.999999929934</td>\n",
       "      <td>-1</td>\n",
       "    </tr>\n",
       "    <tr>\n",
       "      <th>34462</th>\n",
       "      <td>710009#742141</td>\n",
       "      <td>0.000000</td>\n",
       "      <td>0.000000</td>\n",
       "      <td>0.312500</td>\n",
       "      <td>0.037037</td>\n",
       "      <td>0.200000</td>\n",
       "      <td>0.027027</td>\n",
       "      <td>n</td>\n",
       "      <td>n</td>\n",
       "      <td>?</td>\n",
       "      <td>...</td>\n",
       "      <td>?</td>\n",
       "      <td>?</td>\n",
       "      <td>m</td>\n",
       "      <td>?</td>\n",
       "      <td>?</td>\n",
       "      <td>?</td>\n",
       "      <td>m</td>\n",
       "      <td>1.0</td>\n",
       "      <td>?</td>\n",
       "      <td>1</td>\n",
       "    </tr>\n",
       "    <tr>\n",
       "      <th>34463</th>\n",
       "      <td>319905#884876</td>\n",
       "      <td>0.500000</td>\n",
       "      <td>0.200000</td>\n",
       "      <td>0.414966</td>\n",
       "      <td>0.309524</td>\n",
       "      <td>0.312500</td>\n",
       "      <td>0.179487</td>\n",
       "      <td>n</td>\n",
       "      <td>n</td>\n",
       "      <td>?</td>\n",
       "      <td>...</td>\n",
       "      <td>?</td>\n",
       "      <td>?</td>\n",
       "      <td>m</td>\n",
       "      <td>?</td>\n",
       "      <td>?</td>\n",
       "      <td>?</td>\n",
       "      <td>m</td>\n",
       "      <td>0.999130880032</td>\n",
       "      <td>?</td>\n",
       "      <td>1</td>\n",
       "    </tr>\n",
       "    <tr>\n",
       "      <th>34464</th>\n",
       "      <td>470877#601304</td>\n",
       "      <td>0.500000</td>\n",
       "      <td>0.333333</td>\n",
       "      <td>0.511111</td>\n",
       "      <td>0.433333</td>\n",
       "      <td>0.500000</td>\n",
       "      <td>0.370370</td>\n",
       "      <td>n</td>\n",
       "      <td>n</td>\n",
       "      <td>1</td>\n",
       "      <td>...</td>\n",
       "      <td>?</td>\n",
       "      <td>?</td>\n",
       "      <td>m</td>\n",
       "      <td>?</td>\n",
       "      <td>?</td>\n",
       "      <td>?</td>\n",
       "      <td>m</td>\n",
       "      <td>1.0</td>\n",
       "      <td>?</td>\n",
       "      <td>-1</td>\n",
       "    </tr>\n",
       "  </tbody>\n",
       "</table>\n",
       "<p>34465 rows × 120 columns</p>\n",
       "</div>"
      ],
      "text/plain": [
       "                  id  clean_name_intersect_min  clean_name_intersect_max  \\\n",
       "0                0#1                  1.000000                  1.000000   \n",
       "1                0#2                  1.000000                  0.750000   \n",
       "2                0#3                  1.000000                  1.000000   \n",
       "3                4#5                  1.000000                  0.750000   \n",
       "4                6#7                  0.000000                  0.000000   \n",
       "...              ...                       ...                       ...   \n",
       "34460  505442#638600                  0.333333                  0.333333   \n",
       "34461   40886#102945                  0.000000                  0.000000   \n",
       "34462  710009#742141                  0.000000                  0.000000   \n",
       "34463  319905#884876                  0.500000                  0.200000   \n",
       "34464  470877#601304                  0.500000                  0.333333   \n",
       "\n",
       "       clean_name_levenshtein_sim  clean_name_trigram_sim  \\\n",
       "0                        1.000000                1.000000   \n",
       "1                        0.857143                0.857143   \n",
       "2                        1.000000                1.000000   \n",
       "3                        0.857143                0.857143   \n",
       "4                        0.250000                0.000000   \n",
       "...                           ...                     ...   \n",
       "34460                    0.455026                0.352941   \n",
       "34461                    0.041667                0.000000   \n",
       "34462                    0.312500                0.037037   \n",
       "34463                    0.414966                0.309524   \n",
       "34464                    0.511111                0.433333   \n",
       "\n",
       "       clean_name_levenshtein_term  clean_name_trigram_term  \\\n",
       "0                         1.000000                 1.000000   \n",
       "1                         0.894737                 0.947368   \n",
       "2                         1.000000                 1.000000   \n",
       "3                         0.842105                 0.833333   \n",
       "4                         0.250000                 0.000000   \n",
       "...                            ...                      ...   \n",
       "34460                     0.222222                 0.125000   \n",
       "34461                     0.142857                 0.000000   \n",
       "34462                     0.200000                 0.027027   \n",
       "34463                     0.312500                 0.179487   \n",
       "34464                     0.500000                 0.370370   \n",
       "\n",
       "      clean_name_including clean_name_equality city_intersect_min  ...  \\\n",
       "0                        s                   s                  ?  ...   \n",
       "1                        s                   n                  ?  ...   \n",
       "2                        s                   s                  ?  ...   \n",
       "3                        s                   n                  1  ...   \n",
       "4                        n                   n                  ?  ...   \n",
       "...                    ...                 ...                ...  ...   \n",
       "34460                    n                   n                  0  ...   \n",
       "34461                    n                   n                  1  ...   \n",
       "34462                    n                   n                  ?  ...   \n",
       "34463                    n                   n                  ?  ...   \n",
       "34464                    n                   n                  1  ...   \n",
       "\n",
       "      coordinates_long_levenshtein coordinates_long_trigram  \\\n",
       "0                             0.75                      0.5   \n",
       "1                              0.5           0.307692319155   \n",
       "2                   0.666666666667           0.461538463831   \n",
       "3                              0.5           0.285714298487   \n",
       "4                                ?                        ?   \n",
       "...                            ...                      ...   \n",
       "34460               0.222222222222           0.190476194024   \n",
       "34461               0.777777777778           0.300000011921   \n",
       "34462                            ?                        ?   \n",
       "34463                            ?                        ?   \n",
       "34464                            ?                        ?   \n",
       "\n",
       "      coordinates_long_equality coordinates_lat_diff  \\\n",
       "0                             n       0.999953002209   \n",
       "1                             n       0.999982921892   \n",
       "2                             n       0.999992600055   \n",
       "3                             n       0.998604948886   \n",
       "4                             m                    ?   \n",
       "...                         ...                  ...   \n",
       "34460                         n       0.999685099194   \n",
       "34461                         n       0.999745065008   \n",
       "34462                         m                    ?   \n",
       "34463                         m                    ?   \n",
       "34464                         m                    ?   \n",
       "\n",
       "      coordinates_lat_levenshtein coordinates_lat_trigram  \\\n",
       "0                  0.777777777778          0.461538463831   \n",
       "1                  0.538461538462                  0.4375   \n",
       "2                             0.8          0.666666686535   \n",
       "3                  0.555555555556          0.384615391493   \n",
       "4                               ?                       ?   \n",
       "...                           ...                     ...   \n",
       "34460              0.722222222222          0.272727280855   \n",
       "34461              0.388888888889          0.333333343267   \n",
       "34462                           ?                       ?   \n",
       "34463                           ?                       ?   \n",
       "34464                           ?                       ?   \n",
       "\n",
       "      coordinates_lat_equality geocode_coordinates_diff coordinates_diff label  \n",
       "0                            n                      1.0   0.999999996702     1  \n",
       "1                            n                      1.0   0.999999962459     1  \n",
       "2                            n                      1.0   0.999999999653     1  \n",
       "3                            n           0.999999947284   0.999994124065     1  \n",
       "4                            m                      1.0                ?     1  \n",
       "...                        ...                      ...              ...   ...  \n",
       "34460                        n           0.999996735202   0.999995759568    -1  \n",
       "34461                        n           0.999999932864   0.999999929934    -1  \n",
       "34462                        m                      1.0                ?     1  \n",
       "34463                        m           0.999130880032                ?     1  \n",
       "34464                        m                      1.0                ?    -1  \n",
       "\n",
       "[34465 rows x 120 columns]"
      ]
     },
     "execution_count": 5,
     "metadata": {},
     "output_type": "execute_result"
    }
   ],
   "source": [
    "df"
   ]
  },
  {
   "cell_type": "code",
   "execution_count": 6,
   "id": "2c5cec58",
   "metadata": {
    "id": "2c5cec58"
   },
   "outputs": [],
   "source": [
    "question_mark_counts_per_column = (df == '?').sum()"
   ]
  },
  {
   "cell_type": "code",
   "execution_count": 7,
   "id": "41374ddc",
   "metadata": {
    "id": "41374ddc"
   },
   "outputs": [],
   "source": [
    "question_mark_counts_per_column.to_csv('missing2.csv')"
   ]
  },
  {
   "cell_type": "code",
   "execution_count": 8,
   "id": "74a503fe",
   "metadata": {
    "id": "74a503fe"
   },
   "outputs": [],
   "source": [
    "df.replace('?', np.nan, inplace=True)"
   ]
  },
  {
   "cell_type": "code",
   "execution_count": 9,
   "id": "8a9f8a12",
   "metadata": {
    "colab": {
     "base_uri": "https://localhost:8080/",
     "height": 444
    },
    "id": "8a9f8a12",
    "outputId": "f97da226-0c61-414f-d241-f4855157aeee"
   },
   "outputs": [
    {
     "data": {
      "text/html": [
       "<div>\n",
       "<style scoped>\n",
       "    .dataframe tbody tr th:only-of-type {\n",
       "        vertical-align: middle;\n",
       "    }\n",
       "\n",
       "    .dataframe tbody tr th {\n",
       "        vertical-align: top;\n",
       "    }\n",
       "\n",
       "    .dataframe thead th {\n",
       "        text-align: right;\n",
       "    }\n",
       "</style>\n",
       "<table border=\"1\" class=\"dataframe\">\n",
       "  <thead>\n",
       "    <tr style=\"text-align: right;\">\n",
       "      <th></th>\n",
       "      <th>id</th>\n",
       "      <th>clean_name_intersect_min</th>\n",
       "      <th>clean_name_intersect_max</th>\n",
       "      <th>clean_name_levenshtein_sim</th>\n",
       "      <th>clean_name_trigram_sim</th>\n",
       "      <th>clean_name_levenshtein_term</th>\n",
       "      <th>clean_name_trigram_term</th>\n",
       "      <th>clean_name_including</th>\n",
       "      <th>clean_name_equality</th>\n",
       "      <th>city_intersect_min</th>\n",
       "      <th>...</th>\n",
       "      <th>coordinates_long_levenshtein</th>\n",
       "      <th>coordinates_long_trigram</th>\n",
       "      <th>coordinates_long_equality</th>\n",
       "      <th>coordinates_lat_diff</th>\n",
       "      <th>coordinates_lat_levenshtein</th>\n",
       "      <th>coordinates_lat_trigram</th>\n",
       "      <th>coordinates_lat_equality</th>\n",
       "      <th>geocode_coordinates_diff</th>\n",
       "      <th>coordinates_diff</th>\n",
       "      <th>label</th>\n",
       "    </tr>\n",
       "  </thead>\n",
       "  <tbody>\n",
       "    <tr>\n",
       "      <th>0</th>\n",
       "      <td>0#1</td>\n",
       "      <td>1.000000</td>\n",
       "      <td>1.000000</td>\n",
       "      <td>1.000000</td>\n",
       "      <td>1.000000</td>\n",
       "      <td>1.000000</td>\n",
       "      <td>1.000000</td>\n",
       "      <td>s</td>\n",
       "      <td>s</td>\n",
       "      <td>NaN</td>\n",
       "      <td>...</td>\n",
       "      <td>0.75</td>\n",
       "      <td>0.5</td>\n",
       "      <td>n</td>\n",
       "      <td>0.999953002209</td>\n",
       "      <td>0.777777777778</td>\n",
       "      <td>0.461538463831</td>\n",
       "      <td>n</td>\n",
       "      <td>1.0</td>\n",
       "      <td>0.999999996702</td>\n",
       "      <td>1</td>\n",
       "    </tr>\n",
       "    <tr>\n",
       "      <th>1</th>\n",
       "      <td>0#2</td>\n",
       "      <td>1.000000</td>\n",
       "      <td>0.750000</td>\n",
       "      <td>0.857143</td>\n",
       "      <td>0.857143</td>\n",
       "      <td>0.894737</td>\n",
       "      <td>0.947368</td>\n",
       "      <td>s</td>\n",
       "      <td>n</td>\n",
       "      <td>NaN</td>\n",
       "      <td>...</td>\n",
       "      <td>0.5</td>\n",
       "      <td>0.307692319155</td>\n",
       "      <td>n</td>\n",
       "      <td>0.999982921892</td>\n",
       "      <td>0.538461538462</td>\n",
       "      <td>0.4375</td>\n",
       "      <td>n</td>\n",
       "      <td>1.0</td>\n",
       "      <td>0.999999962459</td>\n",
       "      <td>1</td>\n",
       "    </tr>\n",
       "    <tr>\n",
       "      <th>2</th>\n",
       "      <td>0#3</td>\n",
       "      <td>1.000000</td>\n",
       "      <td>1.000000</td>\n",
       "      <td>1.000000</td>\n",
       "      <td>1.000000</td>\n",
       "      <td>1.000000</td>\n",
       "      <td>1.000000</td>\n",
       "      <td>s</td>\n",
       "      <td>s</td>\n",
       "      <td>NaN</td>\n",
       "      <td>...</td>\n",
       "      <td>0.666666666667</td>\n",
       "      <td>0.461538463831</td>\n",
       "      <td>n</td>\n",
       "      <td>0.999992600055</td>\n",
       "      <td>0.8</td>\n",
       "      <td>0.666666686535</td>\n",
       "      <td>n</td>\n",
       "      <td>1.0</td>\n",
       "      <td>0.999999999653</td>\n",
       "      <td>1</td>\n",
       "    </tr>\n",
       "    <tr>\n",
       "      <th>3</th>\n",
       "      <td>4#5</td>\n",
       "      <td>1.000000</td>\n",
       "      <td>0.750000</td>\n",
       "      <td>0.857143</td>\n",
       "      <td>0.857143</td>\n",
       "      <td>0.842105</td>\n",
       "      <td>0.833333</td>\n",
       "      <td>s</td>\n",
       "      <td>n</td>\n",
       "      <td>1</td>\n",
       "      <td>...</td>\n",
       "      <td>0.5</td>\n",
       "      <td>0.285714298487</td>\n",
       "      <td>n</td>\n",
       "      <td>0.998604948886</td>\n",
       "      <td>0.555555555556</td>\n",
       "      <td>0.384615391493</td>\n",
       "      <td>n</td>\n",
       "      <td>0.999999947284</td>\n",
       "      <td>0.999994124065</td>\n",
       "      <td>1</td>\n",
       "    </tr>\n",
       "    <tr>\n",
       "      <th>4</th>\n",
       "      <td>6#7</td>\n",
       "      <td>0.000000</td>\n",
       "      <td>0.000000</td>\n",
       "      <td>0.250000</td>\n",
       "      <td>0.000000</td>\n",
       "      <td>0.250000</td>\n",
       "      <td>0.000000</td>\n",
       "      <td>n</td>\n",
       "      <td>n</td>\n",
       "      <td>NaN</td>\n",
       "      <td>...</td>\n",
       "      <td>NaN</td>\n",
       "      <td>NaN</td>\n",
       "      <td>m</td>\n",
       "      <td>NaN</td>\n",
       "      <td>NaN</td>\n",
       "      <td>NaN</td>\n",
       "      <td>m</td>\n",
       "      <td>1.0</td>\n",
       "      <td>NaN</td>\n",
       "      <td>1</td>\n",
       "    </tr>\n",
       "    <tr>\n",
       "      <th>...</th>\n",
       "      <td>...</td>\n",
       "      <td>...</td>\n",
       "      <td>...</td>\n",
       "      <td>...</td>\n",
       "      <td>...</td>\n",
       "      <td>...</td>\n",
       "      <td>...</td>\n",
       "      <td>...</td>\n",
       "      <td>...</td>\n",
       "      <td>...</td>\n",
       "      <td>...</td>\n",
       "      <td>...</td>\n",
       "      <td>...</td>\n",
       "      <td>...</td>\n",
       "      <td>...</td>\n",
       "      <td>...</td>\n",
       "      <td>...</td>\n",
       "      <td>...</td>\n",
       "      <td>...</td>\n",
       "      <td>...</td>\n",
       "      <td>...</td>\n",
       "    </tr>\n",
       "    <tr>\n",
       "      <th>34460</th>\n",
       "      <td>505442#638600</td>\n",
       "      <td>0.333333</td>\n",
       "      <td>0.333333</td>\n",
       "      <td>0.455026</td>\n",
       "      <td>0.352941</td>\n",
       "      <td>0.222222</td>\n",
       "      <td>0.125000</td>\n",
       "      <td>n</td>\n",
       "      <td>n</td>\n",
       "      <td>0</td>\n",
       "      <td>...</td>\n",
       "      <td>0.222222222222</td>\n",
       "      <td>0.190476194024</td>\n",
       "      <td>n</td>\n",
       "      <td>0.999685099194</td>\n",
       "      <td>0.722222222222</td>\n",
       "      <td>0.272727280855</td>\n",
       "      <td>n</td>\n",
       "      <td>0.999996735202</td>\n",
       "      <td>0.999995759568</td>\n",
       "      <td>-1</td>\n",
       "    </tr>\n",
       "    <tr>\n",
       "      <th>34461</th>\n",
       "      <td>40886#102945</td>\n",
       "      <td>0.000000</td>\n",
       "      <td>0.000000</td>\n",
       "      <td>0.041667</td>\n",
       "      <td>0.000000</td>\n",
       "      <td>0.142857</td>\n",
       "      <td>0.000000</td>\n",
       "      <td>n</td>\n",
       "      <td>n</td>\n",
       "      <td>1</td>\n",
       "      <td>...</td>\n",
       "      <td>0.777777777778</td>\n",
       "      <td>0.300000011921</td>\n",
       "      <td>n</td>\n",
       "      <td>0.999745065008</td>\n",
       "      <td>0.388888888889</td>\n",
       "      <td>0.333333343267</td>\n",
       "      <td>n</td>\n",
       "      <td>0.999999932864</td>\n",
       "      <td>0.999999929934</td>\n",
       "      <td>-1</td>\n",
       "    </tr>\n",
       "    <tr>\n",
       "      <th>34462</th>\n",
       "      <td>710009#742141</td>\n",
       "      <td>0.000000</td>\n",
       "      <td>0.000000</td>\n",
       "      <td>0.312500</td>\n",
       "      <td>0.037037</td>\n",
       "      <td>0.200000</td>\n",
       "      <td>0.027027</td>\n",
       "      <td>n</td>\n",
       "      <td>n</td>\n",
       "      <td>NaN</td>\n",
       "      <td>...</td>\n",
       "      <td>NaN</td>\n",
       "      <td>NaN</td>\n",
       "      <td>m</td>\n",
       "      <td>NaN</td>\n",
       "      <td>NaN</td>\n",
       "      <td>NaN</td>\n",
       "      <td>m</td>\n",
       "      <td>1.0</td>\n",
       "      <td>NaN</td>\n",
       "      <td>1</td>\n",
       "    </tr>\n",
       "    <tr>\n",
       "      <th>34463</th>\n",
       "      <td>319905#884876</td>\n",
       "      <td>0.500000</td>\n",
       "      <td>0.200000</td>\n",
       "      <td>0.414966</td>\n",
       "      <td>0.309524</td>\n",
       "      <td>0.312500</td>\n",
       "      <td>0.179487</td>\n",
       "      <td>n</td>\n",
       "      <td>n</td>\n",
       "      <td>NaN</td>\n",
       "      <td>...</td>\n",
       "      <td>NaN</td>\n",
       "      <td>NaN</td>\n",
       "      <td>m</td>\n",
       "      <td>NaN</td>\n",
       "      <td>NaN</td>\n",
       "      <td>NaN</td>\n",
       "      <td>m</td>\n",
       "      <td>0.999130880032</td>\n",
       "      <td>NaN</td>\n",
       "      <td>1</td>\n",
       "    </tr>\n",
       "    <tr>\n",
       "      <th>34464</th>\n",
       "      <td>470877#601304</td>\n",
       "      <td>0.500000</td>\n",
       "      <td>0.333333</td>\n",
       "      <td>0.511111</td>\n",
       "      <td>0.433333</td>\n",
       "      <td>0.500000</td>\n",
       "      <td>0.370370</td>\n",
       "      <td>n</td>\n",
       "      <td>n</td>\n",
       "      <td>1</td>\n",
       "      <td>...</td>\n",
       "      <td>NaN</td>\n",
       "      <td>NaN</td>\n",
       "      <td>m</td>\n",
       "      <td>NaN</td>\n",
       "      <td>NaN</td>\n",
       "      <td>NaN</td>\n",
       "      <td>m</td>\n",
       "      <td>1.0</td>\n",
       "      <td>NaN</td>\n",
       "      <td>-1</td>\n",
       "    </tr>\n",
       "  </tbody>\n",
       "</table>\n",
       "<p>34465 rows × 120 columns</p>\n",
       "</div>"
      ],
      "text/plain": [
       "                  id  clean_name_intersect_min  clean_name_intersect_max  \\\n",
       "0                0#1                  1.000000                  1.000000   \n",
       "1                0#2                  1.000000                  0.750000   \n",
       "2                0#3                  1.000000                  1.000000   \n",
       "3                4#5                  1.000000                  0.750000   \n",
       "4                6#7                  0.000000                  0.000000   \n",
       "...              ...                       ...                       ...   \n",
       "34460  505442#638600                  0.333333                  0.333333   \n",
       "34461   40886#102945                  0.000000                  0.000000   \n",
       "34462  710009#742141                  0.000000                  0.000000   \n",
       "34463  319905#884876                  0.500000                  0.200000   \n",
       "34464  470877#601304                  0.500000                  0.333333   \n",
       "\n",
       "       clean_name_levenshtein_sim  clean_name_trigram_sim  \\\n",
       "0                        1.000000                1.000000   \n",
       "1                        0.857143                0.857143   \n",
       "2                        1.000000                1.000000   \n",
       "3                        0.857143                0.857143   \n",
       "4                        0.250000                0.000000   \n",
       "...                           ...                     ...   \n",
       "34460                    0.455026                0.352941   \n",
       "34461                    0.041667                0.000000   \n",
       "34462                    0.312500                0.037037   \n",
       "34463                    0.414966                0.309524   \n",
       "34464                    0.511111                0.433333   \n",
       "\n",
       "       clean_name_levenshtein_term  clean_name_trigram_term  \\\n",
       "0                         1.000000                 1.000000   \n",
       "1                         0.894737                 0.947368   \n",
       "2                         1.000000                 1.000000   \n",
       "3                         0.842105                 0.833333   \n",
       "4                         0.250000                 0.000000   \n",
       "...                            ...                      ...   \n",
       "34460                     0.222222                 0.125000   \n",
       "34461                     0.142857                 0.000000   \n",
       "34462                     0.200000                 0.027027   \n",
       "34463                     0.312500                 0.179487   \n",
       "34464                     0.500000                 0.370370   \n",
       "\n",
       "      clean_name_including clean_name_equality city_intersect_min  ...  \\\n",
       "0                        s                   s                NaN  ...   \n",
       "1                        s                   n                NaN  ...   \n",
       "2                        s                   s                NaN  ...   \n",
       "3                        s                   n                  1  ...   \n",
       "4                        n                   n                NaN  ...   \n",
       "...                    ...                 ...                ...  ...   \n",
       "34460                    n                   n                  0  ...   \n",
       "34461                    n                   n                  1  ...   \n",
       "34462                    n                   n                NaN  ...   \n",
       "34463                    n                   n                NaN  ...   \n",
       "34464                    n                   n                  1  ...   \n",
       "\n",
       "      coordinates_long_levenshtein coordinates_long_trigram  \\\n",
       "0                             0.75                      0.5   \n",
       "1                              0.5           0.307692319155   \n",
       "2                   0.666666666667           0.461538463831   \n",
       "3                              0.5           0.285714298487   \n",
       "4                              NaN                      NaN   \n",
       "...                            ...                      ...   \n",
       "34460               0.222222222222           0.190476194024   \n",
       "34461               0.777777777778           0.300000011921   \n",
       "34462                          NaN                      NaN   \n",
       "34463                          NaN                      NaN   \n",
       "34464                          NaN                      NaN   \n",
       "\n",
       "      coordinates_long_equality coordinates_lat_diff  \\\n",
       "0                             n       0.999953002209   \n",
       "1                             n       0.999982921892   \n",
       "2                             n       0.999992600055   \n",
       "3                             n       0.998604948886   \n",
       "4                             m                  NaN   \n",
       "...                         ...                  ...   \n",
       "34460                         n       0.999685099194   \n",
       "34461                         n       0.999745065008   \n",
       "34462                         m                  NaN   \n",
       "34463                         m                  NaN   \n",
       "34464                         m                  NaN   \n",
       "\n",
       "      coordinates_lat_levenshtein coordinates_lat_trigram  \\\n",
       "0                  0.777777777778          0.461538463831   \n",
       "1                  0.538461538462                  0.4375   \n",
       "2                             0.8          0.666666686535   \n",
       "3                  0.555555555556          0.384615391493   \n",
       "4                             NaN                     NaN   \n",
       "...                           ...                     ...   \n",
       "34460              0.722222222222          0.272727280855   \n",
       "34461              0.388888888889          0.333333343267   \n",
       "34462                         NaN                     NaN   \n",
       "34463                         NaN                     NaN   \n",
       "34464                         NaN                     NaN   \n",
       "\n",
       "      coordinates_lat_equality geocode_coordinates_diff coordinates_diff label  \n",
       "0                            n                      1.0   0.999999996702     1  \n",
       "1                            n                      1.0   0.999999962459     1  \n",
       "2                            n                      1.0   0.999999999653     1  \n",
       "3                            n           0.999999947284   0.999994124065     1  \n",
       "4                            m                      1.0              NaN     1  \n",
       "...                        ...                      ...              ...   ...  \n",
       "34460                        n           0.999996735202   0.999995759568    -1  \n",
       "34461                        n           0.999999932864   0.999999929934    -1  \n",
       "34462                        m                      1.0              NaN     1  \n",
       "34463                        m           0.999130880032              NaN     1  \n",
       "34464                        m                      1.0              NaN    -1  \n",
       "\n",
       "[34465 rows x 120 columns]"
      ]
     },
     "execution_count": 9,
     "metadata": {},
     "output_type": "execute_result"
    }
   ],
   "source": [
    "df"
   ]
  },
  {
   "cell_type": "code",
   "execution_count": 10,
   "id": "8aab7f4b",
   "metadata": {
    "id": "8aab7f4b"
   },
   "outputs": [],
   "source": [
    "id_column = df['id']\n",
    "labels = df['label']\n",
    "if 'id' in df.columns:\n",
    "    # Remove the 'id' column and update the DataFrame in-place\n",
    "    df.drop(columns=['id'], inplace=True)"
   ]
  },
  {
   "cell_type": "code",
   "execution_count": 11,
   "id": "e72d21e4",
   "metadata": {
    "colab": {
     "base_uri": "https://localhost:8080/",
     "height": 256
    },
    "id": "e72d21e4",
    "outputId": "34029235-591c-4428-8ec3-f213dbb9916c"
   },
   "outputs": [
    {
     "data": {
      "text/html": [
       "<div>\n",
       "<style scoped>\n",
       "    .dataframe tbody tr th:only-of-type {\n",
       "        vertical-align: middle;\n",
       "    }\n",
       "\n",
       "    .dataframe tbody tr th {\n",
       "        vertical-align: top;\n",
       "    }\n",
       "\n",
       "    .dataframe thead th {\n",
       "        text-align: right;\n",
       "    }\n",
       "</style>\n",
       "<table border=\"1\" class=\"dataframe\">\n",
       "  <thead>\n",
       "    <tr style=\"text-align: right;\">\n",
       "      <th></th>\n",
       "      <th>clean_name_intersect_min</th>\n",
       "      <th>clean_name_intersect_max</th>\n",
       "      <th>clean_name_levenshtein_sim</th>\n",
       "      <th>clean_name_trigram_sim</th>\n",
       "      <th>clean_name_levenshtein_term</th>\n",
       "      <th>clean_name_trigram_term</th>\n",
       "      <th>clean_name_including</th>\n",
       "      <th>clean_name_equality</th>\n",
       "      <th>city_intersect_min</th>\n",
       "      <th>city_intersect_max</th>\n",
       "      <th>...</th>\n",
       "      <th>coordinates_long_levenshtein</th>\n",
       "      <th>coordinates_long_trigram</th>\n",
       "      <th>coordinates_long_equality</th>\n",
       "      <th>coordinates_lat_diff</th>\n",
       "      <th>coordinates_lat_levenshtein</th>\n",
       "      <th>coordinates_lat_trigram</th>\n",
       "      <th>coordinates_lat_equality</th>\n",
       "      <th>geocode_coordinates_diff</th>\n",
       "      <th>coordinates_diff</th>\n",
       "      <th>label</th>\n",
       "    </tr>\n",
       "  </thead>\n",
       "  <tbody>\n",
       "    <tr>\n",
       "      <th>0</th>\n",
       "      <td>1.0</td>\n",
       "      <td>1.00</td>\n",
       "      <td>1.000000</td>\n",
       "      <td>1.000000</td>\n",
       "      <td>1.000000</td>\n",
       "      <td>1.000000</td>\n",
       "      <td>s</td>\n",
       "      <td>s</td>\n",
       "      <td>NaN</td>\n",
       "      <td>NaN</td>\n",
       "      <td>...</td>\n",
       "      <td>0.75</td>\n",
       "      <td>0.5</td>\n",
       "      <td>n</td>\n",
       "      <td>0.999953002209</td>\n",
       "      <td>0.777777777778</td>\n",
       "      <td>0.461538463831</td>\n",
       "      <td>n</td>\n",
       "      <td>1.0</td>\n",
       "      <td>0.999999996702</td>\n",
       "      <td>1</td>\n",
       "    </tr>\n",
       "    <tr>\n",
       "      <th>1</th>\n",
       "      <td>1.0</td>\n",
       "      <td>0.75</td>\n",
       "      <td>0.857143</td>\n",
       "      <td>0.857143</td>\n",
       "      <td>0.894737</td>\n",
       "      <td>0.947368</td>\n",
       "      <td>s</td>\n",
       "      <td>n</td>\n",
       "      <td>NaN</td>\n",
       "      <td>NaN</td>\n",
       "      <td>...</td>\n",
       "      <td>0.5</td>\n",
       "      <td>0.307692319155</td>\n",
       "      <td>n</td>\n",
       "      <td>0.999982921892</td>\n",
       "      <td>0.538461538462</td>\n",
       "      <td>0.4375</td>\n",
       "      <td>n</td>\n",
       "      <td>1.0</td>\n",
       "      <td>0.999999962459</td>\n",
       "      <td>1</td>\n",
       "    </tr>\n",
       "    <tr>\n",
       "      <th>2</th>\n",
       "      <td>1.0</td>\n",
       "      <td>1.00</td>\n",
       "      <td>1.000000</td>\n",
       "      <td>1.000000</td>\n",
       "      <td>1.000000</td>\n",
       "      <td>1.000000</td>\n",
       "      <td>s</td>\n",
       "      <td>s</td>\n",
       "      <td>NaN</td>\n",
       "      <td>NaN</td>\n",
       "      <td>...</td>\n",
       "      <td>0.666666666667</td>\n",
       "      <td>0.461538463831</td>\n",
       "      <td>n</td>\n",
       "      <td>0.999992600055</td>\n",
       "      <td>0.8</td>\n",
       "      <td>0.666666686535</td>\n",
       "      <td>n</td>\n",
       "      <td>1.0</td>\n",
       "      <td>0.999999999653</td>\n",
       "      <td>1</td>\n",
       "    </tr>\n",
       "    <tr>\n",
       "      <th>3</th>\n",
       "      <td>1.0</td>\n",
       "      <td>0.75</td>\n",
       "      <td>0.857143</td>\n",
       "      <td>0.857143</td>\n",
       "      <td>0.842105</td>\n",
       "      <td>0.833333</td>\n",
       "      <td>s</td>\n",
       "      <td>n</td>\n",
       "      <td>1</td>\n",
       "      <td>1</td>\n",
       "      <td>...</td>\n",
       "      <td>0.5</td>\n",
       "      <td>0.285714298487</td>\n",
       "      <td>n</td>\n",
       "      <td>0.998604948886</td>\n",
       "      <td>0.555555555556</td>\n",
       "      <td>0.384615391493</td>\n",
       "      <td>n</td>\n",
       "      <td>0.999999947284</td>\n",
       "      <td>0.999994124065</td>\n",
       "      <td>1</td>\n",
       "    </tr>\n",
       "    <tr>\n",
       "      <th>4</th>\n",
       "      <td>0.0</td>\n",
       "      <td>0.00</td>\n",
       "      <td>0.250000</td>\n",
       "      <td>0.000000</td>\n",
       "      <td>0.250000</td>\n",
       "      <td>0.000000</td>\n",
       "      <td>n</td>\n",
       "      <td>n</td>\n",
       "      <td>NaN</td>\n",
       "      <td>NaN</td>\n",
       "      <td>...</td>\n",
       "      <td>NaN</td>\n",
       "      <td>NaN</td>\n",
       "      <td>m</td>\n",
       "      <td>NaN</td>\n",
       "      <td>NaN</td>\n",
       "      <td>NaN</td>\n",
       "      <td>m</td>\n",
       "      <td>1.0</td>\n",
       "      <td>NaN</td>\n",
       "      <td>1</td>\n",
       "    </tr>\n",
       "  </tbody>\n",
       "</table>\n",
       "<p>5 rows × 119 columns</p>\n",
       "</div>"
      ],
      "text/plain": [
       "   clean_name_intersect_min  clean_name_intersect_max  \\\n",
       "0                       1.0                      1.00   \n",
       "1                       1.0                      0.75   \n",
       "2                       1.0                      1.00   \n",
       "3                       1.0                      0.75   \n",
       "4                       0.0                      0.00   \n",
       "\n",
       "   clean_name_levenshtein_sim  clean_name_trigram_sim  \\\n",
       "0                    1.000000                1.000000   \n",
       "1                    0.857143                0.857143   \n",
       "2                    1.000000                1.000000   \n",
       "3                    0.857143                0.857143   \n",
       "4                    0.250000                0.000000   \n",
       "\n",
       "   clean_name_levenshtein_term  clean_name_trigram_term clean_name_including  \\\n",
       "0                     1.000000                 1.000000                    s   \n",
       "1                     0.894737                 0.947368                    s   \n",
       "2                     1.000000                 1.000000                    s   \n",
       "3                     0.842105                 0.833333                    s   \n",
       "4                     0.250000                 0.000000                    n   \n",
       "\n",
       "  clean_name_equality city_intersect_min city_intersect_max  ...  \\\n",
       "0                   s                NaN                NaN  ...   \n",
       "1                   n                NaN                NaN  ...   \n",
       "2                   s                NaN                NaN  ...   \n",
       "3                   n                  1                  1  ...   \n",
       "4                   n                NaN                NaN  ...   \n",
       "\n",
       "  coordinates_long_levenshtein coordinates_long_trigram  \\\n",
       "0                         0.75                      0.5   \n",
       "1                          0.5           0.307692319155   \n",
       "2               0.666666666667           0.461538463831   \n",
       "3                          0.5           0.285714298487   \n",
       "4                          NaN                      NaN   \n",
       "\n",
       "  coordinates_long_equality coordinates_lat_diff coordinates_lat_levenshtein  \\\n",
       "0                         n       0.999953002209              0.777777777778   \n",
       "1                         n       0.999982921892              0.538461538462   \n",
       "2                         n       0.999992600055                         0.8   \n",
       "3                         n       0.998604948886              0.555555555556   \n",
       "4                         m                  NaN                         NaN   \n",
       "\n",
       "  coordinates_lat_trigram coordinates_lat_equality geocode_coordinates_diff  \\\n",
       "0          0.461538463831                        n                      1.0   \n",
       "1                  0.4375                        n                      1.0   \n",
       "2          0.666666686535                        n                      1.0   \n",
       "3          0.384615391493                        n           0.999999947284   \n",
       "4                     NaN                        m                      1.0   \n",
       "\n",
       "  coordinates_diff label  \n",
       "0   0.999999996702     1  \n",
       "1   0.999999962459     1  \n",
       "2   0.999999999653     1  \n",
       "3   0.999994124065     1  \n",
       "4              NaN     1  \n",
       "\n",
       "[5 rows x 119 columns]"
      ]
     },
     "execution_count": 11,
     "metadata": {},
     "output_type": "execute_result"
    }
   ],
   "source": [
    "df.head()"
   ]
  },
  {
   "cell_type": "code",
   "execution_count": 12,
   "id": "50b795d8",
   "metadata": {
    "id": "50b795d8"
   },
   "outputs": [],
   "source": [
    "# List of column names to be removed ( more than 60 % datapoints are missing)\n",
    "columns_to_remove = ['city_intersect_min','city_intersect_max','city_levenshtein_sim','city_trigram_sim','city_levenshtein_term',\n",
    "                     'city_trigram_term','zip_intersect_max','zip_levenshtein_sim',\n",
    "                     'zip_trigram_sim','zip_levenshtein_term','zip_trigram_term','street_intersect_min','street_intersect_max',\n",
    "                     'street_levenshtein_sim','street_trigram_sim','street_levenshtein_term',\n",
    "                'street_trigram_term','website_intersect_min','website_intersect_max','website_levenshtein_sim','website_trigram_sim',\n",
    "                     'website_levenshtein_term','website_trigram_term','countryname_intersect_min','countryname_intersect_max',\n",
    "                     'countryname_levenshtein_sim','countryname_trigram_sim','countryname_levenshtein_term','phone_diff',\n",
    "                     'phone_levenshtein','phone_trigram','fax_diff','fax_levenshtein','fax_trigram','coordinates_long_diff','coordinates_long_levenshtein',\n",
    "                     'coordinates_long_trigram','coordinates_lat_diff','coordinates_lat_levenshtein','coordinates_lat_trigram','coordinates_diff']"
   ]
  },
  {
   "cell_type": "code",
   "execution_count": 13,
   "id": "167e589c",
   "metadata": {
    "id": "167e589c"
   },
   "outputs": [],
   "source": [
    "df.drop(columns=columns_to_remove, inplace=True)"
   ]
  },
  {
   "cell_type": "code",
   "execution_count": 14,
   "id": "4c66986a",
   "metadata": {
    "colab": {
     "base_uri": "https://localhost:8080/",
     "height": 256
    },
    "id": "4c66986a",
    "outputId": "498941d2-bb8d-4e95-e10d-73a40ff8cc02"
   },
   "outputs": [
    {
     "data": {
      "text/html": [
       "<div>\n",
       "<style scoped>\n",
       "    .dataframe tbody tr th:only-of-type {\n",
       "        vertical-align: middle;\n",
       "    }\n",
       "\n",
       "    .dataframe tbody tr th {\n",
       "        vertical-align: top;\n",
       "    }\n",
       "\n",
       "    .dataframe thead th {\n",
       "        text-align: right;\n",
       "    }\n",
       "</style>\n",
       "<table border=\"1\" class=\"dataframe\">\n",
       "  <thead>\n",
       "    <tr style=\"text-align: right;\">\n",
       "      <th></th>\n",
       "      <th>clean_name_intersect_min</th>\n",
       "      <th>clean_name_intersect_max</th>\n",
       "      <th>clean_name_levenshtein_sim</th>\n",
       "      <th>clean_name_trigram_sim</th>\n",
       "      <th>clean_name_levenshtein_term</th>\n",
       "      <th>clean_name_trigram_term</th>\n",
       "      <th>clean_name_including</th>\n",
       "      <th>clean_name_equality</th>\n",
       "      <th>city_including</th>\n",
       "      <th>city_equality</th>\n",
       "      <th>...</th>\n",
       "      <th>geocode_coordinates_long_trigram</th>\n",
       "      <th>geocode_coordinates_long_equality</th>\n",
       "      <th>geocode_coordinates_lat_diff</th>\n",
       "      <th>geocode_coordinates_lat_levenshtein</th>\n",
       "      <th>geocode_coordinates_lat_trigram</th>\n",
       "      <th>geocode_coordinates_lat_equality</th>\n",
       "      <th>coordinates_long_equality</th>\n",
       "      <th>coordinates_lat_equality</th>\n",
       "      <th>geocode_coordinates_diff</th>\n",
       "      <th>label</th>\n",
       "    </tr>\n",
       "  </thead>\n",
       "  <tbody>\n",
       "    <tr>\n",
       "      <th>0</th>\n",
       "      <td>1.0</td>\n",
       "      <td>1.00</td>\n",
       "      <td>1.000000</td>\n",
       "      <td>1.000000</td>\n",
       "      <td>1.000000</td>\n",
       "      <td>1.000000</td>\n",
       "      <td>s</td>\n",
       "      <td>s</td>\n",
       "      <td>m</td>\n",
       "      <td>m</td>\n",
       "      <td>...</td>\n",
       "      <td>1.0</td>\n",
       "      <td>s</td>\n",
       "      <td>1.0</td>\n",
       "      <td>1.0</td>\n",
       "      <td>1.0</td>\n",
       "      <td>s</td>\n",
       "      <td>n</td>\n",
       "      <td>n</td>\n",
       "      <td>1.0</td>\n",
       "      <td>1</td>\n",
       "    </tr>\n",
       "    <tr>\n",
       "      <th>1</th>\n",
       "      <td>1.0</td>\n",
       "      <td>0.75</td>\n",
       "      <td>0.857143</td>\n",
       "      <td>0.857143</td>\n",
       "      <td>0.894737</td>\n",
       "      <td>0.947368</td>\n",
       "      <td>s</td>\n",
       "      <td>n</td>\n",
       "      <td>m</td>\n",
       "      <td>m</td>\n",
       "      <td>...</td>\n",
       "      <td>1.0</td>\n",
       "      <td>s</td>\n",
       "      <td>1.0</td>\n",
       "      <td>1.0</td>\n",
       "      <td>1.0</td>\n",
       "      <td>s</td>\n",
       "      <td>n</td>\n",
       "      <td>n</td>\n",
       "      <td>1.0</td>\n",
       "      <td>1</td>\n",
       "    </tr>\n",
       "    <tr>\n",
       "      <th>2</th>\n",
       "      <td>1.0</td>\n",
       "      <td>1.00</td>\n",
       "      <td>1.000000</td>\n",
       "      <td>1.000000</td>\n",
       "      <td>1.000000</td>\n",
       "      <td>1.000000</td>\n",
       "      <td>s</td>\n",
       "      <td>s</td>\n",
       "      <td>m</td>\n",
       "      <td>m</td>\n",
       "      <td>...</td>\n",
       "      <td>1.0</td>\n",
       "      <td>s</td>\n",
       "      <td>1.0</td>\n",
       "      <td>1.0</td>\n",
       "      <td>1.0</td>\n",
       "      <td>s</td>\n",
       "      <td>n</td>\n",
       "      <td>n</td>\n",
       "      <td>1.0</td>\n",
       "      <td>1</td>\n",
       "    </tr>\n",
       "    <tr>\n",
       "      <th>3</th>\n",
       "      <td>1.0</td>\n",
       "      <td>0.75</td>\n",
       "      <td>0.857143</td>\n",
       "      <td>0.857143</td>\n",
       "      <td>0.842105</td>\n",
       "      <td>0.833333</td>\n",
       "      <td>s</td>\n",
       "      <td>n</td>\n",
       "      <td>s</td>\n",
       "      <td>s</td>\n",
       "      <td>...</td>\n",
       "      <td>0.333333343267</td>\n",
       "      <td>n</td>\n",
       "      <td>0.999961801459</td>\n",
       "      <td>0.5</td>\n",
       "      <td>0.29411765933</td>\n",
       "      <td>n</td>\n",
       "      <td>n</td>\n",
       "      <td>n</td>\n",
       "      <td>0.999999947284</td>\n",
       "      <td>1</td>\n",
       "    </tr>\n",
       "    <tr>\n",
       "      <th>4</th>\n",
       "      <td>0.0</td>\n",
       "      <td>0.00</td>\n",
       "      <td>0.250000</td>\n",
       "      <td>0.000000</td>\n",
       "      <td>0.250000</td>\n",
       "      <td>0.000000</td>\n",
       "      <td>n</td>\n",
       "      <td>n</td>\n",
       "      <td>m</td>\n",
       "      <td>m</td>\n",
       "      <td>...</td>\n",
       "      <td>1.0</td>\n",
       "      <td>s</td>\n",
       "      <td>1.0</td>\n",
       "      <td>1.0</td>\n",
       "      <td>1.0</td>\n",
       "      <td>s</td>\n",
       "      <td>m</td>\n",
       "      <td>m</td>\n",
       "      <td>1.0</td>\n",
       "      <td>1</td>\n",
       "    </tr>\n",
       "  </tbody>\n",
       "</table>\n",
       "<p>5 rows × 78 columns</p>\n",
       "</div>"
      ],
      "text/plain": [
       "   clean_name_intersect_min  clean_name_intersect_max  \\\n",
       "0                       1.0                      1.00   \n",
       "1                       1.0                      0.75   \n",
       "2                       1.0                      1.00   \n",
       "3                       1.0                      0.75   \n",
       "4                       0.0                      0.00   \n",
       "\n",
       "   clean_name_levenshtein_sim  clean_name_trigram_sim  \\\n",
       "0                    1.000000                1.000000   \n",
       "1                    0.857143                0.857143   \n",
       "2                    1.000000                1.000000   \n",
       "3                    0.857143                0.857143   \n",
       "4                    0.250000                0.000000   \n",
       "\n",
       "   clean_name_levenshtein_term  clean_name_trigram_term clean_name_including  \\\n",
       "0                     1.000000                 1.000000                    s   \n",
       "1                     0.894737                 0.947368                    s   \n",
       "2                     1.000000                 1.000000                    s   \n",
       "3                     0.842105                 0.833333                    s   \n",
       "4                     0.250000                 0.000000                    n   \n",
       "\n",
       "  clean_name_equality city_including city_equality  ...  \\\n",
       "0                   s              m             m  ...   \n",
       "1                   n              m             m  ...   \n",
       "2                   s              m             m  ...   \n",
       "3                   n              s             s  ...   \n",
       "4                   n              m             m  ...   \n",
       "\n",
       "  geocode_coordinates_long_trigram geocode_coordinates_long_equality  \\\n",
       "0                              1.0                                 s   \n",
       "1                              1.0                                 s   \n",
       "2                              1.0                                 s   \n",
       "3                   0.333333343267                                 n   \n",
       "4                              1.0                                 s   \n",
       "\n",
       "  geocode_coordinates_lat_diff geocode_coordinates_lat_levenshtein  \\\n",
       "0                          1.0                                 1.0   \n",
       "1                          1.0                                 1.0   \n",
       "2                          1.0                                 1.0   \n",
       "3               0.999961801459                                 0.5   \n",
       "4                          1.0                                 1.0   \n",
       "\n",
       "  geocode_coordinates_lat_trigram geocode_coordinates_lat_equality  \\\n",
       "0                             1.0                                s   \n",
       "1                             1.0                                s   \n",
       "2                             1.0                                s   \n",
       "3                   0.29411765933                                n   \n",
       "4                             1.0                                s   \n",
       "\n",
       "  coordinates_long_equality coordinates_lat_equality geocode_coordinates_diff  \\\n",
       "0                         n                        n                      1.0   \n",
       "1                         n                        n                      1.0   \n",
       "2                         n                        n                      1.0   \n",
       "3                         n                        n           0.999999947284   \n",
       "4                         m                        m                      1.0   \n",
       "\n",
       "  label  \n",
       "0     1  \n",
       "1     1  \n",
       "2     1  \n",
       "3     1  \n",
       "4     1  \n",
       "\n",
       "[5 rows x 78 columns]"
      ]
     },
     "execution_count": 14,
     "metadata": {},
     "output_type": "execute_result"
    }
   ],
   "source": [
    "df.head()"
   ]
  },
  {
   "cell_type": "code",
   "execution_count": 15,
   "id": "207736c8",
   "metadata": {
    "id": "207736c8"
   },
   "outputs": [],
   "source": [
    "df.to_csv('deleting.csv')"
   ]
  },
  {
   "cell_type": "code",
   "execution_count": 16,
   "id": "186a8696",
   "metadata": {
    "id": "186a8696"
   },
   "outputs": [],
   "source": [
    "df.dtypes.to_csv('dtype.csv')"
   ]
  },
  {
   "cell_type": "code",
   "execution_count": 17,
   "id": "35db16e7",
   "metadata": {
    "id": "35db16e7"
   },
   "outputs": [],
   "source": [
    "# Apply one-hot encoding to the 'category' column\n",
    "df_encoded = pd.get_dummies(df, columns=['clean_name_including','clean_name_equality','city_including','city_equality',\n",
    "                                         'zip_including','zip_equality','street_including','street_equality','website_including',\n",
    "                                         'website_equality','countryname_including',\n",
    "                                         'countryname_equality','geocoderinputaddress_including','geocoderlocalityname_including',\n",
    "                                         'geocoderlocalityname_equality','geocoderinputaddress_equality',\n",
    "                                        'geocoderoutputaddress_including','geocoderoutputaddress_equality',\n",
    "                                         'geocoderpostalcodenumber_including','geocoderpostalcodenumber_equality',\n",
    "                                         'geocodercountrynamecode_including','geocodercountrynamecode_equality',\n",
    "                                         'phone_equality','fax_equality','street_number_equality','geocode_coordinates_long_equality',\n",
    "                                         'geocode_coordinates_lat_equality','coordinates_long_equality','coordinates_lat_equality'\n",
    "                                        ])"
   ]
  },
  {
   "cell_type": "code",
   "execution_count": 18,
   "id": "702f10e4",
   "metadata": {
    "id": "702f10e4"
   },
   "outputs": [],
   "source": [
    "df_encoded.to_csv('r3.csv')"
   ]
  },
  {
   "cell_type": "code",
   "execution_count": 19,
   "id": "f1f95f9d",
   "metadata": {
    "colab": {
     "base_uri": "https://localhost:8080/",
     "height": 444
    },
    "id": "f1f95f9d",
    "outputId": "b6a9adbb-4025-4675-9d3d-4f1ca5a1c20c"
   },
   "outputs": [
    {
     "data": {
      "text/html": [
       "<div>\n",
       "<style scoped>\n",
       "    .dataframe tbody tr th:only-of-type {\n",
       "        vertical-align: middle;\n",
       "    }\n",
       "\n",
       "    .dataframe tbody tr th {\n",
       "        vertical-align: top;\n",
       "    }\n",
       "\n",
       "    .dataframe thead th {\n",
       "        text-align: right;\n",
       "    }\n",
       "</style>\n",
       "<table border=\"1\" class=\"dataframe\">\n",
       "  <thead>\n",
       "    <tr style=\"text-align: right;\">\n",
       "      <th></th>\n",
       "      <th>clean_name_intersect_min</th>\n",
       "      <th>clean_name_intersect_max</th>\n",
       "      <th>clean_name_levenshtein_sim</th>\n",
       "      <th>clean_name_trigram_sim</th>\n",
       "      <th>clean_name_levenshtein_term</th>\n",
       "      <th>clean_name_trigram_term</th>\n",
       "      <th>zip_intersect_min</th>\n",
       "      <th>countryname_trigram_term</th>\n",
       "      <th>geocoderlocalityname_intersect_min</th>\n",
       "      <th>geocoderlocalityname_intersect_max</th>\n",
       "      <th>...</th>\n",
       "      <th>geocode_coordinates_long_equality_s</th>\n",
       "      <th>geocode_coordinates_lat_equality_m</th>\n",
       "      <th>geocode_coordinates_lat_equality_n</th>\n",
       "      <th>geocode_coordinates_lat_equality_s</th>\n",
       "      <th>coordinates_long_equality_m</th>\n",
       "      <th>coordinates_long_equality_n</th>\n",
       "      <th>coordinates_long_equality_s</th>\n",
       "      <th>coordinates_lat_equality_m</th>\n",
       "      <th>coordinates_lat_equality_n</th>\n",
       "      <th>coordinates_lat_equality_s</th>\n",
       "    </tr>\n",
       "  </thead>\n",
       "  <tbody>\n",
       "    <tr>\n",
       "      <th>0</th>\n",
       "      <td>1.000000</td>\n",
       "      <td>1.000000</td>\n",
       "      <td>1.000000</td>\n",
       "      <td>1.000000</td>\n",
       "      <td>1.000000</td>\n",
       "      <td>1.000000</td>\n",
       "      <td>NaN</td>\n",
       "      <td>NaN</td>\n",
       "      <td>1</td>\n",
       "      <td>1</td>\n",
       "      <td>...</td>\n",
       "      <td>True</td>\n",
       "      <td>False</td>\n",
       "      <td>False</td>\n",
       "      <td>True</td>\n",
       "      <td>False</td>\n",
       "      <td>True</td>\n",
       "      <td>False</td>\n",
       "      <td>False</td>\n",
       "      <td>True</td>\n",
       "      <td>False</td>\n",
       "    </tr>\n",
       "    <tr>\n",
       "      <th>1</th>\n",
       "      <td>1.000000</td>\n",
       "      <td>0.750000</td>\n",
       "      <td>0.857143</td>\n",
       "      <td>0.857143</td>\n",
       "      <td>0.894737</td>\n",
       "      <td>0.947368</td>\n",
       "      <td>NaN</td>\n",
       "      <td>NaN</td>\n",
       "      <td>1</td>\n",
       "      <td>1</td>\n",
       "      <td>...</td>\n",
       "      <td>True</td>\n",
       "      <td>False</td>\n",
       "      <td>False</td>\n",
       "      <td>True</td>\n",
       "      <td>False</td>\n",
       "      <td>True</td>\n",
       "      <td>False</td>\n",
       "      <td>False</td>\n",
       "      <td>True</td>\n",
       "      <td>False</td>\n",
       "    </tr>\n",
       "    <tr>\n",
       "      <th>2</th>\n",
       "      <td>1.000000</td>\n",
       "      <td>1.000000</td>\n",
       "      <td>1.000000</td>\n",
       "      <td>1.000000</td>\n",
       "      <td>1.000000</td>\n",
       "      <td>1.000000</td>\n",
       "      <td>NaN</td>\n",
       "      <td>NaN</td>\n",
       "      <td>1</td>\n",
       "      <td>1</td>\n",
       "      <td>...</td>\n",
       "      <td>True</td>\n",
       "      <td>False</td>\n",
       "      <td>False</td>\n",
       "      <td>True</td>\n",
       "      <td>False</td>\n",
       "      <td>True</td>\n",
       "      <td>False</td>\n",
       "      <td>False</td>\n",
       "      <td>True</td>\n",
       "      <td>False</td>\n",
       "    </tr>\n",
       "    <tr>\n",
       "      <th>3</th>\n",
       "      <td>1.000000</td>\n",
       "      <td>0.750000</td>\n",
       "      <td>0.857143</td>\n",
       "      <td>0.857143</td>\n",
       "      <td>0.842105</td>\n",
       "      <td>0.833333</td>\n",
       "      <td>1</td>\n",
       "      <td>NaN</td>\n",
       "      <td>1</td>\n",
       "      <td>1</td>\n",
       "      <td>...</td>\n",
       "      <td>False</td>\n",
       "      <td>False</td>\n",
       "      <td>True</td>\n",
       "      <td>False</td>\n",
       "      <td>False</td>\n",
       "      <td>True</td>\n",
       "      <td>False</td>\n",
       "      <td>False</td>\n",
       "      <td>True</td>\n",
       "      <td>False</td>\n",
       "    </tr>\n",
       "    <tr>\n",
       "      <th>4</th>\n",
       "      <td>0.000000</td>\n",
       "      <td>0.000000</td>\n",
       "      <td>0.250000</td>\n",
       "      <td>0.000000</td>\n",
       "      <td>0.250000</td>\n",
       "      <td>0.000000</td>\n",
       "      <td>NaN</td>\n",
       "      <td>NaN</td>\n",
       "      <td>1</td>\n",
       "      <td>1</td>\n",
       "      <td>...</td>\n",
       "      <td>True</td>\n",
       "      <td>False</td>\n",
       "      <td>False</td>\n",
       "      <td>True</td>\n",
       "      <td>True</td>\n",
       "      <td>False</td>\n",
       "      <td>False</td>\n",
       "      <td>True</td>\n",
       "      <td>False</td>\n",
       "      <td>False</td>\n",
       "    </tr>\n",
       "    <tr>\n",
       "      <th>...</th>\n",
       "      <td>...</td>\n",
       "      <td>...</td>\n",
       "      <td>...</td>\n",
       "      <td>...</td>\n",
       "      <td>...</td>\n",
       "      <td>...</td>\n",
       "      <td>...</td>\n",
       "      <td>...</td>\n",
       "      <td>...</td>\n",
       "      <td>...</td>\n",
       "      <td>...</td>\n",
       "      <td>...</td>\n",
       "      <td>...</td>\n",
       "      <td>...</td>\n",
       "      <td>...</td>\n",
       "      <td>...</td>\n",
       "      <td>...</td>\n",
       "      <td>...</td>\n",
       "      <td>...</td>\n",
       "      <td>...</td>\n",
       "      <td>...</td>\n",
       "    </tr>\n",
       "    <tr>\n",
       "      <th>34460</th>\n",
       "      <td>0.333333</td>\n",
       "      <td>0.333333</td>\n",
       "      <td>0.455026</td>\n",
       "      <td>0.352941</td>\n",
       "      <td>0.222222</td>\n",
       "      <td>0.125000</td>\n",
       "      <td>0</td>\n",
       "      <td>NaN</td>\n",
       "      <td>0</td>\n",
       "      <td>0</td>\n",
       "      <td>...</td>\n",
       "      <td>False</td>\n",
       "      <td>False</td>\n",
       "      <td>True</td>\n",
       "      <td>False</td>\n",
       "      <td>False</td>\n",
       "      <td>True</td>\n",
       "      <td>False</td>\n",
       "      <td>False</td>\n",
       "      <td>True</td>\n",
       "      <td>False</td>\n",
       "    </tr>\n",
       "    <tr>\n",
       "      <th>34461</th>\n",
       "      <td>0.000000</td>\n",
       "      <td>0.000000</td>\n",
       "      <td>0.041667</td>\n",
       "      <td>0.000000</td>\n",
       "      <td>0.142857</td>\n",
       "      <td>0.000000</td>\n",
       "      <td>NaN</td>\n",
       "      <td>NaN</td>\n",
       "      <td>1</td>\n",
       "      <td>1</td>\n",
       "      <td>...</td>\n",
       "      <td>False</td>\n",
       "      <td>False</td>\n",
       "      <td>True</td>\n",
       "      <td>False</td>\n",
       "      <td>False</td>\n",
       "      <td>True</td>\n",
       "      <td>False</td>\n",
       "      <td>False</td>\n",
       "      <td>True</td>\n",
       "      <td>False</td>\n",
       "    </tr>\n",
       "    <tr>\n",
       "      <th>34462</th>\n",
       "      <td>0.000000</td>\n",
       "      <td>0.000000</td>\n",
       "      <td>0.312500</td>\n",
       "      <td>0.037037</td>\n",
       "      <td>0.200000</td>\n",
       "      <td>0.027027</td>\n",
       "      <td>NaN</td>\n",
       "      <td>NaN</td>\n",
       "      <td>1</td>\n",
       "      <td>1</td>\n",
       "      <td>...</td>\n",
       "      <td>True</td>\n",
       "      <td>False</td>\n",
       "      <td>False</td>\n",
       "      <td>True</td>\n",
       "      <td>True</td>\n",
       "      <td>False</td>\n",
       "      <td>False</td>\n",
       "      <td>True</td>\n",
       "      <td>False</td>\n",
       "      <td>False</td>\n",
       "    </tr>\n",
       "    <tr>\n",
       "      <th>34463</th>\n",
       "      <td>0.500000</td>\n",
       "      <td>0.200000</td>\n",
       "      <td>0.414966</td>\n",
       "      <td>0.309524</td>\n",
       "      <td>0.312500</td>\n",
       "      <td>0.179487</td>\n",
       "      <td>NaN</td>\n",
       "      <td>NaN</td>\n",
       "      <td>0</td>\n",
       "      <td>0</td>\n",
       "      <td>...</td>\n",
       "      <td>False</td>\n",
       "      <td>False</td>\n",
       "      <td>True</td>\n",
       "      <td>False</td>\n",
       "      <td>True</td>\n",
       "      <td>False</td>\n",
       "      <td>False</td>\n",
       "      <td>True</td>\n",
       "      <td>False</td>\n",
       "      <td>False</td>\n",
       "    </tr>\n",
       "    <tr>\n",
       "      <th>34464</th>\n",
       "      <td>0.500000</td>\n",
       "      <td>0.333333</td>\n",
       "      <td>0.511111</td>\n",
       "      <td>0.433333</td>\n",
       "      <td>0.500000</td>\n",
       "      <td>0.370370</td>\n",
       "      <td>1</td>\n",
       "      <td>NaN</td>\n",
       "      <td>1</td>\n",
       "      <td>1</td>\n",
       "      <td>...</td>\n",
       "      <td>True</td>\n",
       "      <td>False</td>\n",
       "      <td>False</td>\n",
       "      <td>True</td>\n",
       "      <td>True</td>\n",
       "      <td>False</td>\n",
       "      <td>False</td>\n",
       "      <td>True</td>\n",
       "      <td>False</td>\n",
       "      <td>False</td>\n",
       "    </tr>\n",
       "  </tbody>\n",
       "</table>\n",
       "<p>34465 rows × 134 columns</p>\n",
       "</div>"
      ],
      "text/plain": [
       "       clean_name_intersect_min  clean_name_intersect_max  \\\n",
       "0                      1.000000                  1.000000   \n",
       "1                      1.000000                  0.750000   \n",
       "2                      1.000000                  1.000000   \n",
       "3                      1.000000                  0.750000   \n",
       "4                      0.000000                  0.000000   \n",
       "...                         ...                       ...   \n",
       "34460                  0.333333                  0.333333   \n",
       "34461                  0.000000                  0.000000   \n",
       "34462                  0.000000                  0.000000   \n",
       "34463                  0.500000                  0.200000   \n",
       "34464                  0.500000                  0.333333   \n",
       "\n",
       "       clean_name_levenshtein_sim  clean_name_trigram_sim  \\\n",
       "0                        1.000000                1.000000   \n",
       "1                        0.857143                0.857143   \n",
       "2                        1.000000                1.000000   \n",
       "3                        0.857143                0.857143   \n",
       "4                        0.250000                0.000000   \n",
       "...                           ...                     ...   \n",
       "34460                    0.455026                0.352941   \n",
       "34461                    0.041667                0.000000   \n",
       "34462                    0.312500                0.037037   \n",
       "34463                    0.414966                0.309524   \n",
       "34464                    0.511111                0.433333   \n",
       "\n",
       "       clean_name_levenshtein_term  clean_name_trigram_term zip_intersect_min  \\\n",
       "0                         1.000000                 1.000000               NaN   \n",
       "1                         0.894737                 0.947368               NaN   \n",
       "2                         1.000000                 1.000000               NaN   \n",
       "3                         0.842105                 0.833333                 1   \n",
       "4                         0.250000                 0.000000               NaN   \n",
       "...                            ...                      ...               ...   \n",
       "34460                     0.222222                 0.125000                 0   \n",
       "34461                     0.142857                 0.000000               NaN   \n",
       "34462                     0.200000                 0.027027               NaN   \n",
       "34463                     0.312500                 0.179487               NaN   \n",
       "34464                     0.500000                 0.370370                 1   \n",
       "\n",
       "      countryname_trigram_term geocoderlocalityname_intersect_min  \\\n",
       "0                          NaN                                  1   \n",
       "1                          NaN                                  1   \n",
       "2                          NaN                                  1   \n",
       "3                          NaN                                  1   \n",
       "4                          NaN                                  1   \n",
       "...                        ...                                ...   \n",
       "34460                      NaN                                  0   \n",
       "34461                      NaN                                  1   \n",
       "34462                      NaN                                  1   \n",
       "34463                      NaN                                  0   \n",
       "34464                      NaN                                  1   \n",
       "\n",
       "      geocoderlocalityname_intersect_max  ...  \\\n",
       "0                                      1  ...   \n",
       "1                                      1  ...   \n",
       "2                                      1  ...   \n",
       "3                                      1  ...   \n",
       "4                                      1  ...   \n",
       "...                                  ...  ...   \n",
       "34460                                  0  ...   \n",
       "34461                                  1  ...   \n",
       "34462                                  1  ...   \n",
       "34463                                  0  ...   \n",
       "34464                                  1  ...   \n",
       "\n",
       "      geocode_coordinates_long_equality_s geocode_coordinates_lat_equality_m  \\\n",
       "0                                    True                              False   \n",
       "1                                    True                              False   \n",
       "2                                    True                              False   \n",
       "3                                   False                              False   \n",
       "4                                    True                              False   \n",
       "...                                   ...                                ...   \n",
       "34460                               False                              False   \n",
       "34461                               False                              False   \n",
       "34462                                True                              False   \n",
       "34463                               False                              False   \n",
       "34464                                True                              False   \n",
       "\n",
       "      geocode_coordinates_lat_equality_n geocode_coordinates_lat_equality_s  \\\n",
       "0                                  False                               True   \n",
       "1                                  False                               True   \n",
       "2                                  False                               True   \n",
       "3                                   True                              False   \n",
       "4                                  False                               True   \n",
       "...                                  ...                                ...   \n",
       "34460                               True                              False   \n",
       "34461                               True                              False   \n",
       "34462                              False                               True   \n",
       "34463                               True                              False   \n",
       "34464                              False                               True   \n",
       "\n",
       "      coordinates_long_equality_m coordinates_long_equality_n  \\\n",
       "0                           False                        True   \n",
       "1                           False                        True   \n",
       "2                           False                        True   \n",
       "3                           False                        True   \n",
       "4                            True                       False   \n",
       "...                           ...                         ...   \n",
       "34460                       False                        True   \n",
       "34461                       False                        True   \n",
       "34462                        True                       False   \n",
       "34463                        True                       False   \n",
       "34464                        True                       False   \n",
       "\n",
       "      coordinates_long_equality_s coordinates_lat_equality_m  \\\n",
       "0                           False                      False   \n",
       "1                           False                      False   \n",
       "2                           False                      False   \n",
       "3                           False                      False   \n",
       "4                           False                       True   \n",
       "...                           ...                        ...   \n",
       "34460                       False                      False   \n",
       "34461                       False                      False   \n",
       "34462                       False                       True   \n",
       "34463                       False                       True   \n",
       "34464                       False                       True   \n",
       "\n",
       "      coordinates_lat_equality_n coordinates_lat_equality_s  \n",
       "0                           True                      False  \n",
       "1                           True                      False  \n",
       "2                           True                      False  \n",
       "3                           True                      False  \n",
       "4                          False                      False  \n",
       "...                          ...                        ...  \n",
       "34460                       True                      False  \n",
       "34461                       True                      False  \n",
       "34462                      False                      False  \n",
       "34463                      False                      False  \n",
       "34464                      False                      False  \n",
       "\n",
       "[34465 rows x 134 columns]"
      ]
     },
     "execution_count": 19,
     "metadata": {},
     "output_type": "execute_result"
    }
   ],
   "source": [
    "df_encoded"
   ]
  },
  {
   "cell_type": "code",
   "execution_count": 20,
   "id": "786a6c51",
   "metadata": {
    "id": "786a6c51"
   },
   "outputs": [],
   "source": [
    "df_encoded.dtypes.to_csv('dtype2.csv')"
   ]
  },
  {
   "cell_type": "code",
   "execution_count": 21,
   "id": "174671db",
   "metadata": {
    "id": "174671db"
   },
   "outputs": [],
   "source": [
    "missing_values2 = df_encoded.isnull().sum()"
   ]
  },
  {
   "cell_type": "code",
   "execution_count": 22,
   "id": "f4e1de08",
   "metadata": {
    "id": "f4e1de08"
   },
   "outputs": [],
   "source": [
    "missing_values2.to_csv('m4.csv')"
   ]
  },
  {
   "cell_type": "markdown",
   "id": "c0f96b7e",
   "metadata": {
    "id": "c0f96b7e"
   },
   "source": [
    "# Missing value impuation usig KNN Imputer"
   ]
  },
  {
   "cell_type": "code",
   "execution_count": 23,
   "id": "4e0ee0b3",
   "metadata": {
    "colab": {
     "background_save": true
    },
    "id": "4e0ee0b3"
   },
   "outputs": [],
   "source": [
    "from sklearn.impute import KNNImputer\n",
    "\n",
    "# Create a KNNImputer instance for handling missing values\n",
    "imputer = KNNImputer(n_neighbors=5)\n",
    "\n",
    "# Fit and transform the dataset to impute missing values\n",
    "df_imputed = pd.DataFrame(imputer.fit_transform(df_encoded), columns=df_encoded.columns)"
   ]
  },
  {
   "cell_type": "code",
   "execution_count": 24,
   "id": "02fb6661",
   "metadata": {
    "colab": {
     "background_save": true
    },
    "id": "02fb6661",
    "outputId": "44d66776-0d59-4cc6-a7fd-560070ffcc28"
   },
   "outputs": [
    {
     "data": {
      "text/html": [
       "<div>\n",
       "<style scoped>\n",
       "    .dataframe tbody tr th:only-of-type {\n",
       "        vertical-align: middle;\n",
       "    }\n",
       "\n",
       "    .dataframe tbody tr th {\n",
       "        vertical-align: top;\n",
       "    }\n",
       "\n",
       "    .dataframe thead th {\n",
       "        text-align: right;\n",
       "    }\n",
       "</style>\n",
       "<table border=\"1\" class=\"dataframe\">\n",
       "  <thead>\n",
       "    <tr style=\"text-align: right;\">\n",
       "      <th></th>\n",
       "      <th>clean_name_intersect_min</th>\n",
       "      <th>clean_name_intersect_max</th>\n",
       "      <th>clean_name_levenshtein_sim</th>\n",
       "      <th>clean_name_trigram_sim</th>\n",
       "      <th>clean_name_levenshtein_term</th>\n",
       "      <th>clean_name_trigram_term</th>\n",
       "      <th>zip_intersect_min</th>\n",
       "      <th>countryname_trigram_term</th>\n",
       "      <th>geocoderlocalityname_intersect_min</th>\n",
       "      <th>geocoderlocalityname_intersect_max</th>\n",
       "      <th>...</th>\n",
       "      <th>geocode_coordinates_long_equality_s</th>\n",
       "      <th>geocode_coordinates_lat_equality_m</th>\n",
       "      <th>geocode_coordinates_lat_equality_n</th>\n",
       "      <th>geocode_coordinates_lat_equality_s</th>\n",
       "      <th>coordinates_long_equality_m</th>\n",
       "      <th>coordinates_long_equality_n</th>\n",
       "      <th>coordinates_long_equality_s</th>\n",
       "      <th>coordinates_lat_equality_m</th>\n",
       "      <th>coordinates_lat_equality_n</th>\n",
       "      <th>coordinates_lat_equality_s</th>\n",
       "    </tr>\n",
       "  </thead>\n",
       "  <tbody>\n",
       "    <tr>\n",
       "      <th>0</th>\n",
       "      <td>1.000000</td>\n",
       "      <td>1.000000</td>\n",
       "      <td>1.000000</td>\n",
       "      <td>1.000000</td>\n",
       "      <td>1.000000</td>\n",
       "      <td>1.000000</td>\n",
       "      <td>0.4</td>\n",
       "      <td>0.553333</td>\n",
       "      <td>1.0</td>\n",
       "      <td>1.0</td>\n",
       "      <td>...</td>\n",
       "      <td>1.0</td>\n",
       "      <td>0.0</td>\n",
       "      <td>0.0</td>\n",
       "      <td>1.0</td>\n",
       "      <td>0.0</td>\n",
       "      <td>1.0</td>\n",
       "      <td>0.0</td>\n",
       "      <td>0.0</td>\n",
       "      <td>1.0</td>\n",
       "      <td>0.0</td>\n",
       "    </tr>\n",
       "    <tr>\n",
       "      <th>1</th>\n",
       "      <td>1.000000</td>\n",
       "      <td>0.750000</td>\n",
       "      <td>0.857143</td>\n",
       "      <td>0.857143</td>\n",
       "      <td>0.894737</td>\n",
       "      <td>0.947368</td>\n",
       "      <td>0.8</td>\n",
       "      <td>0.700000</td>\n",
       "      <td>1.0</td>\n",
       "      <td>1.0</td>\n",
       "      <td>...</td>\n",
       "      <td>1.0</td>\n",
       "      <td>0.0</td>\n",
       "      <td>0.0</td>\n",
       "      <td>1.0</td>\n",
       "      <td>0.0</td>\n",
       "      <td>1.0</td>\n",
       "      <td>0.0</td>\n",
       "      <td>0.0</td>\n",
       "      <td>1.0</td>\n",
       "      <td>0.0</td>\n",
       "    </tr>\n",
       "    <tr>\n",
       "      <th>2</th>\n",
       "      <td>1.000000</td>\n",
       "      <td>1.000000</td>\n",
       "      <td>1.000000</td>\n",
       "      <td>1.000000</td>\n",
       "      <td>1.000000</td>\n",
       "      <td>1.000000</td>\n",
       "      <td>0.4</td>\n",
       "      <td>0.553333</td>\n",
       "      <td>1.0</td>\n",
       "      <td>1.0</td>\n",
       "      <td>...</td>\n",
       "      <td>1.0</td>\n",
       "      <td>0.0</td>\n",
       "      <td>0.0</td>\n",
       "      <td>1.0</td>\n",
       "      <td>0.0</td>\n",
       "      <td>1.0</td>\n",
       "      <td>0.0</td>\n",
       "      <td>0.0</td>\n",
       "      <td>1.0</td>\n",
       "      <td>0.0</td>\n",
       "    </tr>\n",
       "    <tr>\n",
       "      <th>3</th>\n",
       "      <td>1.000000</td>\n",
       "      <td>0.750000</td>\n",
       "      <td>0.857143</td>\n",
       "      <td>0.857143</td>\n",
       "      <td>0.842105</td>\n",
       "      <td>0.833333</td>\n",
       "      <td>1.0</td>\n",
       "      <td>0.857143</td>\n",
       "      <td>1.0</td>\n",
       "      <td>1.0</td>\n",
       "      <td>...</td>\n",
       "      <td>0.0</td>\n",
       "      <td>0.0</td>\n",
       "      <td>1.0</td>\n",
       "      <td>0.0</td>\n",
       "      <td>0.0</td>\n",
       "      <td>1.0</td>\n",
       "      <td>0.0</td>\n",
       "      <td>0.0</td>\n",
       "      <td>1.0</td>\n",
       "      <td>0.0</td>\n",
       "    </tr>\n",
       "    <tr>\n",
       "      <th>4</th>\n",
       "      <td>0.000000</td>\n",
       "      <td>0.000000</td>\n",
       "      <td>0.250000</td>\n",
       "      <td>0.000000</td>\n",
       "      <td>0.250000</td>\n",
       "      <td>0.000000</td>\n",
       "      <td>0.6</td>\n",
       "      <td>1.000000</td>\n",
       "      <td>1.0</td>\n",
       "      <td>1.0</td>\n",
       "      <td>...</td>\n",
       "      <td>1.0</td>\n",
       "      <td>0.0</td>\n",
       "      <td>0.0</td>\n",
       "      <td>1.0</td>\n",
       "      <td>1.0</td>\n",
       "      <td>0.0</td>\n",
       "      <td>0.0</td>\n",
       "      <td>1.0</td>\n",
       "      <td>0.0</td>\n",
       "      <td>0.0</td>\n",
       "    </tr>\n",
       "    <tr>\n",
       "      <th>...</th>\n",
       "      <td>...</td>\n",
       "      <td>...</td>\n",
       "      <td>...</td>\n",
       "      <td>...</td>\n",
       "      <td>...</td>\n",
       "      <td>...</td>\n",
       "      <td>...</td>\n",
       "      <td>...</td>\n",
       "      <td>...</td>\n",
       "      <td>...</td>\n",
       "      <td>...</td>\n",
       "      <td>...</td>\n",
       "      <td>...</td>\n",
       "      <td>...</td>\n",
       "      <td>...</td>\n",
       "      <td>...</td>\n",
       "      <td>...</td>\n",
       "      <td>...</td>\n",
       "      <td>...</td>\n",
       "      <td>...</td>\n",
       "      <td>...</td>\n",
       "    </tr>\n",
       "    <tr>\n",
       "      <th>34460</th>\n",
       "      <td>0.333333</td>\n",
       "      <td>0.333333</td>\n",
       "      <td>0.455026</td>\n",
       "      <td>0.352941</td>\n",
       "      <td>0.222222</td>\n",
       "      <td>0.125000</td>\n",
       "      <td>0.0</td>\n",
       "      <td>0.443275</td>\n",
       "      <td>0.0</td>\n",
       "      <td>0.0</td>\n",
       "      <td>...</td>\n",
       "      <td>0.0</td>\n",
       "      <td>0.0</td>\n",
       "      <td>1.0</td>\n",
       "      <td>0.0</td>\n",
       "      <td>0.0</td>\n",
       "      <td>1.0</td>\n",
       "      <td>0.0</td>\n",
       "      <td>0.0</td>\n",
       "      <td>1.0</td>\n",
       "      <td>0.0</td>\n",
       "    </tr>\n",
       "    <tr>\n",
       "      <th>34461</th>\n",
       "      <td>0.000000</td>\n",
       "      <td>0.000000</td>\n",
       "      <td>0.041667</td>\n",
       "      <td>0.000000</td>\n",
       "      <td>0.142857</td>\n",
       "      <td>0.000000</td>\n",
       "      <td>1.0</td>\n",
       "      <td>0.622222</td>\n",
       "      <td>1.0</td>\n",
       "      <td>1.0</td>\n",
       "      <td>...</td>\n",
       "      <td>0.0</td>\n",
       "      <td>0.0</td>\n",
       "      <td>1.0</td>\n",
       "      <td>0.0</td>\n",
       "      <td>0.0</td>\n",
       "      <td>1.0</td>\n",
       "      <td>0.0</td>\n",
       "      <td>0.0</td>\n",
       "      <td>1.0</td>\n",
       "      <td>0.0</td>\n",
       "    </tr>\n",
       "    <tr>\n",
       "      <th>34462</th>\n",
       "      <td>0.000000</td>\n",
       "      <td>0.000000</td>\n",
       "      <td>0.312500</td>\n",
       "      <td>0.037037</td>\n",
       "      <td>0.200000</td>\n",
       "      <td>0.027027</td>\n",
       "      <td>0.2</td>\n",
       "      <td>0.757143</td>\n",
       "      <td>1.0</td>\n",
       "      <td>1.0</td>\n",
       "      <td>...</td>\n",
       "      <td>1.0</td>\n",
       "      <td>0.0</td>\n",
       "      <td>0.0</td>\n",
       "      <td>1.0</td>\n",
       "      <td>1.0</td>\n",
       "      <td>0.0</td>\n",
       "      <td>0.0</td>\n",
       "      <td>1.0</td>\n",
       "      <td>0.0</td>\n",
       "      <td>0.0</td>\n",
       "    </tr>\n",
       "    <tr>\n",
       "      <th>34463</th>\n",
       "      <td>0.500000</td>\n",
       "      <td>0.200000</td>\n",
       "      <td>0.414966</td>\n",
       "      <td>0.309524</td>\n",
       "      <td>0.312500</td>\n",
       "      <td>0.179487</td>\n",
       "      <td>1.0</td>\n",
       "      <td>0.311765</td>\n",
       "      <td>0.0</td>\n",
       "      <td>0.0</td>\n",
       "      <td>...</td>\n",
       "      <td>0.0</td>\n",
       "      <td>0.0</td>\n",
       "      <td>1.0</td>\n",
       "      <td>0.0</td>\n",
       "      <td>1.0</td>\n",
       "      <td>0.0</td>\n",
       "      <td>0.0</td>\n",
       "      <td>1.0</td>\n",
       "      <td>0.0</td>\n",
       "      <td>0.0</td>\n",
       "    </tr>\n",
       "    <tr>\n",
       "      <th>34464</th>\n",
       "      <td>0.500000</td>\n",
       "      <td>0.333333</td>\n",
       "      <td>0.511111</td>\n",
       "      <td>0.433333</td>\n",
       "      <td>0.500000</td>\n",
       "      <td>0.370370</td>\n",
       "      <td>1.0</td>\n",
       "      <td>0.900000</td>\n",
       "      <td>1.0</td>\n",
       "      <td>1.0</td>\n",
       "      <td>...</td>\n",
       "      <td>1.0</td>\n",
       "      <td>0.0</td>\n",
       "      <td>0.0</td>\n",
       "      <td>1.0</td>\n",
       "      <td>1.0</td>\n",
       "      <td>0.0</td>\n",
       "      <td>0.0</td>\n",
       "      <td>1.0</td>\n",
       "      <td>0.0</td>\n",
       "      <td>0.0</td>\n",
       "    </tr>\n",
       "  </tbody>\n",
       "</table>\n",
       "<p>34465 rows × 134 columns</p>\n",
       "</div>"
      ],
      "text/plain": [
       "       clean_name_intersect_min  clean_name_intersect_max  \\\n",
       "0                      1.000000                  1.000000   \n",
       "1                      1.000000                  0.750000   \n",
       "2                      1.000000                  1.000000   \n",
       "3                      1.000000                  0.750000   \n",
       "4                      0.000000                  0.000000   \n",
       "...                         ...                       ...   \n",
       "34460                  0.333333                  0.333333   \n",
       "34461                  0.000000                  0.000000   \n",
       "34462                  0.000000                  0.000000   \n",
       "34463                  0.500000                  0.200000   \n",
       "34464                  0.500000                  0.333333   \n",
       "\n",
       "       clean_name_levenshtein_sim  clean_name_trigram_sim  \\\n",
       "0                        1.000000                1.000000   \n",
       "1                        0.857143                0.857143   \n",
       "2                        1.000000                1.000000   \n",
       "3                        0.857143                0.857143   \n",
       "4                        0.250000                0.000000   \n",
       "...                           ...                     ...   \n",
       "34460                    0.455026                0.352941   \n",
       "34461                    0.041667                0.000000   \n",
       "34462                    0.312500                0.037037   \n",
       "34463                    0.414966                0.309524   \n",
       "34464                    0.511111                0.433333   \n",
       "\n",
       "       clean_name_levenshtein_term  clean_name_trigram_term  \\\n",
       "0                         1.000000                 1.000000   \n",
       "1                         0.894737                 0.947368   \n",
       "2                         1.000000                 1.000000   \n",
       "3                         0.842105                 0.833333   \n",
       "4                         0.250000                 0.000000   \n",
       "...                            ...                      ...   \n",
       "34460                     0.222222                 0.125000   \n",
       "34461                     0.142857                 0.000000   \n",
       "34462                     0.200000                 0.027027   \n",
       "34463                     0.312500                 0.179487   \n",
       "34464                     0.500000                 0.370370   \n",
       "\n",
       "       zip_intersect_min  countryname_trigram_term  \\\n",
       "0                    0.4                  0.553333   \n",
       "1                    0.8                  0.700000   \n",
       "2                    0.4                  0.553333   \n",
       "3                    1.0                  0.857143   \n",
       "4                    0.6                  1.000000   \n",
       "...                  ...                       ...   \n",
       "34460                0.0                  0.443275   \n",
       "34461                1.0                  0.622222   \n",
       "34462                0.2                  0.757143   \n",
       "34463                1.0                  0.311765   \n",
       "34464                1.0                  0.900000   \n",
       "\n",
       "       geocoderlocalityname_intersect_min  geocoderlocalityname_intersect_max  \\\n",
       "0                                     1.0                                 1.0   \n",
       "1                                     1.0                                 1.0   \n",
       "2                                     1.0                                 1.0   \n",
       "3                                     1.0                                 1.0   \n",
       "4                                     1.0                                 1.0   \n",
       "...                                   ...                                 ...   \n",
       "34460                                 0.0                                 0.0   \n",
       "34461                                 1.0                                 1.0   \n",
       "34462                                 1.0                                 1.0   \n",
       "34463                                 0.0                                 0.0   \n",
       "34464                                 1.0                                 1.0   \n",
       "\n",
       "       ...  geocode_coordinates_long_equality_s  \\\n",
       "0      ...                                  1.0   \n",
       "1      ...                                  1.0   \n",
       "2      ...                                  1.0   \n",
       "3      ...                                  0.0   \n",
       "4      ...                                  1.0   \n",
       "...    ...                                  ...   \n",
       "34460  ...                                  0.0   \n",
       "34461  ...                                  0.0   \n",
       "34462  ...                                  1.0   \n",
       "34463  ...                                  0.0   \n",
       "34464  ...                                  1.0   \n",
       "\n",
       "       geocode_coordinates_lat_equality_m  geocode_coordinates_lat_equality_n  \\\n",
       "0                                     0.0                                 0.0   \n",
       "1                                     0.0                                 0.0   \n",
       "2                                     0.0                                 0.0   \n",
       "3                                     0.0                                 1.0   \n",
       "4                                     0.0                                 0.0   \n",
       "...                                   ...                                 ...   \n",
       "34460                                 0.0                                 1.0   \n",
       "34461                                 0.0                                 1.0   \n",
       "34462                                 0.0                                 0.0   \n",
       "34463                                 0.0                                 1.0   \n",
       "34464                                 0.0                                 0.0   \n",
       "\n",
       "       geocode_coordinates_lat_equality_s  coordinates_long_equality_m  \\\n",
       "0                                     1.0                          0.0   \n",
       "1                                     1.0                          0.0   \n",
       "2                                     1.0                          0.0   \n",
       "3                                     0.0                          0.0   \n",
       "4                                     1.0                          1.0   \n",
       "...                                   ...                          ...   \n",
       "34460                                 0.0                          0.0   \n",
       "34461                                 0.0                          0.0   \n",
       "34462                                 1.0                          1.0   \n",
       "34463                                 0.0                          1.0   \n",
       "34464                                 1.0                          1.0   \n",
       "\n",
       "       coordinates_long_equality_n  coordinates_long_equality_s  \\\n",
       "0                              1.0                          0.0   \n",
       "1                              1.0                          0.0   \n",
       "2                              1.0                          0.0   \n",
       "3                              1.0                          0.0   \n",
       "4                              0.0                          0.0   \n",
       "...                            ...                          ...   \n",
       "34460                          1.0                          0.0   \n",
       "34461                          1.0                          0.0   \n",
       "34462                          0.0                          0.0   \n",
       "34463                          0.0                          0.0   \n",
       "34464                          0.0                          0.0   \n",
       "\n",
       "       coordinates_lat_equality_m  coordinates_lat_equality_n  \\\n",
       "0                             0.0                         1.0   \n",
       "1                             0.0                         1.0   \n",
       "2                             0.0                         1.0   \n",
       "3                             0.0                         1.0   \n",
       "4                             1.0                         0.0   \n",
       "...                           ...                         ...   \n",
       "34460                         0.0                         1.0   \n",
       "34461                         0.0                         1.0   \n",
       "34462                         1.0                         0.0   \n",
       "34463                         1.0                         0.0   \n",
       "34464                         1.0                         0.0   \n",
       "\n",
       "       coordinates_lat_equality_s  \n",
       "0                             0.0  \n",
       "1                             0.0  \n",
       "2                             0.0  \n",
       "3                             0.0  \n",
       "4                             0.0  \n",
       "...                           ...  \n",
       "34460                         0.0  \n",
       "34461                         0.0  \n",
       "34462                         0.0  \n",
       "34463                         0.0  \n",
       "34464                         0.0  \n",
       "\n",
       "[34465 rows x 134 columns]"
      ]
     },
     "execution_count": 24,
     "metadata": {},
     "output_type": "execute_result"
    }
   ],
   "source": [
    "df_imputed"
   ]
  },
  {
   "cell_type": "code",
   "execution_count": 25,
   "id": "6c3b59d6",
   "metadata": {},
   "outputs": [],
   "source": [
    "#df_imputed['labels'] = label"
   ]
  },
  {
   "cell_type": "code",
   "execution_count": 26,
   "id": "8e131021",
   "metadata": {
    "colab": {
     "background_save": true
    },
    "id": "8e131021"
   },
   "outputs": [],
   "source": [
    "df_imputed.to_csv('imputed_data.csv')"
   ]
  },
  {
   "cell_type": "code",
   "execution_count": 27,
   "id": "b9394e0b",
   "metadata": {
    "colab": {
     "background_save": true
    },
    "id": "b9394e0b"
   },
   "outputs": [],
   "source": [
    "missing_values3 = df_imputed.isnull().sum()"
   ]
  },
  {
   "cell_type": "code",
   "execution_count": 28,
   "id": "895cb372",
   "metadata": {
    "colab": {
     "background_save": true
    },
    "id": "895cb372",
    "outputId": "946820d6-8bd6-4023-c761-67340de0864a"
   },
   "outputs": [
    {
     "data": {
      "text/plain": [
       "clean_name_intersect_min       0\n",
       "clean_name_intersect_max       0\n",
       "clean_name_levenshtein_sim     0\n",
       "clean_name_trigram_sim         0\n",
       "clean_name_levenshtein_term    0\n",
       "                              ..\n",
       "coordinates_long_equality_n    0\n",
       "coordinates_long_equality_s    0\n",
       "coordinates_lat_equality_m     0\n",
       "coordinates_lat_equality_n     0\n",
       "coordinates_lat_equality_s     0\n",
       "Length: 134, dtype: int64"
      ]
     },
     "execution_count": 28,
     "metadata": {},
     "output_type": "execute_result"
    }
   ],
   "source": [
    "missing_values3"
   ]
  },
  {
   "cell_type": "code",
   "execution_count": 29,
   "id": "27dd1053",
   "metadata": {
    "colab": {
     "background_save": true
    },
    "id": "27dd1053"
   },
   "outputs": [],
   "source": [
    "#missing_values3.to_csv('i2.csv')"
   ]
  },
  {
   "cell_type": "markdown",
   "id": "a58e5b15-d00d-4483-8c9f-5a5863840d8a",
   "metadata": {
    "id": "a58e5b15-d00d-4483-8c9f-5a5863840d8a"
   },
   "source": [
    "# Outlier detection\n"
   ]
  },
  {
   "cell_type": "code",
   "execution_count": 30,
   "id": "89f779b9-86a7-44ef-902c-5795ee9aed15",
   "metadata": {},
   "outputs": [],
   "source": [
    "# Scaling features before outlier detection\n",
    "ss = StandardScaler()\n",
    "arr_sca = ss.fit_transform(df_imputed)\n",
    "df_sca = pd.DataFrame(arr_sca, columns = df_imputed.columns)"
   ]
  },
  {
   "cell_type": "code",
   "execution_count": 31,
   "id": "1ef09bbe-f3e9-4776-a517-50184802d2b1",
   "metadata": {
    "id": "1ef09bbe-f3e9-4776-a517-50184802d2b1"
   },
   "outputs": [],
   "source": [
    "# First check whether the data is normally distributed or not in order to decide which method to apply\n",
    "from scipy import stats\n",
    "k2, p = stats.normaltest(df_sca)"
   ]
  },
  {
   "cell_type": "code",
   "execution_count": 32,
   "id": "ecf7b492-77ae-47d5-99fa-f10b0cf950fa",
   "metadata": {
    "colab": {
     "base_uri": "https://localhost:8080/"
    },
    "id": "ecf7b492-77ae-47d5-99fa-f10b0cf950fa",
    "outputId": "677b6551-9990-4f68-9591-72d5b869259e"
   },
   "outputs": [
    {
     "data": {
      "text/plain": [
       "array([0., 0., 0., 0., 0., 0., 0., 0., 0., 0., 0., 0., 0., 0., 0., 0., 0.,\n",
       "       0., 0., 0., 0., 0., 0., 0., 0., 0., 0., 0., 0., 0., 0., 0., 0., 0.,\n",
       "       0., 0., 0., 0., 0., 0., 0., 0., 0., 0., 0., 0., 0., 0., 0., 0., 0.,\n",
       "       0., 0., 0., 0., 0., 0., 0., 0., 0., 0., 0., 0., 0., 0., 0., 0., 0.,\n",
       "       0., 0., 0., 0., 0., 0., 0., 0., 0., 0., 0., 0., 0., 0., 0., 0., 0.,\n",
       "       0., 0., 0., 0., 0., 0., 0., 0., 0., 0., 0., 0., 0., 0., 0., 0., 0.,\n",
       "       0., 0., 0., 0., 0., 0., 0., 0., 0., 0., 0., 0., 0., 0., 0., 0., 0.,\n",
       "       0., 0., 0., 0., 0., 0., 0., 0., 0., 0., 0., 0., 0., 0., 0.])"
      ]
     },
     "execution_count": 32,
     "metadata": {},
     "output_type": "execute_result"
    }
   ],
   "source": [
    "p"
   ]
  },
  {
   "cell_type": "markdown",
   "id": "qySdMuAKbqus",
   "metadata": {
    "id": "qySdMuAKbqus"
   },
   "source": [
    "As none of the features are normally distributed we can say that the data as a whole is not normally distributed."
   ]
  },
  {
   "cell_type": "code",
   "execution_count": 33,
   "id": "87d6796b-17e2-4050-80ea-960a84804643",
   "metadata": {
    "colab": {
     "base_uri": "https://localhost:8080/"
    },
    "id": "87d6796b-17e2-4050-80ea-960a84804643",
    "outputId": "7ae0e5ba-c883-4400-8439-a8f9de87f71f"
   },
   "outputs": [
    {
     "data": {
      "text/plain": [
       "6364"
      ]
     },
     "execution_count": 33,
     "metadata": {},
     "output_type": "execute_result"
    }
   ],
   "source": [
    "# Using the above test we can infer that since the columns are not from normal distribution we should apply z-score method with median instead of mean\n",
    "\n",
    "outliers = []\n",
    "median = df_sca.median()\n",
    "stdD = df_sca.std()\n",
    "zScore = (df_sca - median)/stdD\n",
    "zScoreArr = zScore.to_numpy()\n",
    "for i in range(len(zScoreArr)):\n",
    "    for j in zScoreArr[i]:\n",
    "        if(np.abs(j)>5):\n",
    "            outliers.append(i)\n",
    "            break\n",
    "len(outliers)"
   ]
  },
  {
   "cell_type": "code",
   "execution_count": 34,
   "id": "416b2f03-6d7d-4623-bb8b-c3ba9f38a5bd",
   "metadata": {
    "colab": {
     "base_uri": "https://localhost:8080/",
     "height": 444
    },
    "id": "416b2f03-6d7d-4623-bb8b-c3ba9f38a5bd",
    "outputId": "e8b5ca3a-410c-469d-c51b-9035dbcacd9d"
   },
   "outputs": [
    {
     "data": {
      "text/html": [
       "<div>\n",
       "<style scoped>\n",
       "    .dataframe tbody tr th:only-of-type {\n",
       "        vertical-align: middle;\n",
       "    }\n",
       "\n",
       "    .dataframe tbody tr th {\n",
       "        vertical-align: top;\n",
       "    }\n",
       "\n",
       "    .dataframe thead th {\n",
       "        text-align: right;\n",
       "    }\n",
       "</style>\n",
       "<table border=\"1\" class=\"dataframe\">\n",
       "  <thead>\n",
       "    <tr style=\"text-align: right;\">\n",
       "      <th></th>\n",
       "      <th>clean_name_intersect_min</th>\n",
       "      <th>clean_name_intersect_max</th>\n",
       "      <th>clean_name_levenshtein_sim</th>\n",
       "      <th>clean_name_trigram_sim</th>\n",
       "      <th>clean_name_levenshtein_term</th>\n",
       "      <th>clean_name_trigram_term</th>\n",
       "      <th>zip_intersect_min</th>\n",
       "      <th>countryname_trigram_term</th>\n",
       "      <th>geocoderlocalityname_intersect_min</th>\n",
       "      <th>geocoderlocalityname_intersect_max</th>\n",
       "      <th>...</th>\n",
       "      <th>geocode_coordinates_long_equality_s</th>\n",
       "      <th>geocode_coordinates_lat_equality_m</th>\n",
       "      <th>geocode_coordinates_lat_equality_n</th>\n",
       "      <th>geocode_coordinates_lat_equality_s</th>\n",
       "      <th>coordinates_long_equality_m</th>\n",
       "      <th>coordinates_long_equality_n</th>\n",
       "      <th>coordinates_long_equality_s</th>\n",
       "      <th>coordinates_lat_equality_m</th>\n",
       "      <th>coordinates_lat_equality_n</th>\n",
       "      <th>coordinates_lat_equality_s</th>\n",
       "    </tr>\n",
       "  </thead>\n",
       "  <tbody>\n",
       "    <tr>\n",
       "      <th>0</th>\n",
       "      <td>1.000000</td>\n",
       "      <td>1.000000</td>\n",
       "      <td>1.000000</td>\n",
       "      <td>1.000000</td>\n",
       "      <td>1.000000</td>\n",
       "      <td>1.000000</td>\n",
       "      <td>0.4</td>\n",
       "      <td>0.553333</td>\n",
       "      <td>1.0</td>\n",
       "      <td>1.0</td>\n",
       "      <td>...</td>\n",
       "      <td>1.0</td>\n",
       "      <td>0.0</td>\n",
       "      <td>0.0</td>\n",
       "      <td>1.0</td>\n",
       "      <td>0.0</td>\n",
       "      <td>1.0</td>\n",
       "      <td>0.0</td>\n",
       "      <td>0.0</td>\n",
       "      <td>1.0</td>\n",
       "      <td>0.0</td>\n",
       "    </tr>\n",
       "    <tr>\n",
       "      <th>1</th>\n",
       "      <td>1.000000</td>\n",
       "      <td>0.750000</td>\n",
       "      <td>0.857143</td>\n",
       "      <td>0.857143</td>\n",
       "      <td>0.894737</td>\n",
       "      <td>0.947368</td>\n",
       "      <td>0.8</td>\n",
       "      <td>0.700000</td>\n",
       "      <td>1.0</td>\n",
       "      <td>1.0</td>\n",
       "      <td>...</td>\n",
       "      <td>1.0</td>\n",
       "      <td>0.0</td>\n",
       "      <td>0.0</td>\n",
       "      <td>1.0</td>\n",
       "      <td>0.0</td>\n",
       "      <td>1.0</td>\n",
       "      <td>0.0</td>\n",
       "      <td>0.0</td>\n",
       "      <td>1.0</td>\n",
       "      <td>0.0</td>\n",
       "    </tr>\n",
       "    <tr>\n",
       "      <th>2</th>\n",
       "      <td>1.000000</td>\n",
       "      <td>1.000000</td>\n",
       "      <td>1.000000</td>\n",
       "      <td>1.000000</td>\n",
       "      <td>1.000000</td>\n",
       "      <td>1.000000</td>\n",
       "      <td>0.4</td>\n",
       "      <td>0.553333</td>\n",
       "      <td>1.0</td>\n",
       "      <td>1.0</td>\n",
       "      <td>...</td>\n",
       "      <td>1.0</td>\n",
       "      <td>0.0</td>\n",
       "      <td>0.0</td>\n",
       "      <td>1.0</td>\n",
       "      <td>0.0</td>\n",
       "      <td>1.0</td>\n",
       "      <td>0.0</td>\n",
       "      <td>0.0</td>\n",
       "      <td>1.0</td>\n",
       "      <td>0.0</td>\n",
       "    </tr>\n",
       "    <tr>\n",
       "      <th>3</th>\n",
       "      <td>1.000000</td>\n",
       "      <td>0.750000</td>\n",
       "      <td>0.857143</td>\n",
       "      <td>0.857143</td>\n",
       "      <td>0.842105</td>\n",
       "      <td>0.833333</td>\n",
       "      <td>1.0</td>\n",
       "      <td>0.857143</td>\n",
       "      <td>1.0</td>\n",
       "      <td>1.0</td>\n",
       "      <td>...</td>\n",
       "      <td>0.0</td>\n",
       "      <td>0.0</td>\n",
       "      <td>1.0</td>\n",
       "      <td>0.0</td>\n",
       "      <td>0.0</td>\n",
       "      <td>1.0</td>\n",
       "      <td>0.0</td>\n",
       "      <td>0.0</td>\n",
       "      <td>1.0</td>\n",
       "      <td>0.0</td>\n",
       "    </tr>\n",
       "    <tr>\n",
       "      <th>4</th>\n",
       "      <td>0.000000</td>\n",
       "      <td>0.000000</td>\n",
       "      <td>0.250000</td>\n",
       "      <td>0.000000</td>\n",
       "      <td>0.250000</td>\n",
       "      <td>0.000000</td>\n",
       "      <td>0.6</td>\n",
       "      <td>1.000000</td>\n",
       "      <td>1.0</td>\n",
       "      <td>1.0</td>\n",
       "      <td>...</td>\n",
       "      <td>1.0</td>\n",
       "      <td>0.0</td>\n",
       "      <td>0.0</td>\n",
       "      <td>1.0</td>\n",
       "      <td>1.0</td>\n",
       "      <td>0.0</td>\n",
       "      <td>0.0</td>\n",
       "      <td>1.0</td>\n",
       "      <td>0.0</td>\n",
       "      <td>0.0</td>\n",
       "    </tr>\n",
       "    <tr>\n",
       "      <th>...</th>\n",
       "      <td>...</td>\n",
       "      <td>...</td>\n",
       "      <td>...</td>\n",
       "      <td>...</td>\n",
       "      <td>...</td>\n",
       "      <td>...</td>\n",
       "      <td>...</td>\n",
       "      <td>...</td>\n",
       "      <td>...</td>\n",
       "      <td>...</td>\n",
       "      <td>...</td>\n",
       "      <td>...</td>\n",
       "      <td>...</td>\n",
       "      <td>...</td>\n",
       "      <td>...</td>\n",
       "      <td>...</td>\n",
       "      <td>...</td>\n",
       "      <td>...</td>\n",
       "      <td>...</td>\n",
       "      <td>...</td>\n",
       "      <td>...</td>\n",
       "    </tr>\n",
       "    <tr>\n",
       "      <th>34458</th>\n",
       "      <td>0.000000</td>\n",
       "      <td>0.000000</td>\n",
       "      <td>0.000000</td>\n",
       "      <td>0.000000</td>\n",
       "      <td>0.111111</td>\n",
       "      <td>0.000000</td>\n",
       "      <td>0.6</td>\n",
       "      <td>0.816667</td>\n",
       "      <td>1.0</td>\n",
       "      <td>1.0</td>\n",
       "      <td>...</td>\n",
       "      <td>0.0</td>\n",
       "      <td>0.0</td>\n",
       "      <td>1.0</td>\n",
       "      <td>0.0</td>\n",
       "      <td>1.0</td>\n",
       "      <td>0.0</td>\n",
       "      <td>0.0</td>\n",
       "      <td>1.0</td>\n",
       "      <td>0.0</td>\n",
       "      <td>0.0</td>\n",
       "    </tr>\n",
       "    <tr>\n",
       "      <th>34459</th>\n",
       "      <td>0.333333</td>\n",
       "      <td>0.250000</td>\n",
       "      <td>0.401099</td>\n",
       "      <td>0.285714</td>\n",
       "      <td>0.285714</td>\n",
       "      <td>0.116279</td>\n",
       "      <td>0.4</td>\n",
       "      <td>0.705634</td>\n",
       "      <td>1.0</td>\n",
       "      <td>1.0</td>\n",
       "      <td>...</td>\n",
       "      <td>0.0</td>\n",
       "      <td>0.0</td>\n",
       "      <td>1.0</td>\n",
       "      <td>0.0</td>\n",
       "      <td>1.0</td>\n",
       "      <td>0.0</td>\n",
       "      <td>0.0</td>\n",
       "      <td>1.0</td>\n",
       "      <td>0.0</td>\n",
       "      <td>0.0</td>\n",
       "    </tr>\n",
       "    <tr>\n",
       "      <th>34461</th>\n",
       "      <td>0.000000</td>\n",
       "      <td>0.000000</td>\n",
       "      <td>0.041667</td>\n",
       "      <td>0.000000</td>\n",
       "      <td>0.142857</td>\n",
       "      <td>0.000000</td>\n",
       "      <td>1.0</td>\n",
       "      <td>0.622222</td>\n",
       "      <td>1.0</td>\n",
       "      <td>1.0</td>\n",
       "      <td>...</td>\n",
       "      <td>0.0</td>\n",
       "      <td>0.0</td>\n",
       "      <td>1.0</td>\n",
       "      <td>0.0</td>\n",
       "      <td>0.0</td>\n",
       "      <td>1.0</td>\n",
       "      <td>0.0</td>\n",
       "      <td>0.0</td>\n",
       "      <td>1.0</td>\n",
       "      <td>0.0</td>\n",
       "    </tr>\n",
       "    <tr>\n",
       "      <th>34463</th>\n",
       "      <td>0.500000</td>\n",
       "      <td>0.200000</td>\n",
       "      <td>0.414966</td>\n",
       "      <td>0.309524</td>\n",
       "      <td>0.312500</td>\n",
       "      <td>0.179487</td>\n",
       "      <td>1.0</td>\n",
       "      <td>0.311765</td>\n",
       "      <td>0.0</td>\n",
       "      <td>0.0</td>\n",
       "      <td>...</td>\n",
       "      <td>0.0</td>\n",
       "      <td>0.0</td>\n",
       "      <td>1.0</td>\n",
       "      <td>0.0</td>\n",
       "      <td>1.0</td>\n",
       "      <td>0.0</td>\n",
       "      <td>0.0</td>\n",
       "      <td>1.0</td>\n",
       "      <td>0.0</td>\n",
       "      <td>0.0</td>\n",
       "    </tr>\n",
       "    <tr>\n",
       "      <th>34464</th>\n",
       "      <td>0.500000</td>\n",
       "      <td>0.333333</td>\n",
       "      <td>0.511111</td>\n",
       "      <td>0.433333</td>\n",
       "      <td>0.500000</td>\n",
       "      <td>0.370370</td>\n",
       "      <td>1.0</td>\n",
       "      <td>0.900000</td>\n",
       "      <td>1.0</td>\n",
       "      <td>1.0</td>\n",
       "      <td>...</td>\n",
       "      <td>1.0</td>\n",
       "      <td>0.0</td>\n",
       "      <td>0.0</td>\n",
       "      <td>1.0</td>\n",
       "      <td>1.0</td>\n",
       "      <td>0.0</td>\n",
       "      <td>0.0</td>\n",
       "      <td>1.0</td>\n",
       "      <td>0.0</td>\n",
       "      <td>0.0</td>\n",
       "    </tr>\n",
       "  </tbody>\n",
       "</table>\n",
       "<p>28101 rows × 134 columns</p>\n",
       "</div>"
      ],
      "text/plain": [
       "       clean_name_intersect_min  clean_name_intersect_max  \\\n",
       "0                      1.000000                  1.000000   \n",
       "1                      1.000000                  0.750000   \n",
       "2                      1.000000                  1.000000   \n",
       "3                      1.000000                  0.750000   \n",
       "4                      0.000000                  0.000000   \n",
       "...                         ...                       ...   \n",
       "34458                  0.000000                  0.000000   \n",
       "34459                  0.333333                  0.250000   \n",
       "34461                  0.000000                  0.000000   \n",
       "34463                  0.500000                  0.200000   \n",
       "34464                  0.500000                  0.333333   \n",
       "\n",
       "       clean_name_levenshtein_sim  clean_name_trigram_sim  \\\n",
       "0                        1.000000                1.000000   \n",
       "1                        0.857143                0.857143   \n",
       "2                        1.000000                1.000000   \n",
       "3                        0.857143                0.857143   \n",
       "4                        0.250000                0.000000   \n",
       "...                           ...                     ...   \n",
       "34458                    0.000000                0.000000   \n",
       "34459                    0.401099                0.285714   \n",
       "34461                    0.041667                0.000000   \n",
       "34463                    0.414966                0.309524   \n",
       "34464                    0.511111                0.433333   \n",
       "\n",
       "       clean_name_levenshtein_term  clean_name_trigram_term  \\\n",
       "0                         1.000000                 1.000000   \n",
       "1                         0.894737                 0.947368   \n",
       "2                         1.000000                 1.000000   \n",
       "3                         0.842105                 0.833333   \n",
       "4                         0.250000                 0.000000   \n",
       "...                            ...                      ...   \n",
       "34458                     0.111111                 0.000000   \n",
       "34459                     0.285714                 0.116279   \n",
       "34461                     0.142857                 0.000000   \n",
       "34463                     0.312500                 0.179487   \n",
       "34464                     0.500000                 0.370370   \n",
       "\n",
       "       zip_intersect_min  countryname_trigram_term  \\\n",
       "0                    0.4                  0.553333   \n",
       "1                    0.8                  0.700000   \n",
       "2                    0.4                  0.553333   \n",
       "3                    1.0                  0.857143   \n",
       "4                    0.6                  1.000000   \n",
       "...                  ...                       ...   \n",
       "34458                0.6                  0.816667   \n",
       "34459                0.4                  0.705634   \n",
       "34461                1.0                  0.622222   \n",
       "34463                1.0                  0.311765   \n",
       "34464                1.0                  0.900000   \n",
       "\n",
       "       geocoderlocalityname_intersect_min  geocoderlocalityname_intersect_max  \\\n",
       "0                                     1.0                                 1.0   \n",
       "1                                     1.0                                 1.0   \n",
       "2                                     1.0                                 1.0   \n",
       "3                                     1.0                                 1.0   \n",
       "4                                     1.0                                 1.0   \n",
       "...                                   ...                                 ...   \n",
       "34458                                 1.0                                 1.0   \n",
       "34459                                 1.0                                 1.0   \n",
       "34461                                 1.0                                 1.0   \n",
       "34463                                 0.0                                 0.0   \n",
       "34464                                 1.0                                 1.0   \n",
       "\n",
       "       ...  geocode_coordinates_long_equality_s  \\\n",
       "0      ...                                  1.0   \n",
       "1      ...                                  1.0   \n",
       "2      ...                                  1.0   \n",
       "3      ...                                  0.0   \n",
       "4      ...                                  1.0   \n",
       "...    ...                                  ...   \n",
       "34458  ...                                  0.0   \n",
       "34459  ...                                  0.0   \n",
       "34461  ...                                  0.0   \n",
       "34463  ...                                  0.0   \n",
       "34464  ...                                  1.0   \n",
       "\n",
       "       geocode_coordinates_lat_equality_m  geocode_coordinates_lat_equality_n  \\\n",
       "0                                     0.0                                 0.0   \n",
       "1                                     0.0                                 0.0   \n",
       "2                                     0.0                                 0.0   \n",
       "3                                     0.0                                 1.0   \n",
       "4                                     0.0                                 0.0   \n",
       "...                                   ...                                 ...   \n",
       "34458                                 0.0                                 1.0   \n",
       "34459                                 0.0                                 1.0   \n",
       "34461                                 0.0                                 1.0   \n",
       "34463                                 0.0                                 1.0   \n",
       "34464                                 0.0                                 0.0   \n",
       "\n",
       "       geocode_coordinates_lat_equality_s  coordinates_long_equality_m  \\\n",
       "0                                     1.0                          0.0   \n",
       "1                                     1.0                          0.0   \n",
       "2                                     1.0                          0.0   \n",
       "3                                     0.0                          0.0   \n",
       "4                                     1.0                          1.0   \n",
       "...                                   ...                          ...   \n",
       "34458                                 0.0                          1.0   \n",
       "34459                                 0.0                          1.0   \n",
       "34461                                 0.0                          0.0   \n",
       "34463                                 0.0                          1.0   \n",
       "34464                                 1.0                          1.0   \n",
       "\n",
       "       coordinates_long_equality_n  coordinates_long_equality_s  \\\n",
       "0                              1.0                          0.0   \n",
       "1                              1.0                          0.0   \n",
       "2                              1.0                          0.0   \n",
       "3                              1.0                          0.0   \n",
       "4                              0.0                          0.0   \n",
       "...                            ...                          ...   \n",
       "34458                          0.0                          0.0   \n",
       "34459                          0.0                          0.0   \n",
       "34461                          1.0                          0.0   \n",
       "34463                          0.0                          0.0   \n",
       "34464                          0.0                          0.0   \n",
       "\n",
       "       coordinates_lat_equality_m  coordinates_lat_equality_n  \\\n",
       "0                             0.0                         1.0   \n",
       "1                             0.0                         1.0   \n",
       "2                             0.0                         1.0   \n",
       "3                             0.0                         1.0   \n",
       "4                             1.0                         0.0   \n",
       "...                           ...                         ...   \n",
       "34458                         1.0                         0.0   \n",
       "34459                         1.0                         0.0   \n",
       "34461                         0.0                         1.0   \n",
       "34463                         1.0                         0.0   \n",
       "34464                         1.0                         0.0   \n",
       "\n",
       "       coordinates_lat_equality_s  \n",
       "0                             0.0  \n",
       "1                             0.0  \n",
       "2                             0.0  \n",
       "3                             0.0  \n",
       "4                             0.0  \n",
       "...                           ...  \n",
       "34458                         0.0  \n",
       "34459                         0.0  \n",
       "34461                         0.0  \n",
       "34463                         0.0  \n",
       "34464                         0.0  \n",
       "\n",
       "[28101 rows x 134 columns]"
      ]
     },
     "execution_count": 34,
     "metadata": {},
     "output_type": "execute_result"
    }
   ],
   "source": [
    "df_outlier_removed = df_imputed.drop(outliers)\n",
    "label = labels.drop(outliers)\n",
    "df_outlier_removed"
   ]
  },
  {
   "cell_type": "markdown",
   "id": "0DFNa4g_cJ6V",
   "metadata": {
    "id": "0DFNa4g_cJ6V"
   },
   "source": [
    "# Hypothesis Testing"
   ]
  },
  {
   "cell_type": "code",
   "execution_count": 35,
   "id": "pt-7C7vicIsG",
   "metadata": {
    "colab": {
     "base_uri": "https://localhost:8080/"
    },
    "id": "pt-7C7vicIsG",
    "outputId": "ba5ebc56-af30-493b-ace5-05cec9df27da"
   },
   "outputs": [
    {
     "data": {
      "text/plain": [
       "['clean_name_intersect_min',\n",
       " 'clean_name_intersect_max',\n",
       " 'clean_name_levenshtein_sim',\n",
       " 'clean_name_trigram_sim',\n",
       " 'clean_name_levenshtein_term',\n",
       " 'clean_name_trigram_term',\n",
       " 'zip_intersect_min',\n",
       " 'countryname_trigram_term',\n",
       " 'geocoderlocalityname_intersect_min',\n",
       " 'geocoderlocalityname_intersect_max',\n",
       " 'geocoderlocalityname_levenshtein_sim',\n",
       " 'geocoderlocalityname_trigram_sim',\n",
       " 'geocoderlocalityname_levenshtein_term',\n",
       " 'geocoderlocalityname_trigram_term',\n",
       " 'geocoderinputaddress_intersect_min',\n",
       " 'geocoderinputaddress_intersect_max',\n",
       " 'geocoderinputaddress_levenshtein_sim',\n",
       " 'geocoderinputaddress_trigram_sim',\n",
       " 'geocoderinputaddress_levenshtein_term',\n",
       " 'geocoderinputaddress_trigram_term',\n",
       " 'geocoderoutputaddress_intersect_min',\n",
       " 'geocoderoutputaddress_intersect_max',\n",
       " 'geocoderoutputaddress_levenshtein_sim',\n",
       " 'geocoderoutputaddress_trigram_sim',\n",
       " 'geocoderoutputaddress_levenshtein_term',\n",
       " 'geocoderoutputaddress_trigram_term',\n",
       " 'geocoderpostalcodenumber_intersect_min',\n",
       " 'geocoderpostalcodenumber_intersect_max',\n",
       " 'geocoderpostalcodenumber_levenshtein_sim',\n",
       " 'geocoderpostalcodenumber_trigram_sim',\n",
       " 'geocoderpostalcodenumber_levenshtein_term',\n",
       " 'geocoderpostalcodenumber_trigram_term',\n",
       " 'geocodercountrynamecode_intersect_min',\n",
       " 'geocodercountrynamecode_intersect_max',\n",
       " 'geocodercountrynamecode_levenshtein_sim',\n",
       " 'geocodercountrynamecode_trigram_sim',\n",
       " 'geocodercountrynamecode_levenshtein_term',\n",
       " 'geocodercountrynamecode_trigram_term',\n",
       " 'street_number_diff',\n",
       " 'street_number_levenshtein',\n",
       " 'street_number_trigram',\n",
       " 'geocode_coordinates_long_diff',\n",
       " 'geocode_coordinates_long_levenshtein',\n",
       " 'geocode_coordinates_long_trigram',\n",
       " 'geocode_coordinates_lat_diff',\n",
       " 'geocode_coordinates_lat_levenshtein',\n",
       " 'geocode_coordinates_lat_trigram',\n",
       " 'geocode_coordinates_diff',\n",
       " 'label',\n",
       " 'clean_name_including_n',\n",
       " 'clean_name_including_s',\n",
       " 'clean_name_equality_n',\n",
       " 'clean_name_equality_s',\n",
       " 'city_including_m',\n",
       " 'city_including_n',\n",
       " 'city_including_s',\n",
       " 'city_equality_m',\n",
       " 'city_equality_n',\n",
       " 'city_equality_s',\n",
       " 'zip_including_m',\n",
       " 'zip_including_n',\n",
       " 'zip_including_s',\n",
       " 'zip_equality_m',\n",
       " 'zip_equality_n',\n",
       " 'zip_equality_s',\n",
       " 'street_including_m',\n",
       " 'street_including_n',\n",
       " 'street_including_s',\n",
       " 'street_equality_m',\n",
       " 'street_equality_n',\n",
       " 'street_equality_s',\n",
       " 'website_including_m',\n",
       " 'website_including_n',\n",
       " 'website_including_s',\n",
       " 'website_equality_m',\n",
       " 'website_equality_n',\n",
       " 'website_equality_s',\n",
       " 'countryname_including_m',\n",
       " 'countryname_including_n',\n",
       " 'countryname_including_s',\n",
       " 'countryname_equality_m',\n",
       " 'countryname_equality_n',\n",
       " 'countryname_equality_s',\n",
       " 'geocoderinputaddress_including_m',\n",
       " 'geocoderinputaddress_including_n',\n",
       " 'geocoderinputaddress_including_s',\n",
       " 'geocoderlocalityname_including_m',\n",
       " 'geocoderlocalityname_including_n',\n",
       " 'geocoderlocalityname_including_s',\n",
       " 'geocoderlocalityname_equality_m',\n",
       " 'geocoderlocalityname_equality_n',\n",
       " 'geocoderlocalityname_equality_s',\n",
       " 'geocoderinputaddress_equality_m',\n",
       " 'geocoderinputaddress_equality_n',\n",
       " 'geocoderinputaddress_equality_s',\n",
       " 'geocoderoutputaddress_including_m',\n",
       " 'geocoderoutputaddress_including_n',\n",
       " 'geocoderoutputaddress_including_s',\n",
       " 'geocoderoutputaddress_equality_m',\n",
       " 'geocoderoutputaddress_equality_n',\n",
       " 'geocoderoutputaddress_equality_s',\n",
       " 'geocoderpostalcodenumber_including_m',\n",
       " 'geocoderpostalcodenumber_including_n',\n",
       " 'geocoderpostalcodenumber_including_s',\n",
       " 'geocoderpostalcodenumber_equality_m',\n",
       " 'geocoderpostalcodenumber_equality_n',\n",
       " 'geocoderpostalcodenumber_equality_s',\n",
       " 'geocodercountrynamecode_including_m',\n",
       " 'geocodercountrynamecode_including_n',\n",
       " 'geocodercountrynamecode_including_s',\n",
       " 'geocodercountrynamecode_equality_m',\n",
       " 'geocodercountrynamecode_equality_n',\n",
       " 'geocodercountrynamecode_equality_s',\n",
       " 'phone_equality_m',\n",
       " 'phone_equality_n',\n",
       " 'phone_equality_s',\n",
       " 'fax_equality_m',\n",
       " 'fax_equality_n',\n",
       " 'fax_equality_s',\n",
       " 'street_number_equality_m',\n",
       " 'street_number_equality_n',\n",
       " 'street_number_equality_s',\n",
       " 'geocode_coordinates_long_equality_m',\n",
       " 'geocode_coordinates_long_equality_n',\n",
       " 'geocode_coordinates_long_equality_s',\n",
       " 'geocode_coordinates_lat_equality_m',\n",
       " 'geocode_coordinates_lat_equality_n',\n",
       " 'geocode_coordinates_lat_equality_s',\n",
       " 'coordinates_long_equality_m',\n",
       " 'coordinates_long_equality_n',\n",
       " 'coordinates_long_equality_s',\n",
       " 'coordinates_lat_equality_m',\n",
       " 'coordinates_lat_equality_n',\n",
       " 'coordinates_lat_equality_s']"
      ]
     },
     "execution_count": 35,
     "metadata": {},
     "output_type": "execute_result"
    }
   ],
   "source": [
    "data_columns = list(df_outlier_removed.columns)\n",
    "data_columns"
   ]
  },
  {
   "cell_type": "markdown",
   "id": "dlYmTEewnXRN",
   "metadata": {
    "id": "dlYmTEewnXRN"
   },
   "source": [
    "Z-test for population-mean v/s sample-mean"
   ]
  },
  {
   "cell_type": "code",
   "execution_count": 36,
   "id": "bISE5tuXca9Q",
   "metadata": {
    "colab": {
     "base_uri": "https://localhost:8080/"
    },
    "id": "bISE5tuXca9Q",
    "outputId": "afd82d28-6fb7-43d7-8a86-dcc13ae5bfb0"
   },
   "outputs": [
    {
     "name": "stdout",
     "output_type": "stream",
     "text": [
      "0.6280694061207863\n",
      "0.36757052468056806\n"
     ]
    }
   ],
   "source": [
    "from statsmodels.stats import weightstats as stests\n",
    "\n",
    "zdata = df_outlier_removed.loc[:, 'geocode_coordinates_long_trigram']\n",
    "\n",
    "zdata_mean = zdata.mean()\n",
    "print(zdata_mean)\n",
    "\n",
    "zdata_std = zdata.std()\n",
    "print(zdata_std)"
   ]
  },
  {
   "cell_type": "code",
   "execution_count": 37,
   "id": "AG1sEWjeiQv2",
   "metadata": {
    "id": "AG1sEWjeiQv2"
   },
   "outputs": [],
   "source": [
    "sample_size = 10000\n",
    "zdata_sample = zdata.sample(n=sample_size)\n",
    "\n",
    "zdata_sample_mean = zdata_sample.mean()\n",
    "\n",
    "to_check_population_mean = 0.6\n",
    "\n",
    "# Null hypothesis is that mean = 0.6\n",
    "\n",
    "# Alternate hypothesis is tha mean > 0.6"
   ]
  },
  {
   "cell_type": "code",
   "execution_count": 38,
   "id": "dU8Hp7xzxmw6",
   "metadata": {
    "colab": {
     "base_uri": "https://localhost:8080/"
    },
    "id": "dU8Hp7xzxmw6",
    "outputId": "e59e3dd8-4799-433e-df3b-620e0d13875b"
   },
   "outputs": [
    {
     "name": "stdout",
     "output_type": "stream",
     "text": [
      "z-test statistic:  7.569039959335618\n",
      "Reject the Null hypothesis\n"
     ]
    }
   ],
   "source": [
    "z_test_stat = (zdata_sample_mean - to_check_population_mean)/(zdata_std/np.sqrt(sample_size))\n",
    "print(\"z-test statistic: \", z_test_stat)\n",
    "\n",
    "if(z_test_stat > 1.64):\n",
    "  print(\"Reject the Null hypothesis\")\n",
    "else:\n",
    "  print(\"Do not reject the Null Hypothesis\")"
   ]
  },
  {
   "cell_type": "markdown",
   "id": "82efe2bc-fea2-438e-81ee-1b4b72c73ec2",
   "metadata": {
    "id": "82efe2bc-fea2-438e-81ee-1b4b72c73ec2"
   },
   "source": [
    "# Dimensionality reduction"
   ]
  },
  {
   "cell_type": "code",
   "execution_count": 39,
   "id": "10740981",
   "metadata": {},
   "outputs": [],
   "source": [
    "X =  df_outlier_removed.drop('label',axis = 1)"
   ]
  },
  {
   "cell_type": "code",
   "execution_count": 40,
   "id": "5ccfd5fe",
   "metadata": {},
   "outputs": [],
   "source": [
    "from sklearn.preprocessing import StandardScaler\n",
    "X_scaled = StandardScaler().fit_transform(X)\n",
    "\n",
    "pca = PCA(n_components=0.90)\n",
    "X_pca_scaled = pca.fit_transform(X_scaled)"
   ]
  },
  {
   "cell_type": "code",
   "execution_count": 41,
   "id": "aa1c1cf8",
   "metadata": {},
   "outputs": [
    {
     "name": "stdout",
     "output_type": "stream",
     "text": [
      "Principal components count:  19\n"
     ]
    }
   ],
   "source": [
    "print('Principal components count: ', pca.n_components_)"
   ]
  },
  {
   "cell_type": "code",
   "execution_count": 42,
   "id": "e45e93f8",
   "metadata": {},
   "outputs": [
    {
     "data": {
      "text/plain": [
       "array([0.23272393, 0.11383278, 0.09695325, 0.07542305, 0.06113659,\n",
       "       0.04652359, 0.04230117, 0.03615834, 0.03200741, 0.02717047,\n",
       "       0.02066785, 0.01920654, 0.0175413 , 0.01748339, 0.01436796,\n",
       "       0.01383203, 0.01340925, 0.01290005, 0.0110349 ])"
      ]
     },
     "execution_count": 42,
     "metadata": {},
     "output_type": "execute_result"
    }
   ],
   "source": [
    "pca.explained_variance_ratio_"
   ]
  },
  {
   "cell_type": "code",
   "execution_count": 43,
   "id": "253cf8fe",
   "metadata": {},
   "outputs": [
    {
     "data": {
      "image/png": "[encoded data removed]",
      "text/plain": [
       "<Figure size 640x480 with 1 Axes>"
      ]
     },
     "metadata": {},
     "output_type": "display_data"
    }
   ],
   "source": [
    "#Explained variance plot\n",
    "plt.plot(np.cumsum(pca.explained_variance_ratio_))\n",
    "plt.xlabel('number of components')\n",
    "plt.ylabel('cumulative explained variance')\n",
    "plt.show()"
   ]
  },
  {
   "cell_type": "code",
   "execution_count": 44,
   "id": "d050ddaf",
   "metadata": {},
   "outputs": [
    {
     "name": "stdout",
     "output_type": "stream",
     "text": [
      "(28101, 19)\n"
     ]
    }
   ],
   "source": [
    "print(X_pca_scaled.shape)"
   ]
  },
  {
   "cell_type": "code",
   "execution_count": 45,
   "id": "96c36595",
   "metadata": {},
   "outputs": [],
   "source": [
    "y = df_outlier_removed['label']"
   ]
  },
  {
   "cell_type": "code",
   "execution_count": 46,
   "id": "8b1f900f",
   "metadata": {},
   "outputs": [],
   "source": [
    "# Train test split prior to PCA\n",
    "X_train, X_test, y_train, y_test = train_test_split(df_outlier_removed,label,test_size=0.2,random_state=22)"
   ]
  },
  {
   "cell_type": "markdown",
   "id": "c7d76376",
   "metadata": {},
   "source": [
    "# ML Models"
   ]
  },
  {
   "cell_type": "code",
   "execution_count": 47,
   "id": "640dc72e",
   "metadata": {},
   "outputs": [],
   "source": [
    "from sklearn.preprocessing import StandardScaler\n",
    "from sklearn.preprocessing import LabelEncoder\n",
    "from sklearn.decomposition import PCA\n",
    "from sklearn.ensemble import RandomForestClassifier\n",
    "from sklearn.metrics import accuracy_score\n",
    "from sklearn.metrics import accuracy_score, confusion_matrix, classification_report"
   ]
  },
  {
   "cell_type": "markdown",
   "id": "62ad57e2",
   "metadata": {},
   "source": [
    "# Random Forest Classification Model"
   ]
  },
  {
   "cell_type": "code",
   "execution_count": 48,
   "id": "8d150b12",
   "metadata": {},
   "outputs": [
    {
     "name": "stdout",
     "output_type": "stream",
     "text": [
      "Accuracy:  0.9395125422522683\n"
     ]
    }
   ],
   "source": [
    "from sklearn.model_selection import train_test_split\n",
    "X_train, X_test, y_train, y_test = train_test_split(X_pca_scaled,label,test_size=0.2,random_state=22,stratify= label)\n",
    "rfc_1 = RandomForestClassifier(max_depth=5, n_jobs=-1, random_state=0)\n",
    "rfc_1.fit(X_train, y_train)\n",
    "y_pred = rfc_1.predict(X_test)\n",
    "print('Accuracy: ' , accuracy_score(y_test, y_pred))"
   ]
  },
  {
   "cell_type": "code",
   "execution_count": 49,
   "id": "8da64fa3",
   "metadata": {},
   "outputs": [
    {
     "data": {
      "text/plain": [
       "array([ 1, -1,  1, ...,  1,  1,  1], dtype=int64)"
      ]
     },
     "execution_count": 49,
     "metadata": {},
     "output_type": "execute_result"
    }
   ],
   "source": [
    "y_pred_train = rfc_1.predict(X_train)\n",
    "y_pred_train"
   ]
  },
  {
   "cell_type": "code",
   "execution_count": 50,
   "id": "4115d9c6",
   "metadata": {},
   "outputs": [
    {
     "name": "stdout",
     "output_type": "stream",
     "text": [
      "Training-set accuracy score: 0.9406\n"
     ]
    }
   ],
   "source": [
    "print('Training-set accuracy score: {0:0.4f}'. format(accuracy_score(y_train, y_pred_train)))"
   ]
  },
  {
   "cell_type": "code",
   "execution_count": 51,
   "id": "a0e6601e",
   "metadata": {},
   "outputs": [
    {
     "name": "stdout",
     "output_type": "stream",
     "text": [
      "Training set score: 0.9406\n",
      "Test set score: 0.9395\n"
     ]
    }
   ],
   "source": [
    "# print the scores on training and test set\n",
    "print('Training set score: {:.4f}'.format(rfc_1.score(X_train, y_train)))\n",
    "print('Test set score: {:.4f}'.format(rfc_1.score(X_test, y_test)))"
   ]
  },
  {
   "cell_type": "code",
   "execution_count": 52,
   "id": "8df583d2",
   "metadata": {},
   "outputs": [
    {
     "data": {
      "text/html": [
       "<div>\n",
       "<style scoped>\n",
       "    .dataframe tbody tr th:only-of-type {\n",
       "        vertical-align: middle;\n",
       "    }\n",
       "\n",
       "    .dataframe tbody tr th {\n",
       "        vertical-align: top;\n",
       "    }\n",
       "\n",
       "    .dataframe thead th {\n",
       "        text-align: right;\n",
       "    }\n",
       "</style>\n",
       "<table border=\"1\" class=\"dataframe\">\n",
       "  <thead>\n",
       "    <tr style=\"text-align: right;\">\n",
       "      <th></th>\n",
       "      <th>predict_proba_-1</th>\n",
       "      <th>predict_proba_1</th>\n",
       "    </tr>\n",
       "  </thead>\n",
       "  <tbody>\n",
       "    <tr>\n",
       "      <th>0</th>\n",
       "      <td>0.782093</td>\n",
       "      <td>0.217907</td>\n",
       "    </tr>\n",
       "    <tr>\n",
       "      <th>1</th>\n",
       "      <td>0.204512</td>\n",
       "      <td>0.795488</td>\n",
       "    </tr>\n",
       "    <tr>\n",
       "      <th>2</th>\n",
       "      <td>0.825863</td>\n",
       "      <td>0.174137</td>\n",
       "    </tr>\n",
       "    <tr>\n",
       "      <th>3</th>\n",
       "      <td>0.567653</td>\n",
       "      <td>0.432347</td>\n",
       "    </tr>\n",
       "    <tr>\n",
       "      <th>4</th>\n",
       "      <td>0.137900</td>\n",
       "      <td>0.862100</td>\n",
       "    </tr>\n",
       "    <tr>\n",
       "      <th>...</th>\n",
       "      <td>...</td>\n",
       "      <td>...</td>\n",
       "    </tr>\n",
       "    <tr>\n",
       "      <th>5616</th>\n",
       "      <td>0.071395</td>\n",
       "      <td>0.928605</td>\n",
       "    </tr>\n",
       "    <tr>\n",
       "      <th>5617</th>\n",
       "      <td>0.769050</td>\n",
       "      <td>0.230950</td>\n",
       "    </tr>\n",
       "    <tr>\n",
       "      <th>5618</th>\n",
       "      <td>0.100261</td>\n",
       "      <td>0.899739</td>\n",
       "    </tr>\n",
       "    <tr>\n",
       "      <th>5619</th>\n",
       "      <td>0.048950</td>\n",
       "      <td>0.951050</td>\n",
       "    </tr>\n",
       "    <tr>\n",
       "      <th>5620</th>\n",
       "      <td>0.048333</td>\n",
       "      <td>0.951667</td>\n",
       "    </tr>\n",
       "  </tbody>\n",
       "</table>\n",
       "<p>5621 rows × 2 columns</p>\n",
       "</div>"
      ],
      "text/plain": [
       "      predict_proba_-1  predict_proba_1\n",
       "0             0.782093         0.217907\n",
       "1             0.204512         0.795488\n",
       "2             0.825863         0.174137\n",
       "3             0.567653         0.432347\n",
       "4             0.137900         0.862100\n",
       "...                ...              ...\n",
       "5616          0.071395         0.928605\n",
       "5617          0.769050         0.230950\n",
       "5618          0.100261         0.899739\n",
       "5619          0.048950         0.951050\n",
       "5620          0.048333         0.951667\n",
       "\n",
       "[5621 rows x 2 columns]"
      ]
     },
     "execution_count": 52,
     "metadata": {},
     "output_type": "execute_result"
    }
   ],
   "source": [
    "predict_proba = pd.DataFrame(rfc_1.predict_proba(X_test), columns=['predict_proba_-1', 'predict_proba_1'])\n",
    "predict_proba"
   ]
  },
  {
   "cell_type": "markdown",
   "id": "2bf7b007",
   "metadata": {},
   "source": [
    "# confusion Matrix"
   ]
  },
  {
   "cell_type": "code",
   "execution_count": 53,
   "id": "80b82daf",
   "metadata": {},
   "outputs": [
    {
     "data": {
      "text/plain": [
       "array([[1315,  256],\n",
       "       [  84, 3966]], dtype=int64)"
      ]
     },
     "execution_count": 53,
     "metadata": {},
     "output_type": "execute_result"
    }
   ],
   "source": [
    "# View confusion matrix for test data and predictions\n",
    "cm =confusion_matrix(y_test, y_pred)\n",
    "cm"
   ]
  },
  {
   "cell_type": "code",
   "execution_count": 54,
   "id": "58260d87",
   "metadata": {},
   "outputs": [
    {
     "data": {
      "text/plain": [
       "<Axes: >"
      ]
     },
     "execution_count": 54,
     "metadata": {},
     "output_type": "execute_result"
    },
    {
     "data": {
      "image/png": "[encoded data removed]",
      "text/plain": [
       "<Figure size 640x480 with 2 Axes>"
      ]
     },
     "metadata": {},
     "output_type": "display_data"
    }
   ],
   "source": [
    "# visualize confusion matrix with seaborn heatmap\n",
    "import seaborn as sns\n",
    "\n",
    "cm_matrix = pd.DataFrame(data=cm, columns=['Actual Positive:1', 'Actual Negative:-1'], \n",
    "                                 index=['Predict Positive:1', 'Predict Negative:-1'])\n",
    "\n",
    "sns.heatmap(cm_matrix, annot=True, fmt='d', cmap='YlGnBu')"
   ]
  },
  {
   "cell_type": "code",
   "execution_count": 55,
   "id": "6572d99d",
   "metadata": {},
   "outputs": [
    {
     "name": "stdout",
     "output_type": "stream",
     "text": [
      "              precision    recall  f1-score   support\n",
      "\n",
      "          -1       0.94      0.84      0.89      1571\n",
      "           1       0.94      0.98      0.96      4050\n",
      "\n",
      "    accuracy                           0.94      5621\n",
      "   macro avg       0.94      0.91      0.92      5621\n",
      "weighted avg       0.94      0.94      0.94      5621\n",
      "\n"
     ]
    }
   ],
   "source": [
    "# View the classification report for test data and predictions\n",
    "print(classification_report(y_test, y_pred))"
   ]
  },
  {
   "cell_type": "code",
   "execution_count": 56,
   "id": "9575e961",
   "metadata": {},
   "outputs": [
    {
     "name": "stdout",
     "output_type": "stream",
     "text": [
      "Confusion matrix\n",
      "\n",
      " [[1315  256]\n",
      " [  84 3966]]\n",
      "\n",
      "True Positives(TP) =  1315\n",
      "\n",
      "True Negatives(TN) =  3966\n",
      "\n",
      "False Positives(FP) =  256\n",
      "\n",
      "False Negatives(FN) =  84\n"
     ]
    }
   ],
   "source": [
    "# Print the Confusion Matrix and slice it into four pieces\n",
    "\n",
    "from sklearn.metrics import confusion_matrix\n",
    "\n",
    "cm = confusion_matrix(y_test, y_pred)\n",
    "\n",
    "print('Confusion matrix\\n\\n', cm)\n",
    "\n",
    "print('\\nTrue Positives(TP) = ', cm[0,0])\n",
    "\n",
    "print('\\nTrue Negatives(TN) = ', cm[-1,-1])\n",
    "\n",
    "print('\\nFalse Positives(FP) = ', cm[0,-1])\n",
    "\n",
    "print('\\nFalse Negatives(FN) = ', cm[-1,0])"
   ]
  },
  {
   "cell_type": "code",
   "execution_count": 57,
   "id": "8e863e42",
   "metadata": {},
   "outputs": [],
   "source": [
    "TP = cm[0,0]\n",
    "TN = cm[-1,-1]\n",
    "FP = cm[0,-1]\n",
    "FN = cm[-1,0]"
   ]
  },
  {
   "cell_type": "code",
   "execution_count": 58,
   "id": "6fdef4aa",
   "metadata": {},
   "outputs": [
    {
     "name": "stdout",
     "output_type": "stream",
     "text": [
      "Classification accuracy : 0.9395\n"
     ]
    }
   ],
   "source": [
    "# print classification accuracy\n",
    "\n",
    "classification_accuracy = (TP + TN) / float(TP + TN + FP + FN)\n",
    "\n",
    "print('Classification accuracy : {0:0.4f}'.format(classification_accuracy))"
   ]
  },
  {
   "cell_type": "code",
   "execution_count": 59,
   "id": "5a175fea",
   "metadata": {},
   "outputs": [
    {
     "name": "stdout",
     "output_type": "stream",
     "text": [
      "Precision : 0.8370\n"
     ]
    }
   ],
   "source": [
    "# print precision score\n",
    "\n",
    "precision = TP / float(TP + FP)\n",
    "print('Precision : {0:0.4f}'.format(precision))"
   ]
  },
  {
   "cell_type": "code",
   "execution_count": 60,
   "id": "14b72ec4",
   "metadata": {},
   "outputs": [
    {
     "name": "stdout",
     "output_type": "stream",
     "text": [
      "Recall or Sensitivity : 0.9400\n"
     ]
    }
   ],
   "source": [
    "recall = TP / float(TP + FN)\n",
    "print('Recall or Sensitivity : {0:0.4f}'.format(recall))"
   ]
  },
  {
   "cell_type": "code",
   "execution_count": 61,
   "id": "a57203a9",
   "metadata": {},
   "outputs": [
    {
     "data": {
      "text/plain": [
       "0.9081528632387957"
      ]
     },
     "execution_count": 61,
     "metadata": {},
     "output_type": "execute_result"
    }
   ],
   "source": [
    "auc = roc_auc_score(y_test, y_pred)\n",
    "auc"
   ]
  },
  {
   "cell_type": "code",
   "execution_count": 62,
   "id": "6be8cdbf",
   "metadata": {},
   "outputs": [],
   "source": [
    "cm = confusion_matrix(y_test, y_pred)\n",
    "predicted_probab_log = rfc_1.predict_proba(X_test)\n",
    "predicted_probab_log = predicted_probab_log[:, 1]\n",
    "fpr, tpr, _ = roc_curve(y_test, predicted_probab_log)"
   ]
  },
  {
   "cell_type": "code",
   "execution_count": 63,
   "id": "e7531662",
   "metadata": {},
   "outputs": [
    {
     "data": {
      "image/png": "[encoded data removed]",
      "text/plain": [
       "<Figure size 640x480 with 1 Axes>"
      ]
     },
     "metadata": {},
     "output_type": "display_data"
    }
   ],
   "source": [
    "from matplotlib import pyplot\n",
    "pyplot.plot(fpr, tpr, marker='.', label='Random Forest')\n",
    "pyplot.xlabel('False Positive Rate')\n",
    "pyplot.ylabel('True Positive Rate')\n",
    "pyplot.legend()\n",
    "pyplot.show()"
   ]
  },
  {
   "cell_type": "markdown",
   "id": "09fd4007",
   "metadata": {},
   "source": [
    "# AUC-ROC Curve"
   ]
  },
  {
   "cell_type": "code",
   "execution_count": 64,
   "id": "7a1f5537",
   "metadata": {},
   "outputs": [
    {
     "data": {
      "text/html": [
       "<style>#sk-container-id-1 {color: black;}#sk-container-id-1 pre{padding: 0;}#sk-container-id-1 div.sk-toggleable {background-color: white;}#sk-container-id-1 label.sk-toggleable__label {cursor: pointer;display: block;width: 100%;margin-bottom: 0;padding: 0.3em;box-sizing: border-box;text-align: center;}#sk-container-id-1 label.sk-toggleable__label-arrow:before {content: \"▸\";float: left;margin-right: 0.25em;color: #696969;}#sk-container-id-1 label.sk-toggleable__label-arrow:hover:before {color: black;}#sk-container-id-1 div.sk-estimator:hover label.sk-toggleable__label-arrow:before {color: black;}#sk-container-id-1 div.sk-toggleable__content {max-height: 0;max-width: 0;overflow: hidden;text-align: left;background-color: #f0f8ff;}#sk-container-id-1 div.sk-toggleable__content pre {margin: 0.2em;color: black;border-radius: 0.25em;background-color: #f0f8ff;}#sk-container-id-1 input.sk-toggleable__control:checked~div.sk-toggleable__content {max-height: 200px;max-width: 100%;overflow: auto;}#sk-container-id-1 input.sk-toggleable__control:checked~label.sk-toggleable__label-arrow:before {content: \"▾\";}#sk-container-id-1 div.sk-estimator input.sk-toggleable__control:checked~label.sk-toggleable__label {background-color: #d4ebff;}#sk-container-id-1 div.sk-label input.sk-toggleable__control:checked~label.sk-toggleable__label {background-color: #d4ebff;}#sk-container-id-1 input.sk-hidden--visually {border: 0;clip: rect(1px 1px 1px 1px);clip: rect(1px, 1px, 1px, 1px);height: 1px;margin: -1px;overflow: hidden;padding: 0;position: absolute;width: 1px;}#sk-container-id-1 div.sk-estimator {font-family: monospace;background-color: #f0f8ff;border: 1px dotted black;border-radius: 0.25em;box-sizing: border-box;margin-bottom: 0.5em;}#sk-container-id-1 div.sk-estimator:hover {background-color: #d4ebff;}#sk-container-id-1 div.sk-parallel-item::after {content: \"\";width: 100%;border-bottom: 1px solid gray;flex-grow: 1;}#sk-container-id-1 div.sk-label:hover label.sk-toggleable__label {background-color: #d4ebff;}#sk-container-id-1 div.sk-serial::before {content: \"\";position: absolute;border-left: 1px solid gray;box-sizing: border-box;top: 0;bottom: 0;left: 50%;z-index: 0;}#sk-container-id-1 div.sk-serial {display: flex;flex-direction: column;align-items: center;background-color: white;padding-right: 0.2em;padding-left: 0.2em;position: relative;}#sk-container-id-1 div.sk-item {position: relative;z-index: 1;}#sk-container-id-1 div.sk-parallel {display: flex;align-items: stretch;justify-content: center;background-color: white;position: relative;}#sk-container-id-1 div.sk-item::before, #sk-container-id-1 div.sk-parallel-item::before {content: \"\";position: absolute;border-left: 1px solid gray;box-sizing: border-box;top: 0;bottom: 0;left: 50%;z-index: -1;}#sk-container-id-1 div.sk-parallel-item {display: flex;flex-direction: column;z-index: 1;position: relative;background-color: white;}#sk-container-id-1 div.sk-parallel-item:first-child::after {align-self: flex-end;width: 50%;}#sk-container-id-1 div.sk-parallel-item:last-child::after {align-self: flex-start;width: 50%;}#sk-container-id-1 div.sk-parallel-item:only-child::after {width: 0;}#sk-container-id-1 div.sk-dashed-wrapped {border: 1px dashed gray;margin: 0 0.4em 0.5em 0.4em;box-sizing: border-box;padding-bottom: 0.4em;background-color: white;}#sk-container-id-1 div.sk-label label {font-family: monospace;font-weight: bold;display: inline-block;line-height: 1.2em;}#sk-container-id-1 div.sk-label-container {text-align: center;}#sk-container-id-1 div.sk-container {/* jupyter's `normalize.less` sets `[hidden] { display: none; }` but bootstrap.min.css set `[hidden] { display: none !important; }` so we also need the `!important` here to be able to override the default hidden behavior on the sphinx rendered scikit-learn.org. See: https://github.com/scikit-learn/scikit-learn/issues/21755 */display: inline-block !important;position: relative;}#sk-container-id-1 div.sk-text-repr-fallback {display: none;}</style><div id=\"sk-container-id-1\" class=\"sk-top-container\"><div class=\"sk-text-repr-fallback\"><pre>RandomForestClassifier(max_depth=5, n_jobs=-1, random_state=0)</pre><b>In a Jupyter environment, please rerun this cell to show the HTML representation or trust the notebook. <br />On GitHub, the HTML representation is unable to render, please try loading this page with nbviewer.org.</b></div><div class=\"sk-container\" hidden><div class=\"sk-item\"><div class=\"sk-estimator sk-toggleable\"><input class=\"sk-toggleable__control sk-hidden--visually\" id=\"sk-estimator-id-1\" type=\"checkbox\" checked><label for=\"sk-estimator-id-1\" class=\"sk-toggleable__label sk-toggleable__label-arrow\">RandomForestClassifier</label><div class=\"sk-toggleable__content\"><pre>RandomForestClassifier(max_depth=5, n_jobs=-1, random_state=0)</pre></div></div></div></div></div>"
      ],
      "text/plain": [
       "RandomForestClassifier(max_depth=5, n_jobs=-1, random_state=0)"
      ]
     },
     "execution_count": 64,
     "metadata": {},
     "output_type": "execute_result"
    }
   ],
   "source": [
    "rf_model=RandomForestClassifier(max_depth=5, n_jobs=-1, random_state=0)\n",
    "rf_model.fit(X_train,y_train)"
   ]
  },
  {
   "cell_type": "code",
   "execution_count": 65,
   "id": "0af19301",
   "metadata": {},
   "outputs": [
    {
     "data": {
      "text/plain": [
       "1.0"
      ]
     },
     "execution_count": 65,
     "metadata": {},
     "output_type": "execute_result"
    }
   ],
   "source": [
    "y_prob = rf_model.predict_proba(X_test)[:,1] # This will give you positive class prediction probabilities  \n",
    "y_pred = np.where(y_prob > 0.5, 1, -1) # This will threshold the probabilities to give class predictions.\n",
    "rf_model.score(X_test, y_pred)"
   ]
  },
  {
   "cell_type": "code",
   "execution_count": 66,
   "id": "bee0ac51",
   "metadata": {},
   "outputs": [
    {
     "data": {
      "text/plain": [
       "0.9081528632387957"
      ]
     },
     "execution_count": 66,
     "metadata": {},
     "output_type": "execute_result"
    }
   ],
   "source": [
    "from sklearn import metrics\n",
    "auc_roc=metrics.roc_auc_score(y_test,y_pred)\n",
    "auc_roc"
   ]
  },
  {
   "cell_type": "code",
   "execution_count": 67,
   "id": "af4d8c5e",
   "metadata": {},
   "outputs": [
    {
     "data": {
      "text/plain": [
       "0.9838555296225571"
      ]
     },
     "execution_count": 67,
     "metadata": {},
     "output_type": "execute_result"
    }
   ],
   "source": [
    "from sklearn.metrics import roc_curve, auc\n",
    "false_positive_rate, true_positive_rate, thresholds = roc_curve(y_test, y_prob)\n",
    "roc_auc = auc(false_positive_rate, true_positive_rate)\n",
    "roc_auc"
   ]
  },
  {
   "cell_type": "code",
   "execution_count": 68,
   "id": "ec56dc6d",
   "metadata": {},
   "outputs": [
    {
     "data": {
      "text/plain": [
       "Text(0.5, 0, 'False Positive Rate')"
      ]
     },
     "execution_count": 68,
     "metadata": {},
     "output_type": "execute_result"
    },
    {
     "data": {
      "image/png": "[encoded data removed]",
      "text/plain": [
       "<Figure size 1000x1000 with 1 Axes>"
      ]
     },
     "metadata": {},
     "output_type": "display_data"
    }
   ],
   "source": [
    "import matplotlib.pyplot as plt\n",
    "plt.figure(figsize=(10,10))\n",
    "plt.title('ROC')\n",
    "plt.plot(false_positive_rate,true_positive_rate, color='red',label = 'AUC = %0.2f' % roc_auc)\n",
    "plt.legend(loc = 'lower right')\n",
    "plt.plot([0, 1], [0, 1],linestyle='--')\n",
    "plt.axis('tight')\n",
    "plt.ylabel('True Positive Rate')\n",
    "plt.xlabel('False Positive Rate')"
   ]
  },
  {
   "cell_type": "code",
   "execution_count": 69,
   "id": "4de406d7",
   "metadata": {},
   "outputs": [],
   "source": [
    "# Check coef\n",
    "#rfc_1.feature_importances_"
   ]
  },
  {
   "cell_type": "code",
   "execution_count": 70,
   "id": "847b8fdf",
   "metadata": {},
   "outputs": [],
   "source": [
    "# Get the coef's into a dictionary\n",
    "#feature_dict = dict(zip(df.columns, list(rfc_1.feature_importances_)))\n",
    "#feature_dict"
   ]
  },
  {
   "cell_type": "code",
   "execution_count": 71,
   "id": "1062a15c",
   "metadata": {},
   "outputs": [],
   "source": [
    "# Visualize feature importance\n",
    "#feature_df = pd.DataFrame(feature_dict, index=[0])\n",
    "#feature_df.T.plot.bar(title=\"Feature Importance\", legend=False, figsize=(80, 10))\n",
    "#plt.xticks(rotation = 360)\n",
    "#plt.show()"
   ]
  },
  {
   "cell_type": "markdown",
   "id": "718d50d7",
   "metadata": {},
   "source": [
    "# Logistic Regreesion"
   ]
  },
  {
   "cell_type": "code",
   "execution_count": 72,
   "id": "f37e92aa",
   "metadata": {},
   "outputs": [
    {
     "name": "stdout",
     "output_type": "stream",
     "text": [
      "Accuracy:  0.937733499377335\n"
     ]
    }
   ],
   "source": [
    "from sklearn.linear_model import LogisticRegression\n",
    "lrc = LogisticRegression(random_state=0)\n",
    "lrc.fit(X_train, y_train)\n",
    "y_pred = lrc.predict(X_test)\n",
    "print('Accuracy: ' , accuracy_score(y_test, y_pred))"
   ]
  },
  {
   "cell_type": "code",
   "execution_count": 73,
   "id": "a94598fd",
   "metadata": {},
   "outputs": [
    {
     "data": {
      "text/plain": [
       "array([ 1, -1,  1, ...,  1,  1,  1], dtype=int64)"
      ]
     },
     "execution_count": 73,
     "metadata": {},
     "output_type": "execute_result"
    }
   ],
   "source": [
    "y_pred_train = lrc.predict(X_train)\n",
    "y_pred_train"
   ]
  },
  {
   "cell_type": "code",
   "execution_count": 74,
   "id": "90f39ff1",
   "metadata": {},
   "outputs": [
    {
     "name": "stdout",
     "output_type": "stream",
     "text": [
      "Training-set accuracy score: 0.9328\n"
     ]
    }
   ],
   "source": [
    "print('Training-set accuracy score: {0:0.4f}'. format(accuracy_score(y_train, y_pred_train)))"
   ]
  },
  {
   "cell_type": "code",
   "execution_count": 75,
   "id": "45046f81",
   "metadata": {},
   "outputs": [
    {
     "name": "stdout",
     "output_type": "stream",
     "text": [
      "Training set score: 0.9328\n",
      "Test set score: 0.9377\n"
     ]
    }
   ],
   "source": [
    "# print the scores on training and test set\n",
    "print('Training set score: {:.4f}'.format(lrc.score(X_train, y_train)))\n",
    "print('Test set score: {:.4f}'.format(lrc.score(X_test, y_test)))"
   ]
  },
  {
   "cell_type": "code",
   "execution_count": 76,
   "id": "6e5700cb",
   "metadata": {},
   "outputs": [
    {
     "data": {
      "text/html": [
       "<div>\n",
       "<style scoped>\n",
       "    .dataframe tbody tr th:only-of-type {\n",
       "        vertical-align: middle;\n",
       "    }\n",
       "\n",
       "    .dataframe tbody tr th {\n",
       "        vertical-align: top;\n",
       "    }\n",
       "\n",
       "    .dataframe thead th {\n",
       "        text-align: right;\n",
       "    }\n",
       "</style>\n",
       "<table border=\"1\" class=\"dataframe\">\n",
       "  <thead>\n",
       "    <tr style=\"text-align: right;\">\n",
       "      <th></th>\n",
       "      <th>predict_proba_-1</th>\n",
       "      <th>predict_proba_1</th>\n",
       "    </tr>\n",
       "  </thead>\n",
       "  <tbody>\n",
       "    <tr>\n",
       "      <th>0</th>\n",
       "      <td>0.853034</td>\n",
       "      <td>0.146966</td>\n",
       "    </tr>\n",
       "    <tr>\n",
       "      <th>1</th>\n",
       "      <td>0.334285</td>\n",
       "      <td>0.665715</td>\n",
       "    </tr>\n",
       "    <tr>\n",
       "      <th>2</th>\n",
       "      <td>0.989920</td>\n",
       "      <td>0.010080</td>\n",
       "    </tr>\n",
       "    <tr>\n",
       "      <th>3</th>\n",
       "      <td>0.932132</td>\n",
       "      <td>0.067868</td>\n",
       "    </tr>\n",
       "    <tr>\n",
       "      <th>4</th>\n",
       "      <td>0.041848</td>\n",
       "      <td>0.958152</td>\n",
       "    </tr>\n",
       "    <tr>\n",
       "      <th>...</th>\n",
       "      <td>...</td>\n",
       "      <td>...</td>\n",
       "    </tr>\n",
       "    <tr>\n",
       "      <th>5616</th>\n",
       "      <td>0.006523</td>\n",
       "      <td>0.993477</td>\n",
       "    </tr>\n",
       "    <tr>\n",
       "      <th>5617</th>\n",
       "      <td>0.924727</td>\n",
       "      <td>0.075273</td>\n",
       "    </tr>\n",
       "    <tr>\n",
       "      <th>5618</th>\n",
       "      <td>0.006066</td>\n",
       "      <td>0.993934</td>\n",
       "    </tr>\n",
       "    <tr>\n",
       "      <th>5619</th>\n",
       "      <td>0.002427</td>\n",
       "      <td>0.997573</td>\n",
       "    </tr>\n",
       "    <tr>\n",
       "      <th>5620</th>\n",
       "      <td>0.008919</td>\n",
       "      <td>0.991081</td>\n",
       "    </tr>\n",
       "  </tbody>\n",
       "</table>\n",
       "<p>5621 rows × 2 columns</p>\n",
       "</div>"
      ],
      "text/plain": [
       "      predict_proba_-1  predict_proba_1\n",
       "0             0.853034         0.146966\n",
       "1             0.334285         0.665715\n",
       "2             0.989920         0.010080\n",
       "3             0.932132         0.067868\n",
       "4             0.041848         0.958152\n",
       "...                ...              ...\n",
       "5616          0.006523         0.993477\n",
       "5617          0.924727         0.075273\n",
       "5618          0.006066         0.993934\n",
       "5619          0.002427         0.997573\n",
       "5620          0.008919         0.991081\n",
       "\n",
       "[5621 rows x 2 columns]"
      ]
     },
     "execution_count": 76,
     "metadata": {},
     "output_type": "execute_result"
    }
   ],
   "source": [
    "predict_proba = pd.DataFrame(lrc.predict_proba(X_test), columns=['predict_proba_-1', 'predict_proba_1'])\n",
    "predict_proba"
   ]
  },
  {
   "cell_type": "markdown",
   "id": "9fdef8e9",
   "metadata": {},
   "source": [
    "# Confusion Matrix"
   ]
  },
  {
   "cell_type": "code",
   "execution_count": 77,
   "id": "3361d2d5",
   "metadata": {},
   "outputs": [
    {
     "data": {
      "text/plain": [
       "array([[1387,  184],\n",
       "       [ 166, 3884]], dtype=int64)"
      ]
     },
     "execution_count": 77,
     "metadata": {},
     "output_type": "execute_result"
    }
   ],
   "source": [
    "# View confusion matrix for test data and predictions\n",
    "cm =confusion_matrix(y_test, y_pred)\n",
    "cm"
   ]
  },
  {
   "cell_type": "code",
   "execution_count": 78,
   "id": "bb63b7c2",
   "metadata": {},
   "outputs": [
    {
     "data": {
      "text/plain": [
       "<Axes: >"
      ]
     },
     "execution_count": 78,
     "metadata": {},
     "output_type": "execute_result"
    },
    {
     "data": {
      "image/png": "[encoded data removed]",
      "text/plain": [
       "<Figure size 640x480 with 2 Axes>"
      ]
     },
     "metadata": {},
     "output_type": "display_data"
    }
   ],
   "source": [
    "# visualize confusion matrix with seaborn heatmap\n",
    "\n",
    "cm_matrix = pd.DataFrame(data=cm, columns=['Actual Positive:1', 'Actual Negative:-1'], \n",
    "                                 index=['Predict Positive:1', 'Predict Negative:-1'])\n",
    "\n",
    "sns.heatmap(cm_matrix, annot=True, fmt='d', cmap='YlGnBu')"
   ]
  },
  {
   "cell_type": "code",
   "execution_count": 79,
   "id": "5ed830f6",
   "metadata": {},
   "outputs": [
    {
     "name": "stdout",
     "output_type": "stream",
     "text": [
      "              precision    recall  f1-score   support\n",
      "\n",
      "          -1       0.89      0.88      0.89      1571\n",
      "           1       0.95      0.96      0.96      4050\n",
      "\n",
      "    accuracy                           0.94      5621\n",
      "   macro avg       0.92      0.92      0.92      5621\n",
      "weighted avg       0.94      0.94      0.94      5621\n",
      "\n"
     ]
    }
   ],
   "source": [
    "# View the classification report for test data and predictions\n",
    "print(classification_report(y_test, y_pred))"
   ]
  },
  {
   "cell_type": "code",
   "execution_count": 80,
   "id": "66009997",
   "metadata": {},
   "outputs": [
    {
     "name": "stdout",
     "output_type": "stream",
     "text": [
      "Confusion matrix\n",
      "\n",
      " [[1387  184]\n",
      " [ 166 3884]]\n",
      "\n",
      "True Positives(TP) =  1387\n",
      "\n",
      "True Negatives(TN) =  3884\n",
      "\n",
      "False Positives(FP) =  184\n",
      "\n",
      "False Negatives(FN) =  166\n"
     ]
    }
   ],
   "source": [
    "# Print the Confusion Matrix and slice it into four pieces\n",
    "\n",
    "from sklearn.metrics import confusion_matrix\n",
    "\n",
    "cm = confusion_matrix(y_test, y_pred)\n",
    "\n",
    "print('Confusion matrix\\n\\n', cm)\n",
    "\n",
    "print('\\nTrue Positives(TP) = ', cm[0,0])\n",
    "\n",
    "print('\\nTrue Negatives(TN) = ', cm[-1,-1])\n",
    "\n",
    "print('\\nFalse Positives(FP) = ', cm[0,-1])\n",
    "\n",
    "print('\\nFalse Negatives(FN) = ', cm[-1,0])"
   ]
  },
  {
   "cell_type": "code",
   "execution_count": 81,
   "id": "cb4bff6b",
   "metadata": {},
   "outputs": [],
   "source": [
    "TP = cm[0,0]\n",
    "TN = cm[-1,-1]\n",
    "FP = cm[0,-1]\n",
    "FN = cm[-1,0]"
   ]
  },
  {
   "cell_type": "code",
   "execution_count": 82,
   "id": "b81626cc",
   "metadata": {},
   "outputs": [
    {
     "name": "stdout",
     "output_type": "stream",
     "text": [
      "Classification accuracy : 0.9377\n"
     ]
    }
   ],
   "source": [
    "# print classification accuracy\n",
    "\n",
    "classification_accuracy = (TP + TN) / float(TP + TN + FP + FN)\n",
    "\n",
    "print('Classification accuracy : {0:0.4f}'.format(classification_accuracy))"
   ]
  },
  {
   "cell_type": "code",
   "execution_count": 83,
   "id": "3496218d",
   "metadata": {},
   "outputs": [
    {
     "name": "stdout",
     "output_type": "stream",
     "text": [
      "Precision : 0.8829\n"
     ]
    }
   ],
   "source": [
    "# print precision score\n",
    "\n",
    "precision = TP / float(TP + FP)\n",
    "print('Precision : {0:0.4f}'.format(precision))"
   ]
  },
  {
   "cell_type": "code",
   "execution_count": 84,
   "id": "ccf3be4f",
   "metadata": {},
   "outputs": [
    {
     "name": "stdout",
     "output_type": "stream",
     "text": [
      "Recall or Sensitivity : 0.8931\n"
     ]
    }
   ],
   "source": [
    "recall = TP / float(TP + FN)\n",
    "print('Recall or Sensitivity : {0:0.4f}'.format(recall))"
   ]
  },
  {
   "cell_type": "code",
   "execution_count": 85,
   "id": "e1a8d592",
   "metadata": {},
   "outputs": [
    {
     "data": {
      "text/plain": [
       "0.9209447469960944"
      ]
     },
     "execution_count": 85,
     "metadata": {},
     "output_type": "execute_result"
    }
   ],
   "source": [
    "auc = roc_auc_score(y_test, y_pred)\n",
    "auc"
   ]
  },
  {
   "cell_type": "code",
   "execution_count": 86,
   "id": "e5cdff29",
   "metadata": {},
   "outputs": [],
   "source": [
    "cm = confusion_matrix(y_test, y_pred)\n",
    "predicted_probab_log = lrc.predict_proba(X_test)\n",
    "predicted_probab_log = predicted_probab_log[:, 1]\n",
    "fpr, tpr, _ = roc_curve(y_test, predicted_probab_log)"
   ]
  },
  {
   "cell_type": "code",
   "execution_count": 87,
   "id": "5e500c85",
   "metadata": {},
   "outputs": [
    {
     "data": {
      "image/png": "[encoded data removed]",
      "text/plain": [
       "<Figure size 640x480 with 1 Axes>"
      ]
     },
     "metadata": {},
     "output_type": "display_data"
    }
   ],
   "source": [
    "from matplotlib import pyplot\n",
    "pyplot.plot(fpr, tpr, marker='.', label='Logistic Regression')\n",
    "pyplot.xlabel('False Positive Rate')\n",
    "pyplot.ylabel('True Positive Rate')\n",
    "pyplot.legend()\n",
    "pyplot.show()"
   ]
  },
  {
   "cell_type": "markdown",
   "id": "4cd1d2ff",
   "metadata": {},
   "source": [
    "# AUC-ROC Curve"
   ]
  },
  {
   "cell_type": "code",
   "execution_count": 88,
   "id": "4adcf6dc",
   "metadata": {},
   "outputs": [
    {
     "data": {
      "text/html": [
       "<style>#sk-container-id-2 {color: black;}#sk-container-id-2 pre{padding: 0;}#sk-container-id-2 div.sk-toggleable {background-color: white;}#sk-container-id-2 label.sk-toggleable__label {cursor: pointer;display: block;width: 100%;margin-bottom: 0;padding: 0.3em;box-sizing: border-box;text-align: center;}#sk-container-id-2 label.sk-toggleable__label-arrow:before {content: \"▸\";float: left;margin-right: 0.25em;color: #696969;}#sk-container-id-2 label.sk-toggleable__label-arrow:hover:before {color: black;}#sk-container-id-2 div.sk-estimator:hover label.sk-toggleable__label-arrow:before {color: black;}#sk-container-id-2 div.sk-toggleable__content {max-height: 0;max-width: 0;overflow: hidden;text-align: left;background-color: #f0f8ff;}#sk-container-id-2 div.sk-toggleable__content pre {margin: 0.2em;color: black;border-radius: 0.25em;background-color: #f0f8ff;}#sk-container-id-2 input.sk-toggleable__control:checked~div.sk-toggleable__content {max-height: 200px;max-width: 100%;overflow: auto;}#sk-container-id-2 input.sk-toggleable__control:checked~label.sk-toggleable__label-arrow:before {content: \"▾\";}#sk-container-id-2 div.sk-estimator input.sk-toggleable__control:checked~label.sk-toggleable__label {background-color: #d4ebff;}#sk-container-id-2 div.sk-label input.sk-toggleable__control:checked~label.sk-toggleable__label {background-color: #d4ebff;}#sk-container-id-2 input.sk-hidden--visually {border: 0;clip: rect(1px 1px 1px 1px);clip: rect(1px, 1px, 1px, 1px);height: 1px;margin: -1px;overflow: hidden;padding: 0;position: absolute;width: 1px;}#sk-container-id-2 div.sk-estimator {font-family: monospace;background-color: #f0f8ff;border: 1px dotted black;border-radius: 0.25em;box-sizing: border-box;margin-bottom: 0.5em;}#sk-container-id-2 div.sk-estimator:hover {background-color: #d4ebff;}#sk-container-id-2 div.sk-parallel-item::after {content: \"\";width: 100%;border-bottom: 1px solid gray;flex-grow: 1;}#sk-container-id-2 div.sk-label:hover label.sk-toggleable__label {background-color: #d4ebff;}#sk-container-id-2 div.sk-serial::before {content: \"\";position: absolute;border-left: 1px solid gray;box-sizing: border-box;top: 0;bottom: 0;left: 50%;z-index: 0;}#sk-container-id-2 div.sk-serial {display: flex;flex-direction: column;align-items: center;background-color: white;padding-right: 0.2em;padding-left: 0.2em;position: relative;}#sk-container-id-2 div.sk-item {position: relative;z-index: 1;}#sk-container-id-2 div.sk-parallel {display: flex;align-items: stretch;justify-content: center;background-color: white;position: relative;}#sk-container-id-2 div.sk-item::before, #sk-container-id-2 div.sk-parallel-item::before {content: \"\";position: absolute;border-left: 1px solid gray;box-sizing: border-box;top: 0;bottom: 0;left: 50%;z-index: -1;}#sk-container-id-2 div.sk-parallel-item {display: flex;flex-direction: column;z-index: 1;position: relative;background-color: white;}#sk-container-id-2 div.sk-parallel-item:first-child::after {align-self: flex-end;width: 50%;}#sk-container-id-2 div.sk-parallel-item:last-child::after {align-self: flex-start;width: 50%;}#sk-container-id-2 div.sk-parallel-item:only-child::after {width: 0;}#sk-container-id-2 div.sk-dashed-wrapped {border: 1px dashed gray;margin: 0 0.4em 0.5em 0.4em;box-sizing: border-box;padding-bottom: 0.4em;background-color: white;}#sk-container-id-2 div.sk-label label {font-family: monospace;font-weight: bold;display: inline-block;line-height: 1.2em;}#sk-container-id-2 div.sk-label-container {text-align: center;}#sk-container-id-2 div.sk-container {/* jupyter's `normalize.less` sets `[hidden] { display: none; }` but bootstrap.min.css set `[hidden] { display: none !important; }` so we also need the `!important` here to be able to override the default hidden behavior on the sphinx rendered scikit-learn.org. See: https://github.com/scikit-learn/scikit-learn/issues/21755 */display: inline-block !important;position: relative;}#sk-container-id-2 div.sk-text-repr-fallback {display: none;}</style><div id=\"sk-container-id-2\" class=\"sk-top-container\"><div class=\"sk-text-repr-fallback\"><pre>LogisticRegression()</pre><b>In a Jupyter environment, please rerun this cell to show the HTML representation or trust the notebook. <br />On GitHub, the HTML representation is unable to render, please try loading this page with nbviewer.org.</b></div><div class=\"sk-container\" hidden><div class=\"sk-item\"><div class=\"sk-estimator sk-toggleable\"><input class=\"sk-toggleable__control sk-hidden--visually\" id=\"sk-estimator-id-2\" type=\"checkbox\" checked><label for=\"sk-estimator-id-2\" class=\"sk-toggleable__label sk-toggleable__label-arrow\">LogisticRegression</label><div class=\"sk-toggleable__content\"><pre>LogisticRegression()</pre></div></div></div></div></div>"
      ],
      "text/plain": [
       "LogisticRegression()"
      ]
     },
     "execution_count": 88,
     "metadata": {},
     "output_type": "execute_result"
    }
   ],
   "source": [
    "lr_model=LogisticRegression()\n",
    "lr_model.fit(X_train,y_train)"
   ]
  },
  {
   "cell_type": "code",
   "execution_count": 89,
   "id": "d0268632",
   "metadata": {},
   "outputs": [
    {
     "data": {
      "text/plain": [
       "1.0"
      ]
     },
     "execution_count": 89,
     "metadata": {},
     "output_type": "execute_result"
    }
   ],
   "source": [
    "y_prob = lr_model.predict_proba(X_test)[:,1] # This will give you positive class prediction probabilities  \n",
    "y_pred = np.where(y_prob > 0.5, 1, -1) # This will threshold the probabilities to give class predictions.\n",
    "lr_model.score(X_test, y_pred)"
   ]
  },
  {
   "cell_type": "code",
   "execution_count": 90,
   "id": "25f54b18",
   "metadata": {},
   "outputs": [
    {
     "data": {
      "text/plain": [
       "0.9209447469960944"
      ]
     },
     "execution_count": 90,
     "metadata": {},
     "output_type": "execute_result"
    }
   ],
   "source": [
    "from sklearn import metrics\n",
    "auc_roc=metrics.roc_auc_score(y_test,y_pred)\n",
    "auc_roc"
   ]
  },
  {
   "cell_type": "code",
   "execution_count": 91,
   "id": "d2f52a54",
   "metadata": {},
   "outputs": [
    {
     "data": {
      "text/plain": [
       "0.9799222010043145"
      ]
     },
     "execution_count": 91,
     "metadata": {},
     "output_type": "execute_result"
    }
   ],
   "source": [
    "from sklearn.metrics import roc_curve, auc\n",
    "false_positive_rate, true_positive_rate, thresholds = roc_curve(y_test, y_prob)\n",
    "roc_auc = auc(false_positive_rate, true_positive_rate)\n",
    "roc_auc"
   ]
  },
  {
   "cell_type": "code",
   "execution_count": 92,
   "id": "8bda1fd8",
   "metadata": {},
   "outputs": [
    {
     "data": {
      "text/plain": [
       "Text(0.5, 0, 'False Positive Rate')"
      ]
     },
     "execution_count": 92,
     "metadata": {},
     "output_type": "execute_result"
    },
    {
     "data": {
      "image/png": "[encoded data removed]",
      "text/plain": [
       "<Figure size 1000x1000 with 1 Axes>"
      ]
     },
     "metadata": {},
     "output_type": "display_data"
    }
   ],
   "source": [
    "import matplotlib.pyplot as plt\n",
    "plt.figure(figsize=(10,10))\n",
    "plt.title('ROC')\n",
    "plt.plot(false_positive_rate,true_positive_rate, color='red',label = 'AUC = %0.2f' % roc_auc)\n",
    "plt.legend(loc = 'lower right')\n",
    "plt.plot([0, 1], [0, 1],linestyle='--')\n",
    "plt.axis('tight')\n",
    "plt.ylabel('True Positive Rate')\n",
    "plt.xlabel('False Positive Rate')"
   ]
  },
  {
   "cell_type": "markdown",
   "id": "b3d1d648",
   "metadata": {},
   "source": [
    "# Gaussian Naive Bayes"
   ]
  },
  {
   "cell_type": "code",
   "execution_count": 93,
   "id": "5971ad3c",
   "metadata": {},
   "outputs": [
    {
     "name": "stdout",
     "output_type": "stream",
     "text": [
      "Accuracy:  0.9067781533534958\n"
     ]
    }
   ],
   "source": [
    "from sklearn.naive_bayes import GaussianNB\n",
    "gnb = GaussianNB()\n",
    "gnb.fit(X_train, y_train)\n",
    "y_pred = gnb.predict(X_test)\n",
    "print('Accuracy: ' , accuracy_score(y_test, y_pred))"
   ]
  },
  {
   "cell_type": "code",
   "execution_count": 94,
   "id": "39d9ff7c",
   "metadata": {},
   "outputs": [
    {
     "data": {
      "text/plain": [
       "array([ 1, -1,  1, ...,  1,  1,  1], dtype=int64)"
      ]
     },
     "execution_count": 94,
     "metadata": {},
     "output_type": "execute_result"
    }
   ],
   "source": [
    "y_pred_train = gnb.predict(X_train)\n",
    "y_pred_train"
   ]
  },
  {
   "cell_type": "code",
   "execution_count": 95,
   "id": "82bc8a92",
   "metadata": {},
   "outputs": [
    {
     "name": "stdout",
     "output_type": "stream",
     "text": [
      "Training-set accuracy score: 0.9056\n"
     ]
    }
   ],
   "source": [
    "print('Training-set accuracy score: {0:0.4f}'. format(accuracy_score(y_train, y_pred_train)))"
   ]
  },
  {
   "cell_type": "code",
   "execution_count": 96,
   "id": "009d2749",
   "metadata": {},
   "outputs": [
    {
     "name": "stdout",
     "output_type": "stream",
     "text": [
      "Training set score: 0.9056\n",
      "Test set score: 0.9068\n"
     ]
    }
   ],
   "source": [
    "# print the scores on training and test set\n",
    "print('Training set score: {:.4f}'.format(gnb.score(X_train, y_train)))\n",
    "\n",
    "print('Test set score: {:.4f}'.format(gnb.score(X_test, y_test)))"
   ]
  },
  {
   "cell_type": "code",
   "execution_count": 97,
   "id": "155141ed",
   "metadata": {},
   "outputs": [
    {
     "data": {
      "text/plain": [
       "label\n",
       " 1    4050\n",
       "-1    1571\n",
       "Name: count, dtype: int64"
      ]
     },
     "execution_count": 97,
     "metadata": {},
     "output_type": "execute_result"
    }
   ],
   "source": [
    "# check class distribution in test set\n",
    "\n",
    "y_test.value_counts()"
   ]
  },
  {
   "cell_type": "code",
   "execution_count": 98,
   "id": "564ca542",
   "metadata": {},
   "outputs": [
    {
     "name": "stdout",
     "output_type": "stream",
     "text": [
      "Null accuracy score: 0.7205\n"
     ]
    }
   ],
   "source": [
    "# check null accuracy score\n",
    "null_accuracy = (4050/(4050+1571))\n",
    "print('Null accuracy score: {0:0.4f}'. format(null_accuracy))"
   ]
  },
  {
   "cell_type": "code",
   "execution_count": 99,
   "id": "0f2a8974",
   "metadata": {},
   "outputs": [
    {
     "data": {
      "text/html": [
       "<div>\n",
       "<style scoped>\n",
       "    .dataframe tbody tr th:only-of-type {\n",
       "        vertical-align: middle;\n",
       "    }\n",
       "\n",
       "    .dataframe tbody tr th {\n",
       "        vertical-align: top;\n",
       "    }\n",
       "\n",
       "    .dataframe thead th {\n",
       "        text-align: right;\n",
       "    }\n",
       "</style>\n",
       "<table border=\"1\" class=\"dataframe\">\n",
       "  <thead>\n",
       "    <tr style=\"text-align: right;\">\n",
       "      <th></th>\n",
       "      <th>predict_proba_-1</th>\n",
       "      <th>predict_proba_1</th>\n",
       "    </tr>\n",
       "  </thead>\n",
       "  <tbody>\n",
       "    <tr>\n",
       "      <th>0</th>\n",
       "      <td>0.704566</td>\n",
       "      <td>0.295434</td>\n",
       "    </tr>\n",
       "    <tr>\n",
       "      <th>1</th>\n",
       "      <td>0.445656</td>\n",
       "      <td>0.554344</td>\n",
       "    </tr>\n",
       "    <tr>\n",
       "      <th>2</th>\n",
       "      <td>0.932662</td>\n",
       "      <td>0.067338</td>\n",
       "    </tr>\n",
       "    <tr>\n",
       "      <th>3</th>\n",
       "      <td>0.720634</td>\n",
       "      <td>0.279366</td>\n",
       "    </tr>\n",
       "    <tr>\n",
       "      <th>4</th>\n",
       "      <td>0.045690</td>\n",
       "      <td>0.954310</td>\n",
       "    </tr>\n",
       "    <tr>\n",
       "      <th>...</th>\n",
       "      <td>...</td>\n",
       "      <td>...</td>\n",
       "    </tr>\n",
       "    <tr>\n",
       "      <th>5616</th>\n",
       "      <td>0.001856</td>\n",
       "      <td>0.998144</td>\n",
       "    </tr>\n",
       "    <tr>\n",
       "      <th>5617</th>\n",
       "      <td>0.757090</td>\n",
       "      <td>0.242910</td>\n",
       "    </tr>\n",
       "    <tr>\n",
       "      <th>5618</th>\n",
       "      <td>0.085332</td>\n",
       "      <td>0.914668</td>\n",
       "    </tr>\n",
       "    <tr>\n",
       "      <th>5619</th>\n",
       "      <td>0.028136</td>\n",
       "      <td>0.971864</td>\n",
       "    </tr>\n",
       "    <tr>\n",
       "      <th>5620</th>\n",
       "      <td>0.000191</td>\n",
       "      <td>0.999809</td>\n",
       "    </tr>\n",
       "  </tbody>\n",
       "</table>\n",
       "<p>5621 rows × 2 columns</p>\n",
       "</div>"
      ],
      "text/plain": [
       "      predict_proba_-1  predict_proba_1\n",
       "0             0.704566         0.295434\n",
       "1             0.445656         0.554344\n",
       "2             0.932662         0.067338\n",
       "3             0.720634         0.279366\n",
       "4             0.045690         0.954310\n",
       "...                ...              ...\n",
       "5616          0.001856         0.998144\n",
       "5617          0.757090         0.242910\n",
       "5618          0.085332         0.914668\n",
       "5619          0.028136         0.971864\n",
       "5620          0.000191         0.999809\n",
       "\n",
       "[5621 rows x 2 columns]"
      ]
     },
     "execution_count": 99,
     "metadata": {},
     "output_type": "execute_result"
    }
   ],
   "source": [
    "predict_proba = pd.DataFrame(gnb.predict_proba(X_test), columns=['predict_proba_-1', 'predict_proba_1'])\n",
    "predict_proba\n"
   ]
  },
  {
   "cell_type": "code",
   "execution_count": 100,
   "id": "87b99f81",
   "metadata": {},
   "outputs": [],
   "source": [
    "# store the predicted probabilities\n",
    "\n",
    "y_pred1 = gnb.predict_proba(X_test)[:, 1]"
   ]
  },
  {
   "cell_type": "code",
   "execution_count": 101,
   "id": "c0427d0f",
   "metadata": {},
   "outputs": [
    {
     "data": {
      "text/plain": [
       "array([0.29543395, 0.55434397, 0.06733843, ..., 0.91466781, 0.97186419,\n",
       "       0.99980882])"
      ]
     },
     "execution_count": 101,
     "metadata": {},
     "output_type": "execute_result"
    }
   ],
   "source": [
    "y_pred1"
   ]
  },
  {
   "cell_type": "markdown",
   "id": "3e22484a",
   "metadata": {},
   "source": [
    "# Confusion Matrix"
   ]
  },
  {
   "cell_type": "code",
   "execution_count": 102,
   "id": "93f7984c",
   "metadata": {},
   "outputs": [],
   "source": [
    "# View confusion matrix for test data and predictions\n",
    "cm =confusion_matrix(y_test, y_pred)"
   ]
  },
  {
   "cell_type": "markdown",
   "id": "d5520f1d",
   "metadata": {},
   "source": [
    "The confusion matrix shows 1324 + 3773 = 5097 correct predictions and 247 + 277 = 524 incorrect predictions."
   ]
  },
  {
   "cell_type": "code",
   "execution_count": 103,
   "id": "b666a568",
   "metadata": {},
   "outputs": [
    {
     "data": {
      "text/plain": [
       "<Axes: >"
      ]
     },
     "execution_count": 103,
     "metadata": {},
     "output_type": "execute_result"
    },
    {
     "data": {
      "image/png": "[encoded data removed]",
      "text/plain": [
       "<Figure size 640x480 with 2 Axes>"
      ]
     },
     "metadata": {},
     "output_type": "display_data"
    }
   ],
   "source": [
    "# visualize confusion matrix with seaborn heatmap\n",
    "\n",
    "cm_matrix = pd.DataFrame(data=cm, columns=['Actual Positive:1', 'Actual Negative:-1'], \n",
    "                                 index=['Predict Positive:1', 'Predict Negative:-1'])\n",
    "\n",
    "sns.heatmap(cm_matrix, annot=True, fmt='d', cmap='YlGnBu')"
   ]
  },
  {
   "cell_type": "code",
   "execution_count": 104,
   "id": "38789a84",
   "metadata": {},
   "outputs": [
    {
     "name": "stdout",
     "output_type": "stream",
     "text": [
      "              precision    recall  f1-score   support\n",
      "\n",
      "          -1       0.83      0.84      0.83      1571\n",
      "           1       0.94      0.93      0.94      4050\n",
      "\n",
      "    accuracy                           0.91      5621\n",
      "   macro avg       0.88      0.89      0.88      5621\n",
      "weighted avg       0.91      0.91      0.91      5621\n",
      "\n"
     ]
    }
   ],
   "source": [
    "from sklearn.metrics import classification_report\n",
    "print(classification_report(y_test, y_pred))"
   ]
  },
  {
   "cell_type": "code",
   "execution_count": 105,
   "id": "9cbdc9bb",
   "metadata": {},
   "outputs": [
    {
     "name": "stdout",
     "output_type": "stream",
     "text": [
      "Confusion matrix\n",
      "\n",
      " [[1324  247]\n",
      " [ 277 3773]]\n",
      "\n",
      "True Positives(TP) =  1324\n",
      "\n",
      "True Negatives(TN) =  3773\n",
      "\n",
      "False Positives(FP) =  247\n",
      "\n",
      "False Negatives(FN) =  277\n"
     ]
    }
   ],
   "source": [
    "# Print the Confusion Matrix and slice it into four pieces\n",
    "\n",
    "from sklearn.metrics import confusion_matrix\n",
    "\n",
    "cm = confusion_matrix(y_test, y_pred)\n",
    "\n",
    "print('Confusion matrix\\n\\n', cm)\n",
    "\n",
    "print('\\nTrue Positives(TP) = ', cm[0,0])\n",
    "\n",
    "print('\\nTrue Negatives(TN) = ', cm[-1,-1])\n",
    "\n",
    "print('\\nFalse Positives(FP) = ', cm[0,-1])\n",
    "\n",
    "print('\\nFalse Negatives(FN) = ', cm[-1,0])"
   ]
  },
  {
   "cell_type": "code",
   "execution_count": 106,
   "id": "edc9c20c",
   "metadata": {},
   "outputs": [],
   "source": [
    "TP = cm[0,0]\n",
    "TN = cm[-1,-1]\n",
    "FP = cm[0,-1]\n",
    "FN = cm[-1,0]"
   ]
  },
  {
   "cell_type": "code",
   "execution_count": 107,
   "id": "84629e77",
   "metadata": {},
   "outputs": [
    {
     "name": "stdout",
     "output_type": "stream",
     "text": [
      "Classification accuracy : 0.9068\n"
     ]
    }
   ],
   "source": [
    "# print classification accuracy\n",
    "\n",
    "classification_accuracy = (TP + TN) / float(TP + TN + FP + FN)\n",
    "\n",
    "print('Classification accuracy : {0:0.4f}'.format(classification_accuracy))"
   ]
  },
  {
   "cell_type": "code",
   "execution_count": 108,
   "id": "6a47b07f",
   "metadata": {},
   "outputs": [
    {
     "name": "stdout",
     "output_type": "stream",
     "text": [
      "Precision : 0.8428\n"
     ]
    }
   ],
   "source": [
    "# print precision score\n",
    "\n",
    "precision = TP / float(TP + FP)\n",
    "print('Precision : {0:0.4f}'.format(precision))"
   ]
  },
  {
   "cell_type": "code",
   "execution_count": 109,
   "id": "e57698fe",
   "metadata": {},
   "outputs": [
    {
     "name": "stdout",
     "output_type": "stream",
     "text": [
      "Recall or Sensitivity : 0.8270\n"
     ]
    }
   ],
   "source": [
    "recall = TP / float(TP + FN)\n",
    "print('Recall or Sensitivity : {0:0.4f}'.format(recall))"
   ]
  },
  {
   "cell_type": "code",
   "execution_count": 110,
   "id": "a309287f",
   "metadata": {},
   "outputs": [
    {
     "data": {
      "text/plain": [
       "0.8871901203133964"
      ]
     },
     "execution_count": 110,
     "metadata": {},
     "output_type": "execute_result"
    }
   ],
   "source": [
    "auc = roc_auc_score(y_test, y_pred)\n",
    "auc"
   ]
  },
  {
   "cell_type": "code",
   "execution_count": 111,
   "id": "c950efb7",
   "metadata": {},
   "outputs": [],
   "source": [
    "cm = confusion_matrix(y_test, y_pred)\n",
    "predicted_probab_log = gnb.predict_proba(X_test)\n",
    "predicted_probab_log = predicted_probab_log[:, 1]\n",
    "fpr, tpr, _ = roc_curve(y_test, predicted_probab_log)"
   ]
  },
  {
   "cell_type": "code",
   "execution_count": 112,
   "id": "85b295ec",
   "metadata": {},
   "outputs": [
    {
     "data": {
      "image/png": "[encoded data removed]",
      "text/plain": [
       "<Figure size 640x480 with 1 Axes>"
      ]
     },
     "metadata": {},
     "output_type": "display_data"
    }
   ],
   "source": [
    "from matplotlib import pyplot\n",
    "pyplot.plot(fpr, tpr, marker='.', label='Gaussion Naive Bayes')\n",
    "pyplot.xlabel('False Positive Rate')\n",
    "pyplot.ylabel('True Positive Rate')\n",
    "pyplot.legend()\n",
    "pyplot.show()"
   ]
  },
  {
   "cell_type": "code",
   "execution_count": 113,
   "id": "0d16d731",
   "metadata": {},
   "outputs": [
    {
     "data": {
      "text/html": [
       "<style>#sk-container-id-3 {color: black;}#sk-container-id-3 pre{padding: 0;}#sk-container-id-3 div.sk-toggleable {background-color: white;}#sk-container-id-3 label.sk-toggleable__label {cursor: pointer;display: block;width: 100%;margin-bottom: 0;padding: 0.3em;box-sizing: border-box;text-align: center;}#sk-container-id-3 label.sk-toggleable__label-arrow:before {content: \"▸\";float: left;margin-right: 0.25em;color: #696969;}#sk-container-id-3 label.sk-toggleable__label-arrow:hover:before {color: black;}#sk-container-id-3 div.sk-estimator:hover label.sk-toggleable__label-arrow:before {color: black;}#sk-container-id-3 div.sk-toggleable__content {max-height: 0;max-width: 0;overflow: hidden;text-align: left;background-color: #f0f8ff;}#sk-container-id-3 div.sk-toggleable__content pre {margin: 0.2em;color: black;border-radius: 0.25em;background-color: #f0f8ff;}#sk-container-id-3 input.sk-toggleable__control:checked~div.sk-toggleable__content {max-height: 200px;max-width: 100%;overflow: auto;}#sk-container-id-3 input.sk-toggleable__control:checked~label.sk-toggleable__label-arrow:before {content: \"▾\";}#sk-container-id-3 div.sk-estimator input.sk-toggleable__control:checked~label.sk-toggleable__label {background-color: #d4ebff;}#sk-container-id-3 div.sk-label input.sk-toggleable__control:checked~label.sk-toggleable__label {background-color: #d4ebff;}#sk-container-id-3 input.sk-hidden--visually {border: 0;clip: rect(1px 1px 1px 1px);clip: rect(1px, 1px, 1px, 1px);height: 1px;margin: -1px;overflow: hidden;padding: 0;position: absolute;width: 1px;}#sk-container-id-3 div.sk-estimator {font-family: monospace;background-color: #f0f8ff;border: 1px dotted black;border-radius: 0.25em;box-sizing: border-box;margin-bottom: 0.5em;}#sk-container-id-3 div.sk-estimator:hover {background-color: #d4ebff;}#sk-container-id-3 div.sk-parallel-item::after {content: \"\";width: 100%;border-bottom: 1px solid gray;flex-grow: 1;}#sk-container-id-3 div.sk-label:hover label.sk-toggleable__label {background-color: #d4ebff;}#sk-container-id-3 div.sk-serial::before {content: \"\";position: absolute;border-left: 1px solid gray;box-sizing: border-box;top: 0;bottom: 0;left: 50%;z-index: 0;}#sk-container-id-3 div.sk-serial {display: flex;flex-direction: column;align-items: center;background-color: white;padding-right: 0.2em;padding-left: 0.2em;position: relative;}#sk-container-id-3 div.sk-item {position: relative;z-index: 1;}#sk-container-id-3 div.sk-parallel {display: flex;align-items: stretch;justify-content: center;background-color: white;position: relative;}#sk-container-id-3 div.sk-item::before, #sk-container-id-3 div.sk-parallel-item::before {content: \"\";position: absolute;border-left: 1px solid gray;box-sizing: border-box;top: 0;bottom: 0;left: 50%;z-index: -1;}#sk-container-id-3 div.sk-parallel-item {display: flex;flex-direction: column;z-index: 1;position: relative;background-color: white;}#sk-container-id-3 div.sk-parallel-item:first-child::after {align-self: flex-end;width: 50%;}#sk-container-id-3 div.sk-parallel-item:last-child::after {align-self: flex-start;width: 50%;}#sk-container-id-3 div.sk-parallel-item:only-child::after {width: 0;}#sk-container-id-3 div.sk-dashed-wrapped {border: 1px dashed gray;margin: 0 0.4em 0.5em 0.4em;box-sizing: border-box;padding-bottom: 0.4em;background-color: white;}#sk-container-id-3 div.sk-label label {font-family: monospace;font-weight: bold;display: inline-block;line-height: 1.2em;}#sk-container-id-3 div.sk-label-container {text-align: center;}#sk-container-id-3 div.sk-container {/* jupyter's `normalize.less` sets `[hidden] { display: none; }` but bootstrap.min.css set `[hidden] { display: none !important; }` so we also need the `!important` here to be able to override the default hidden behavior on the sphinx rendered scikit-learn.org. See: https://github.com/scikit-learn/scikit-learn/issues/21755 */display: inline-block !important;position: relative;}#sk-container-id-3 div.sk-text-repr-fallback {display: none;}</style><div id=\"sk-container-id-3\" class=\"sk-top-container\"><div class=\"sk-text-repr-fallback\"><pre>GaussianNB()</pre><b>In a Jupyter environment, please rerun this cell to show the HTML representation or trust the notebook. <br />On GitHub, the HTML representation is unable to render, please try loading this page with nbviewer.org.</b></div><div class=\"sk-container\" hidden><div class=\"sk-item\"><div class=\"sk-estimator sk-toggleable\"><input class=\"sk-toggleable__control sk-hidden--visually\" id=\"sk-estimator-id-3\" type=\"checkbox\" checked><label for=\"sk-estimator-id-3\" class=\"sk-toggleable__label sk-toggleable__label-arrow\">GaussianNB</label><div class=\"sk-toggleable__content\"><pre>GaussianNB()</pre></div></div></div></div></div>"
      ],
      "text/plain": [
       "GaussianNB()"
      ]
     },
     "execution_count": 113,
     "metadata": {},
     "output_type": "execute_result"
    }
   ],
   "source": [
    "gnb_model=GaussianNB()\n",
    "gnb_model.fit(X_train,y_train)"
   ]
  },
  {
   "cell_type": "code",
   "execution_count": 114,
   "id": "ce9b1080",
   "metadata": {},
   "outputs": [
    {
     "data": {
      "text/plain": [
       "1.0"
      ]
     },
     "execution_count": 114,
     "metadata": {},
     "output_type": "execute_result"
    }
   ],
   "source": [
    "y_prob = gnb_model.predict_proba(X_test)[:,1] # This will give you positive class prediction probabilities  \n",
    "y_pred = np.where(y_prob > 0.5, 1, -1) # This will threshold the probabilities to give class predictions.\n",
    "gnb_model.score(X_test, y_pred)"
   ]
  },
  {
   "cell_type": "code",
   "execution_count": 115,
   "id": "de98fbe1",
   "metadata": {},
   "outputs": [],
   "source": [
    "from sklearn import metrics"
   ]
  },
  {
   "cell_type": "code",
   "execution_count": 116,
   "id": "84a237f8",
   "metadata": {},
   "outputs": [
    {
     "data": {
      "text/plain": [
       "0.8871901203133964"
      ]
     },
     "execution_count": 116,
     "metadata": {},
     "output_type": "execute_result"
    }
   ],
   "source": [
    "auc_roc=metrics.roc_auc_score(y_test,y_pred)\n",
    "auc_roc"
   ]
  },
  {
   "cell_type": "code",
   "execution_count": 117,
   "id": "3fbddca0",
   "metadata": {},
   "outputs": [
    {
     "data": {
      "text/plain": [
       "0.9293665275714925"
      ]
     },
     "execution_count": 117,
     "metadata": {},
     "output_type": "execute_result"
    }
   ],
   "source": [
    "from sklearn.metrics import roc_curve, auc\n",
    "false_positive_rate, true_positive_rate, thresholds = roc_curve(y_test, y_prob)\n",
    "roc_auc = auc(false_positive_rate, true_positive_rate)\n",
    "roc_auc"
   ]
  },
  {
   "cell_type": "code",
   "execution_count": 118,
   "id": "546ee0a6",
   "metadata": {},
   "outputs": [
    {
     "data": {
      "text/plain": [
       "Text(0.5, 0, 'False Positive Rate')"
      ]
     },
     "execution_count": 118,
     "metadata": {},
     "output_type": "execute_result"
    },
    {
     "data": {
      "image/png": "[encoded data removed]",
      "text/plain": [
       "<Figure size 1000x1000 with 1 Axes>"
      ]
     },
     "metadata": {},
     "output_type": "display_data"
    }
   ],
   "source": [
    "import matplotlib.pyplot as plt\n",
    "plt.figure(figsize=(10,10))\n",
    "plt.title('ROC')\n",
    "plt.plot(false_positive_rate,true_positive_rate, color='red',label = 'AUC = %0.2f' % roc_auc)\n",
    "plt.legend(loc = 'lower right')\n",
    "plt.plot([0, 1], [0, 1],linestyle='--')\n",
    "plt.axis('tight')\n",
    "plt.ylabel('True Positive Rate')\n",
    "plt.xlabel('False Positive Rate')"
   ]
  },
  {
   "cell_type": "markdown",
   "id": "c749a79b",
   "metadata": {},
   "source": [
    "# Support Vector Machine Classification (SVC)"
   ]
  },
  {
   "cell_type": "code",
   "execution_count": 119,
   "id": "6d841bcc",
   "metadata": {},
   "outputs": [
    {
     "name": "stdout",
     "output_type": "stream",
     "text": [
      "Model accuracy : 0.964\n"
     ]
    }
   ],
   "source": [
    "from sklearn.svm import SVC\n",
    "from sklearn.metrics import accuracy_score\n",
    "svc=SVC(random_state = 22,probability = True) \n",
    "svc.fit(X_train, y_train)\n",
    "y_pred=svc.predict(X_test)\n",
    "print('Model accuracy : {0:0.3f}'. format(accuracy_score(y_test, y_pred)))"
   ]
  },
  {
   "cell_type": "code",
   "execution_count": 120,
   "id": "0bc563b8",
   "metadata": {},
   "outputs": [],
   "source": [
    "y_prob = svc.predict_proba(X_test)[:,1]"
   ]
  },
  {
   "cell_type": "code",
   "execution_count": 121,
   "id": "16057445",
   "metadata": {},
   "outputs": [
    {
     "data": {
      "text/plain": [
       "array([ 1, -1,  1, ...,  1,  1,  1], dtype=int64)"
      ]
     },
     "execution_count": 121,
     "metadata": {},
     "output_type": "execute_result"
    }
   ],
   "source": [
    "y_pred_train = svc.predict(X_train)\n",
    "y_pred_train"
   ]
  },
  {
   "cell_type": "code",
   "execution_count": 122,
   "id": "bcb3e708",
   "metadata": {},
   "outputs": [
    {
     "name": "stdout",
     "output_type": "stream",
     "text": [
      "Training-set accuracy score: 0.9662\n"
     ]
    }
   ],
   "source": [
    "print('Training-set accuracy score: {0:0.4f}'. format(accuracy_score(y_train, y_pred_train)))"
   ]
  },
  {
   "cell_type": "code",
   "execution_count": 123,
   "id": "a8bdc79f",
   "metadata": {},
   "outputs": [
    {
     "name": "stdout",
     "output_type": "stream",
     "text": [
      "Training set score: 0.9662\n",
      "Test set score: 0.9641\n"
     ]
    }
   ],
   "source": [
    "# print the scores on training and test set\n",
    "print('Training set score: {:.4f}'.format(svc.score(X_train, y_train)))\n",
    "\n",
    "print('Test set score: {:.4f}'.format(svc.score(X_test, y_test)))"
   ]
  },
  {
   "cell_type": "code",
   "execution_count": 124,
   "id": "85d76d0a",
   "metadata": {},
   "outputs": [
    {
     "data": {
      "text/html": [
       "<div>\n",
       "<style scoped>\n",
       "    .dataframe tbody tr th:only-of-type {\n",
       "        vertical-align: middle;\n",
       "    }\n",
       "\n",
       "    .dataframe tbody tr th {\n",
       "        vertical-align: top;\n",
       "    }\n",
       "\n",
       "    .dataframe thead th {\n",
       "        text-align: right;\n",
       "    }\n",
       "</style>\n",
       "<table border=\"1\" class=\"dataframe\">\n",
       "  <thead>\n",
       "    <tr style=\"text-align: right;\">\n",
       "      <th></th>\n",
       "      <th>predict_proba_-1</th>\n",
       "      <th>predict_proba_1</th>\n",
       "    </tr>\n",
       "  </thead>\n",
       "  <tbody>\n",
       "    <tr>\n",
       "      <th>0</th>\n",
       "      <td>0.938101</td>\n",
       "      <td>0.061899</td>\n",
       "    </tr>\n",
       "    <tr>\n",
       "      <th>1</th>\n",
       "      <td>0.083199</td>\n",
       "      <td>0.916801</td>\n",
       "    </tr>\n",
       "    <tr>\n",
       "      <th>2</th>\n",
       "      <td>0.991914</td>\n",
       "      <td>0.008086</td>\n",
       "    </tr>\n",
       "    <tr>\n",
       "      <th>3</th>\n",
       "      <td>0.996089</td>\n",
       "      <td>0.003911</td>\n",
       "    </tr>\n",
       "    <tr>\n",
       "      <th>4</th>\n",
       "      <td>0.216592</td>\n",
       "      <td>0.783408</td>\n",
       "    </tr>\n",
       "    <tr>\n",
       "      <th>...</th>\n",
       "      <td>...</td>\n",
       "      <td>...</td>\n",
       "    </tr>\n",
       "    <tr>\n",
       "      <th>5616</th>\n",
       "      <td>0.008025</td>\n",
       "      <td>0.991975</td>\n",
       "    </tr>\n",
       "    <tr>\n",
       "      <th>5617</th>\n",
       "      <td>0.952981</td>\n",
       "      <td>0.047019</td>\n",
       "    </tr>\n",
       "    <tr>\n",
       "      <th>5618</th>\n",
       "      <td>0.050488</td>\n",
       "      <td>0.949512</td>\n",
       "    </tr>\n",
       "    <tr>\n",
       "      <th>5619</th>\n",
       "      <td>0.004065</td>\n",
       "      <td>0.995935</td>\n",
       "    </tr>\n",
       "    <tr>\n",
       "      <th>5620</th>\n",
       "      <td>0.043889</td>\n",
       "      <td>0.956111</td>\n",
       "    </tr>\n",
       "  </tbody>\n",
       "</table>\n",
       "<p>5621 rows × 2 columns</p>\n",
       "</div>"
      ],
      "text/plain": [
       "      predict_proba_-1  predict_proba_1\n",
       "0             0.938101         0.061899\n",
       "1             0.083199         0.916801\n",
       "2             0.991914         0.008086\n",
       "3             0.996089         0.003911\n",
       "4             0.216592         0.783408\n",
       "...                ...              ...\n",
       "5616          0.008025         0.991975\n",
       "5617          0.952981         0.047019\n",
       "5618          0.050488         0.949512\n",
       "5619          0.004065         0.995935\n",
       "5620          0.043889         0.956111\n",
       "\n",
       "[5621 rows x 2 columns]"
      ]
     },
     "execution_count": 124,
     "metadata": {},
     "output_type": "execute_result"
    }
   ],
   "source": [
    "predict_proba = pd.DataFrame(svc.predict_proba(X_test), columns=['predict_proba_-1', 'predict_proba_1'])\n",
    "predict_proba"
   ]
  },
  {
   "cell_type": "markdown",
   "id": "2678100e",
   "metadata": {},
   "source": [
    "# Confusion Matrix"
   ]
  },
  {
   "cell_type": "code",
   "execution_count": 125,
   "id": "658b3228",
   "metadata": {},
   "outputs": [],
   "source": [
    "# View confusion matrix for test data and predictions\n",
    "cm =confusion_matrix(y_test, y_pred)"
   ]
  },
  {
   "cell_type": "code",
   "execution_count": 126,
   "id": "f88d9696",
   "metadata": {},
   "outputs": [
    {
     "data": {
      "text/plain": [
       "<Axes: >"
      ]
     },
     "execution_count": 126,
     "metadata": {},
     "output_type": "execute_result"
    },
    {
     "data": {
      "image/png": "[encoded data removed]",
      "text/plain": [
       "<Figure size 640x480 with 2 Axes>"
      ]
     },
     "metadata": {},
     "output_type": "display_data"
    }
   ],
   "source": [
    "# visualize confusion matrix with seaborn heatmap\n",
    "\n",
    "cm_matrix = pd.DataFrame(data=cm, columns=['Actual Positive:1', 'Actual Negative:-1'], \n",
    "                                 index=['Predict Positive:1', 'Predict Negative:-1'])\n",
    "\n",
    "sns.heatmap(cm_matrix, annot=True, fmt='d', cmap='YlGnBu')"
   ]
  },
  {
   "cell_type": "code",
   "execution_count": 127,
   "id": "01c84a55",
   "metadata": {},
   "outputs": [
    {
     "name": "stdout",
     "output_type": "stream",
     "text": [
      "              precision    recall  f1-score   support\n",
      "\n",
      "          -1       0.95      0.92      0.93      1571\n",
      "           1       0.97      0.98      0.98      4050\n",
      "\n",
      "    accuracy                           0.96      5621\n",
      "   macro avg       0.96      0.95      0.95      5621\n",
      "weighted avg       0.96      0.96      0.96      5621\n",
      "\n"
     ]
    }
   ],
   "source": [
    "from sklearn.metrics import classification_report\n",
    "print(classification_report(y_test, y_pred))"
   ]
  },
  {
   "cell_type": "code",
   "execution_count": 128,
   "id": "c75cfe51",
   "metadata": {},
   "outputs": [
    {
     "name": "stdout",
     "output_type": "stream",
     "text": [
      "Confusion matrix\n",
      "\n",
      " [[1442  129]\n",
      " [  73 3977]]\n",
      "\n",
      "True Positives(TP) =  1442\n",
      "\n",
      "True Negatives(TN) =  3977\n",
      "\n",
      "False Positives(FP) =  129\n",
      "\n",
      "False Negatives(FN) =  73\n"
     ]
    }
   ],
   "source": [
    "# Print the Confusion Matrix and slice it into four pieces\n",
    "\n",
    "from sklearn.metrics import confusion_matrix\n",
    "\n",
    "cm = confusion_matrix(y_test, y_pred)\n",
    "\n",
    "print('Confusion matrix\\n\\n', cm)\n",
    "\n",
    "print('\\nTrue Positives(TP) = ', cm[0,0])\n",
    "\n",
    "print('\\nTrue Negatives(TN) = ', cm[-1,-1])\n",
    "\n",
    "print('\\nFalse Positives(FP) = ', cm[0,-1])\n",
    "\n",
    "print('\\nFalse Negatives(FN) = ', cm[-1,0])"
   ]
  },
  {
   "cell_type": "code",
   "execution_count": 129,
   "id": "f007eb92",
   "metadata": {},
   "outputs": [],
   "source": [
    "TP = cm[0,0]\n",
    "TN = cm[-1,-1]\n",
    "FP = cm[0,-1]\n",
    "FN = cm[-1,0]"
   ]
  },
  {
   "cell_type": "code",
   "execution_count": 130,
   "id": "1a6bf34f",
   "metadata": {},
   "outputs": [
    {
     "name": "stdout",
     "output_type": "stream",
     "text": [
      "Classification accuracy : 0.9641\n"
     ]
    }
   ],
   "source": [
    "classification_accuracy = (TP + TN) / float(TP + TN + FP + FN)\n",
    "\n",
    "print('Classification accuracy : {0:0.4f}'.format(classification_accuracy))"
   ]
  },
  {
   "cell_type": "code",
   "execution_count": 131,
   "id": "b5900c0b",
   "metadata": {},
   "outputs": [
    {
     "name": "stdout",
     "output_type": "stream",
     "text": [
      "Precision : 0.9179\n"
     ]
    }
   ],
   "source": [
    "# print precision score\n",
    "\n",
    "precision = TP / float(TP + FP)\n",
    "print('Precision : {0:0.4f}'.format(precision))"
   ]
  },
  {
   "cell_type": "code",
   "execution_count": 132,
   "id": "c0e5c8eb",
   "metadata": {},
   "outputs": [
    {
     "name": "stdout",
     "output_type": "stream",
     "text": [
      "Recall or Sensitivity : 0.9518\n"
     ]
    }
   ],
   "source": [
    "recall = TP / float(TP + FN)\n",
    "print('Recall or Sensitivity : {0:0.4f}'.format(recall))"
   ]
  },
  {
   "cell_type": "code",
   "execution_count": 133,
   "id": "d053b490",
   "metadata": {},
   "outputs": [
    {
     "data": {
      "text/plain": [
       "0.9499310025068565"
      ]
     },
     "execution_count": 133,
     "metadata": {},
     "output_type": "execute_result"
    }
   ],
   "source": [
    "auc = roc_auc_score(y_test, y_pred)\n",
    "auc"
   ]
  },
  {
   "cell_type": "code",
   "execution_count": 134,
   "id": "0367dddd",
   "metadata": {},
   "outputs": [],
   "source": [
    "cm = confusion_matrix(y_test, y_pred)\n",
    "predicted_probab_log = svc.predict_proba(X_test)\n",
    "predicted_probab_log = predicted_probab_log[:, 1]\n",
    "fpr, tpr, _ = roc_curve(y_test, predicted_probab_log)"
   ]
  },
  {
   "cell_type": "code",
   "execution_count": 135,
   "id": "445cb5f7",
   "metadata": {},
   "outputs": [
    {
     "data": {
      "image/png": "[encoded data removed]",
      "text/plain": [
       "<Figure size 640x480 with 1 Axes>"
      ]
     },
     "metadata": {},
     "output_type": "display_data"
    }
   ],
   "source": [
    "from matplotlib import pyplot\n",
    "pyplot.plot(fpr, tpr, marker='.', label='SVM')\n",
    "pyplot.xlabel('False Positive Rate')\n",
    "pyplot.ylabel('True Positive Rate')\n",
    "pyplot.legend()\n",
    "pyplot.show()"
   ]
  },
  {
   "cell_type": "code",
   "execution_count": 136,
   "id": "dce7a864",
   "metadata": {},
   "outputs": [
    {
     "data": {
      "text/html": [
       "<style>#sk-container-id-4 {color: black;}#sk-container-id-4 pre{padding: 0;}#sk-container-id-4 div.sk-toggleable {background-color: white;}#sk-container-id-4 label.sk-toggleable__label {cursor: pointer;display: block;width: 100%;margin-bottom: 0;padding: 0.3em;box-sizing: border-box;text-align: center;}#sk-container-id-4 label.sk-toggleable__label-arrow:before {content: \"▸\";float: left;margin-right: 0.25em;color: #696969;}#sk-container-id-4 label.sk-toggleable__label-arrow:hover:before {color: black;}#sk-container-id-4 div.sk-estimator:hover label.sk-toggleable__label-arrow:before {color: black;}#sk-container-id-4 div.sk-toggleable__content {max-height: 0;max-width: 0;overflow: hidden;text-align: left;background-color: #f0f8ff;}#sk-container-id-4 div.sk-toggleable__content pre {margin: 0.2em;color: black;border-radius: 0.25em;background-color: #f0f8ff;}#sk-container-id-4 input.sk-toggleable__control:checked~div.sk-toggleable__content {max-height: 200px;max-width: 100%;overflow: auto;}#sk-container-id-4 input.sk-toggleable__control:checked~label.sk-toggleable__label-arrow:before {content: \"▾\";}#sk-container-id-4 div.sk-estimator input.sk-toggleable__control:checked~label.sk-toggleable__label {background-color: #d4ebff;}#sk-container-id-4 div.sk-label input.sk-toggleable__control:checked~label.sk-toggleable__label {background-color: #d4ebff;}#sk-container-id-4 input.sk-hidden--visually {border: 0;clip: rect(1px 1px 1px 1px);clip: rect(1px, 1px, 1px, 1px);height: 1px;margin: -1px;overflow: hidden;padding: 0;position: absolute;width: 1px;}#sk-container-id-4 div.sk-estimator {font-family: monospace;background-color: #f0f8ff;border: 1px dotted black;border-radius: 0.25em;box-sizing: border-box;margin-bottom: 0.5em;}#sk-container-id-4 div.sk-estimator:hover {background-color: #d4ebff;}#sk-container-id-4 div.sk-parallel-item::after {content: \"\";width: 100%;border-bottom: 1px solid gray;flex-grow: 1;}#sk-container-id-4 div.sk-label:hover label.sk-toggleable__label {background-color: #d4ebff;}#sk-container-id-4 div.sk-serial::before {content: \"\";position: absolute;border-left: 1px solid gray;box-sizing: border-box;top: 0;bottom: 0;left: 50%;z-index: 0;}#sk-container-id-4 div.sk-serial {display: flex;flex-direction: column;align-items: center;background-color: white;padding-right: 0.2em;padding-left: 0.2em;position: relative;}#sk-container-id-4 div.sk-item {position: relative;z-index: 1;}#sk-container-id-4 div.sk-parallel {display: flex;align-items: stretch;justify-content: center;background-color: white;position: relative;}#sk-container-id-4 div.sk-item::before, #sk-container-id-4 div.sk-parallel-item::before {content: \"\";position: absolute;border-left: 1px solid gray;box-sizing: border-box;top: 0;bottom: 0;left: 50%;z-index: -1;}#sk-container-id-4 div.sk-parallel-item {display: flex;flex-direction: column;z-index: 1;position: relative;background-color: white;}#sk-container-id-4 div.sk-parallel-item:first-child::after {align-self: flex-end;width: 50%;}#sk-container-id-4 div.sk-parallel-item:last-child::after {align-self: flex-start;width: 50%;}#sk-container-id-4 div.sk-parallel-item:only-child::after {width: 0;}#sk-container-id-4 div.sk-dashed-wrapped {border: 1px dashed gray;margin: 0 0.4em 0.5em 0.4em;box-sizing: border-box;padding-bottom: 0.4em;background-color: white;}#sk-container-id-4 div.sk-label label {font-family: monospace;font-weight: bold;display: inline-block;line-height: 1.2em;}#sk-container-id-4 div.sk-label-container {text-align: center;}#sk-container-id-4 div.sk-container {/* jupyter's `normalize.less` sets `[hidden] { display: none; }` but bootstrap.min.css set `[hidden] { display: none !important; }` so we also need the `!important` here to be able to override the default hidden behavior on the sphinx rendered scikit-learn.org. See: https://github.com/scikit-learn/scikit-learn/issues/21755 */display: inline-block !important;position: relative;}#sk-container-id-4 div.sk-text-repr-fallback {display: none;}</style><div id=\"sk-container-id-4\" class=\"sk-top-container\"><div class=\"sk-text-repr-fallback\"><pre>SVC(probability=True, random_state=22)</pre><b>In a Jupyter environment, please rerun this cell to show the HTML representation or trust the notebook. <br />On GitHub, the HTML representation is unable to render, please try loading this page with nbviewer.org.</b></div><div class=\"sk-container\" hidden><div class=\"sk-item\"><div class=\"sk-estimator sk-toggleable\"><input class=\"sk-toggleable__control sk-hidden--visually\" id=\"sk-estimator-id-4\" type=\"checkbox\" checked><label for=\"sk-estimator-id-4\" class=\"sk-toggleable__label sk-toggleable__label-arrow\">SVC</label><div class=\"sk-toggleable__content\"><pre>SVC(probability=True, random_state=22)</pre></div></div></div></div></div>"
      ],
      "text/plain": [
       "SVC(probability=True, random_state=22)"
      ]
     },
     "execution_count": 136,
     "metadata": {},
     "output_type": "execute_result"
    }
   ],
   "source": [
    "svc_model=SVC(random_state = 22,probability = True)\n",
    "svc_model.fit(X_train,y_train)"
   ]
  },
  {
   "cell_type": "code",
   "execution_count": 137,
   "id": "0207735f",
   "metadata": {},
   "outputs": [
    {
     "data": {
      "text/plain": [
       "0.9967977228251201"
      ]
     },
     "execution_count": 137,
     "metadata": {},
     "output_type": "execute_result"
    }
   ],
   "source": [
    "y_prob = svc_model.predict_proba(X_test)[:,1] # This will give you positive class prediction probabilities  \n",
    "y_pred = np.where(y_prob > 0.5, 1, -1) # This will threshold the probabilities to give class predictions.\n",
    "svc_model.score(X_test, y_pred)"
   ]
  },
  {
   "cell_type": "code",
   "execution_count": 138,
   "id": "b52296e4",
   "metadata": {},
   "outputs": [
    {
     "data": {
      "text/plain": [
       "0.9516843089641731"
      ]
     },
     "execution_count": 138,
     "metadata": {},
     "output_type": "execute_result"
    }
   ],
   "source": [
    "auc_roc=metrics.roc_auc_score(y_test,y_pred)\n",
    "auc_roc"
   ]
  },
  {
   "cell_type": "code",
   "execution_count": 139,
   "id": "78eb008f",
   "metadata": {},
   "outputs": [
    {
     "data": {
      "text/plain": [
       "0.99283989909706"
      ]
     },
     "execution_count": 139,
     "metadata": {},
     "output_type": "execute_result"
    }
   ],
   "source": [
    "from sklearn.metrics import roc_curve, auc\n",
    "false_positive_rate, true_positive_rate, thresholds = roc_curve(y_test, y_prob)\n",
    "roc_auc = auc(false_positive_rate, true_positive_rate)\n",
    "roc_auc"
   ]
  },
  {
   "cell_type": "code",
   "execution_count": 140,
   "id": "16fd5c1c",
   "metadata": {},
   "outputs": [
    {
     "data": {
      "text/plain": [
       "Text(0.5, 0, 'False Positive Rate')"
      ]
     },
     "execution_count": 140,
     "metadata": {},
     "output_type": "execute_result"
    },
    {
     "data": {
      "image/png": "[encoded data removed]",
      "text/plain": [
       "<Figure size 1000x1000 with 1 Axes>"
      ]
     },
     "metadata": {},
     "output_type": "display_data"
    }
   ],
   "source": [
    "import matplotlib.pyplot as plt\n",
    "plt.figure(figsize=(10,10))\n",
    "plt.title('ROC')\n",
    "plt.plot(false_positive_rate,true_positive_rate, color='red',label = 'AUC = %0.2f' % roc_auc)\n",
    "plt.legend(loc = 'lower right')\n",
    "plt.plot([0, 1], [0, 1],linestyle='--')\n",
    "plt.axis('tight')\n",
    "plt.ylabel('True Positive Rate')\n",
    "plt.xlabel('False Positive Rate')"
   ]
  },
  {
   "cell_type": "code",
   "execution_count": 142,
   "id": "a7dd933f",
   "metadata": {},
   "outputs": [
    {
     "data": {
      "text/plain": [
       "label\n",
       " 1    20249\n",
       "-1     7852\n",
       "Name: count, dtype: int64"
      ]
     },
     "execution_count": 142,
     "metadata": {},
     "output_type": "execute_result"
    }
   ],
   "source": [
    "label.value_counts()"
   ]
  },
  {
   "cell_type": "code",
   "execution_count": null,
   "id": "9e1245d2-61ba-4803-8d9b-6d3709292ccb",
   "metadata": {},
   "outputs": [],
   "source": []
  },
  {
   "cell_type": "code",
   "execution_count": null,
   "id": "7b8e2664-edca-475d-9228-134e5a3b449c",
   "metadata": {},
   "outputs": [],
   "source": []
  },
  {
   "cell_type": "code",
   "execution_count": null,
   "id": "96f12c9e-3ee4-4fc7-bb93-21d1fe866115",
   "metadata": {},
   "outputs": [],
   "source": []
  },
  {
   "cell_type": "code",
   "execution_count": null,
   "id": "f66a2ad3-b42a-4125-8c6c-ebde378f73c6",
   "metadata": {},
   "outputs": [],
   "source": []
  },
  {
   "cell_type": "code",
   "execution_count": null,
   "id": "7e371cfa-1ca6-4a02-9d62-9e4d254ebec9",
   "metadata": {},
   "outputs": [],
   "source": []
  },
  {
   "cell_type": "code",
   "execution_count": null,
   "id": "c469b0fa-5514-472a-a6cb-bb5f61063979",
   "metadata": {},
   "outputs": [],
   "source": []
  },
  {
   "cell_type": "code",
   "execution_count": null,
   "id": "ae00d09f-ce96-475a-9521-b08cbaf968b8",
   "metadata": {},
   "outputs": [],
   "source": []
  },
  {
   "cell_type": "code",
   "execution_count": null,
   "id": "ed595b0c-db36-41b0-8eca-5a64f11acbaf",
   "metadata": {},
   "outputs": [],
   "source": []
  },
  {
   "cell_type": "code",
   "execution_count": null,
   "id": "935350ac-8e94-423d-952c-46f6c7d0ea4f",
   "metadata": {},
   "outputs": [],
   "source": []
  },
  {
   "cell_type": "code",
   "execution_count": null,
   "id": "46b1b812-a410-4ffc-82c1-85f0f44917f3",
   "metadata": {},
   "outputs": [],
   "source": []
  },
  {
   "cell_type": "code",
   "execution_count": null,
   "id": "36a92688-f088-470f-81df-658eb4b1ecb2",
   "metadata": {},
   "outputs": [],
   "source": []
  },
  {
   "cell_type": "code",
   "execution_count": null,
   "id": "a904226a-28d4-4cfd-a656-daebaf97ca06",
   "metadata": {},
   "outputs": [],
   "source": []
  },
  {
   "cell_type": "code",
   "execution_count": null,
   "id": "33a9089a-450e-48ba-b982-156f6464c578",
   "metadata": {},
   "outputs": [],
   "source": []
  }
 ],
 "metadata": {
  "colab": {
   "provenance": []
  },
  "kernelspec": {
   "display_name": "Python 3 (ipykernel)",
   "language": "python",
   "name": "python3"
  },
  "language_info": {
   "codemirror_mode": {
    "name": "ipython",
    "version": 3
   },
   "file_extension": ".py",
   "mimetype": "text/x-python",
   "name": "python",
   "nbconvert_exporter": "python",
   "pygments_lexer": "ipython3",
   "version": "3.11.5"
  }
 },
 "nbformat": 4,
 "nbformat_minor": 5
}
